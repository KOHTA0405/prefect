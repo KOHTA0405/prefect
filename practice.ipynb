{
 "cells": [
  {
   "attachments": {},
   "cell_type": "markdown",
   "metadata": {},
   "source": [
    "[参考記事](https://qiita.com/koji_mats/items/0533fbdeb9012a7e1494#appendix-prefect%E3%82%92k8s%E3%81%B8%E3%83%87%E3%83%97%E3%83%AD%E3%82%A4%E3%81%99%E3%82%8B%E6%89%8B%E9%A0%86)"
   ]
  },
  {
   "attachments": {},
   "cell_type": "markdown",
   "metadata": {},
   "source": [
    "# メモ\n",
    "\n",
    "* flowやtaskにはユニークな名前を付ける必要がある(そうでないと警告発生)"
   ]
  },
  {
   "attachments": {},
   "cell_type": "markdown",
   "metadata": {},
   "source": [
    "# 1. Hello World!!"
   ]
  },
  {
   "cell_type": "code",
   "execution_count": null,
   "metadata": {},
   "outputs": [],
   "source": [
    "# ver1での書き方\n",
    "# 2系で実施しているので、実行エラー\n",
    "# from prefect import Flow, task\n",
    "\n",
    "# @task\n",
    "# def get_name():\n",
    "#     return \"world\"\n",
    "\n",
    "# @task\n",
    "# def hello(who):\n",
    "#     print(\"hello, {}!\".format(who))\n",
    "\n",
    "# with Flow(\"HelloWorld\") as flow:\n",
    "#     who = get_name()\n",
    "#     hello_world = hello(who)\n",
    "\n",
    "# flow.run()"
   ]
  },
  {
   "cell_type": "code",
   "execution_count": 3,
   "metadata": {},
   "outputs": [
    {
     "name": "stderr",
     "output_type": "stream",
     "text": [
      "/Users/kohta/workspace/prefect/venv/lib/python3.10/site-packages/prefect/tasks.py:298: UserWarning: A task named 'get name task' and defined at '/var/folders/q5/s5mcbmt95hd29sp3b9xmr2580000gn/T/ipykernel_57820/690448971.py:4' conflicts with another task. Consider specifying a unique `name` parameter in the task definition:\n",
      "\n",
      " `@task(name='my_unique_name', ...)`\n",
      "  warnings.warn(\n",
      "/Users/kohta/workspace/prefect/venv/lib/python3.10/site-packages/prefect/tasks.py:298: UserWarning: A task named 'hello task' and defined at '/var/folders/q5/s5mcbmt95hd29sp3b9xmr2580000gn/T/ipykernel_57820/690448971.py:8' conflicts with another task. Consider specifying a unique `name` parameter in the task definition:\n",
      "\n",
      " `@task(name='my_unique_name', ...)`\n",
      "  warnings.warn(\n",
      "/Users/kohta/workspace/prefect/venv/lib/python3.10/site-packages/prefect/flows.py:244: UserWarning: A flow named 'greeting flow' and defined at '/var/folders/q5/s5mcbmt95hd29sp3b9xmr2580000gn/T/ipykernel_57820/690448971.py:12' conflicts with another flow. Consider specifying a unique `name` parameter in the flow definition:\n",
      "\n",
      " `@flow(name='my_unique_name', ...)`\n",
      "  warnings.warn(\n"
     ]
    },
    {
     "data": {
      "text/html": [
       "<pre style=\"white-space:pre;overflow-x:auto;line-height:normal;font-family:Menlo,'DejaVu Sans Mono',consolas,'Courier New',monospace\">09:05:44.848 | <span style=\"color: #008080; text-decoration-color: #008080\">INFO</span>    | prefect.engine - Created flow run<span style=\"color: #800080; text-decoration-color: #800080\"> 'tentacled-wildebeest'</span> for flow<span style=\"color: #800080; text-decoration-color: #800080; font-weight: bold\"> 'greeting flow'</span>\n",
       "</pre>\n"
      ],
      "text/plain": [
       "09:05:44.848 | \u001b[36mINFO\u001b[0m    | prefect.engine - Created flow run\u001b[35m 'tentacled-wildebeest'\u001b[0m for flow\u001b[1;35m 'greeting flow'\u001b[0m\n"
      ]
     },
     "metadata": {},
     "output_type": "display_data"
    },
    {
     "data": {
      "text/html": [
       "<pre style=\"white-space:pre;overflow-x:auto;line-height:normal;font-family:Menlo,'DejaVu Sans Mono',consolas,'Courier New',monospace\">09:05:44.930 | <span style=\"color: #008080; text-decoration-color: #008080\">INFO</span>    | Flow run<span style=\"color: #800080; text-decoration-color: #800080\"> 'tentacled-wildebeest'</span> - Created task run 'get name task-0' for task 'get name task'\n",
       "</pre>\n"
      ],
      "text/plain": [
       "09:05:44.930 | \u001b[36mINFO\u001b[0m    | Flow run\u001b[35m 'tentacled-wildebeest'\u001b[0m - Created task run 'get name task-0' for task 'get name task'\n"
      ]
     },
     "metadata": {},
     "output_type": "display_data"
    },
    {
     "data": {
      "text/html": [
       "<pre style=\"white-space:pre;overflow-x:auto;line-height:normal;font-family:Menlo,'DejaVu Sans Mono',consolas,'Courier New',monospace\">09:05:44.931 | <span style=\"color: #008080; text-decoration-color: #008080\">INFO</span>    | Flow run<span style=\"color: #800080; text-decoration-color: #800080\"> 'tentacled-wildebeest'</span> - Executing 'get name task-0' immediately...\n",
       "</pre>\n"
      ],
      "text/plain": [
       "09:05:44.931 | \u001b[36mINFO\u001b[0m    | Flow run\u001b[35m 'tentacled-wildebeest'\u001b[0m - Executing 'get name task-0' immediately...\n"
      ]
     },
     "metadata": {},
     "output_type": "display_data"
    },
    {
     "data": {
      "text/html": [
       "<pre style=\"white-space:pre;overflow-x:auto;line-height:normal;font-family:Menlo,'DejaVu Sans Mono',consolas,'Courier New',monospace\">09:05:44.980 | <span style=\"color: #008080; text-decoration-color: #008080\">INFO</span>    | Task run 'get name task-0' - Finished in state <span style=\"color: #008000; text-decoration-color: #008000\">Completed</span>()\n",
       "</pre>\n"
      ],
      "text/plain": [
       "09:05:44.980 | \u001b[36mINFO\u001b[0m    | Task run 'get name task-0' - Finished in state \u001b[32mCompleted\u001b[0m()\n"
      ]
     },
     "metadata": {},
     "output_type": "display_data"
    },
    {
     "data": {
      "text/html": [
       "<pre style=\"white-space:pre;overflow-x:auto;line-height:normal;font-family:Menlo,'DejaVu Sans Mono',consolas,'Courier New',monospace\">09:05:44.995 | <span style=\"color: #008080; text-decoration-color: #008080\">INFO</span>    | Flow run<span style=\"color: #800080; text-decoration-color: #800080\"> 'tentacled-wildebeest'</span> - Created task run 'hello task-0' for task 'hello task'\n",
       "</pre>\n"
      ],
      "text/plain": [
       "09:05:44.995 | \u001b[36mINFO\u001b[0m    | Flow run\u001b[35m 'tentacled-wildebeest'\u001b[0m - Created task run 'hello task-0' for task 'hello task'\n"
      ]
     },
     "metadata": {},
     "output_type": "display_data"
    },
    {
     "data": {
      "text/html": [
       "<pre style=\"white-space:pre;overflow-x:auto;line-height:normal;font-family:Menlo,'DejaVu Sans Mono',consolas,'Courier New',monospace\">09:05:44.996 | <span style=\"color: #008080; text-decoration-color: #008080\">INFO</span>    | Flow run<span style=\"color: #800080; text-decoration-color: #800080\"> 'tentacled-wildebeest'</span> - Executing 'hello task-0' immediately...\n",
       "</pre>\n"
      ],
      "text/plain": [
       "09:05:44.996 | \u001b[36mINFO\u001b[0m    | Flow run\u001b[35m 'tentacled-wildebeest'\u001b[0m - Executing 'hello task-0' immediately...\n"
      ]
     },
     "metadata": {},
     "output_type": "display_data"
    },
    {
     "name": "stdout",
     "output_type": "stream",
     "text": [
      "Hello, World!\n"
     ]
    },
    {
     "data": {
      "text/html": [
       "<pre style=\"white-space:pre;overflow-x:auto;line-height:normal;font-family:Menlo,'DejaVu Sans Mono',consolas,'Courier New',monospace\">09:05:45.076 | <span style=\"color: #008080; text-decoration-color: #008080\">INFO</span>    | Task run 'hello task-0' - Finished in state <span style=\"color: #008000; text-decoration-color: #008000\">Completed</span>()\n",
       "</pre>\n"
      ],
      "text/plain": [
       "09:05:45.076 | \u001b[36mINFO\u001b[0m    | Task run 'hello task-0' - Finished in state \u001b[32mCompleted\u001b[0m()\n"
      ]
     },
     "metadata": {},
     "output_type": "display_data"
    },
    {
     "data": {
      "text/html": [
       "<pre style=\"white-space:pre;overflow-x:auto;line-height:normal;font-family:Menlo,'DejaVu Sans Mono',consolas,'Courier New',monospace\">09:05:45.092 | <span style=\"color: #008080; text-decoration-color: #008080\">INFO</span>    | Flow run<span style=\"color: #800080; text-decoration-color: #800080\"> 'tentacled-wildebeest'</span> - Finished in state <span style=\"color: #008000; text-decoration-color: #008000\">Completed</span>('All states completed.')\n",
       "</pre>\n"
      ],
      "text/plain": [
       "09:05:45.092 | \u001b[36mINFO\u001b[0m    | Flow run\u001b[35m 'tentacled-wildebeest'\u001b[0m - Finished in state \u001b[32mCompleted\u001b[0m('All states completed.')\n"
      ]
     },
     "metadata": {},
     "output_type": "display_data"
    }
   ],
   "source": [
    "# 記事の内容を2系で書き換え\n",
    "from prefect import task, flow\n",
    "\n",
    "@task(name=\"get name task\")\n",
    "def get_name():\n",
    "    return(\"World\")\n",
    "\n",
    "@task(name=\"hello task\")\n",
    "def hello(who):\n",
    "    print(f\"Hello, {who}!\")\n",
    "\n",
    "@flow(name=\"greeting flow\")\n",
    "def greeting_flow():\n",
    "    who = get_name()\n",
    "    hello(who)\n",
    "\n",
    "if __name__ == \"__main__\":\n",
    "    greeting_flow()"
   ]
  },
  {
   "attachments": {},
   "cell_type": "markdown",
   "metadata": {},
   "source": [
    "# 2. パラメータ化\n",
    "\n",
    "* flow実行時にパラメータを渡して、タスク内で使用する"
   ]
  },
  {
   "cell_type": "code",
   "execution_count": 4,
   "metadata": {},
   "outputs": [
    {
     "name": "stderr",
     "output_type": "stream",
     "text": [
      "/Users/kohta/workspace/prefect/venv/lib/python3.10/site-packages/prefect/tasks.py:298: UserWarning: A task named 'get name task' and defined at '/var/folders/q5/s5mcbmt95hd29sp3b9xmr2580000gn/T/ipykernel_57820/1155948213.py:4' conflicts with another task. Consider specifying a unique `name` parameter in the task definition:\n",
      "\n",
      " `@task(name='my_unique_name', ...)`\n",
      "  warnings.warn(\n",
      "/Users/kohta/workspace/prefect/venv/lib/python3.10/site-packages/prefect/tasks.py:298: UserWarning: A task named 'hello task' and defined at '/var/folders/q5/s5mcbmt95hd29sp3b9xmr2580000gn/T/ipykernel_57820/1155948213.py:8' conflicts with another task. Consider specifying a unique `name` parameter in the task definition:\n",
      "\n",
      " `@task(name='my_unique_name', ...)`\n",
      "  warnings.warn(\n",
      "/Users/kohta/workspace/prefect/venv/lib/python3.10/site-packages/prefect/flows.py:244: UserWarning: A flow named 'greeting flow' and defined at '/var/folders/q5/s5mcbmt95hd29sp3b9xmr2580000gn/T/ipykernel_57820/1155948213.py:12' conflicts with another flow. Consider specifying a unique `name` parameter in the flow definition:\n",
      "\n",
      " `@flow(name='my_unique_name', ...)`\n",
      "  warnings.warn(\n"
     ]
    },
    {
     "data": {
      "text/html": [
       "<pre style=\"white-space:pre;overflow-x:auto;line-height:normal;font-family:Menlo,'DejaVu Sans Mono',consolas,'Courier New',monospace\">09:23:58.012 | <span style=\"color: #008080; text-decoration-color: #008080\">INFO</span>    | prefect.engine - Created flow run<span style=\"color: #800080; text-decoration-color: #800080\"> 'hidden-salmon'</span> for flow<span style=\"color: #800080; text-decoration-color: #800080; font-weight: bold\"> 'greeting flow'</span>\n",
       "</pre>\n"
      ],
      "text/plain": [
       "09:23:58.012 | \u001b[36mINFO\u001b[0m    | prefect.engine - Created flow run\u001b[35m 'hidden-salmon'\u001b[0m for flow\u001b[1;35m 'greeting flow'\u001b[0m\n"
      ]
     },
     "metadata": {},
     "output_type": "display_data"
    },
    {
     "data": {
      "text/html": [
       "<pre style=\"white-space:pre;overflow-x:auto;line-height:normal;font-family:Menlo,'DejaVu Sans Mono',consolas,'Courier New',monospace\">09:23:58.083 | <span style=\"color: #008080; text-decoration-color: #008080\">INFO</span>    | Flow run<span style=\"color: #800080; text-decoration-color: #800080\"> 'hidden-salmon'</span> - Created task run 'get name task-0' for task 'get name task'\n",
       "</pre>\n"
      ],
      "text/plain": [
       "09:23:58.083 | \u001b[36mINFO\u001b[0m    | Flow run\u001b[35m 'hidden-salmon'\u001b[0m - Created task run 'get name task-0' for task 'get name task'\n"
      ]
     },
     "metadata": {},
     "output_type": "display_data"
    },
    {
     "data": {
      "text/html": [
       "<pre style=\"white-space:pre;overflow-x:auto;line-height:normal;font-family:Menlo,'DejaVu Sans Mono',consolas,'Courier New',monospace\">09:23:58.084 | <span style=\"color: #008080; text-decoration-color: #008080\">INFO</span>    | Flow run<span style=\"color: #800080; text-decoration-color: #800080\"> 'hidden-salmon'</span> - Executing 'get name task-0' immediately...\n",
       "</pre>\n"
      ],
      "text/plain": [
       "09:23:58.084 | \u001b[36mINFO\u001b[0m    | Flow run\u001b[35m 'hidden-salmon'\u001b[0m - Executing 'get name task-0' immediately...\n"
      ]
     },
     "metadata": {},
     "output_type": "display_data"
    },
    {
     "data": {
      "text/html": [
       "<pre style=\"white-space:pre;overflow-x:auto;line-height:normal;font-family:Menlo,'DejaVu Sans Mono',consolas,'Courier New',monospace\">09:23:58.130 | <span style=\"color: #008080; text-decoration-color: #008080\">INFO</span>    | Task run 'get name task-0' - Finished in state <span style=\"color: #008000; text-decoration-color: #008000\">Completed</span>()\n",
       "</pre>\n"
      ],
      "text/plain": [
       "09:23:58.130 | \u001b[36mINFO\u001b[0m    | Task run 'get name task-0' - Finished in state \u001b[32mCompleted\u001b[0m()\n"
      ]
     },
     "metadata": {},
     "output_type": "display_data"
    },
    {
     "data": {
      "text/html": [
       "<pre style=\"white-space:pre;overflow-x:auto;line-height:normal;font-family:Menlo,'DejaVu Sans Mono',consolas,'Courier New',monospace\">09:23:58.141 | <span style=\"color: #008080; text-decoration-color: #008080\">INFO</span>    | Flow run<span style=\"color: #800080; text-decoration-color: #800080\"> 'hidden-salmon'</span> - Created task run 'hello task-0' for task 'hello task'\n",
       "</pre>\n"
      ],
      "text/plain": [
       "09:23:58.141 | \u001b[36mINFO\u001b[0m    | Flow run\u001b[35m 'hidden-salmon'\u001b[0m - Created task run 'hello task-0' for task 'hello task'\n"
      ]
     },
     "metadata": {},
     "output_type": "display_data"
    },
    {
     "data": {
      "text/html": [
       "<pre style=\"white-space:pre;overflow-x:auto;line-height:normal;font-family:Menlo,'DejaVu Sans Mono',consolas,'Courier New',monospace\">09:23:58.142 | <span style=\"color: #008080; text-decoration-color: #008080\">INFO</span>    | Flow run<span style=\"color: #800080; text-decoration-color: #800080\"> 'hidden-salmon'</span> - Executing 'hello task-0' immediately...\n",
       "</pre>\n"
      ],
      "text/plain": [
       "09:23:58.142 | \u001b[36mINFO\u001b[0m    | Flow run\u001b[35m 'hidden-salmon'\u001b[0m - Executing 'hello task-0' immediately...\n"
      ]
     },
     "metadata": {},
     "output_type": "display_data"
    },
    {
     "name": "stdout",
     "output_type": "stream",
     "text": [
      "Hello, KOH!\n"
     ]
    },
    {
     "data": {
      "text/html": [
       "<pre style=\"white-space:pre;overflow-x:auto;line-height:normal;font-family:Menlo,'DejaVu Sans Mono',consolas,'Courier New',monospace\">09:23:58.187 | <span style=\"color: #008080; text-decoration-color: #008080\">INFO</span>    | Task run 'hello task-0' - Finished in state <span style=\"color: #008000; text-decoration-color: #008000\">Completed</span>()\n",
       "</pre>\n"
      ],
      "text/plain": [
       "09:23:58.187 | \u001b[36mINFO\u001b[0m    | Task run 'hello task-0' - Finished in state \u001b[32mCompleted\u001b[0m()\n"
      ]
     },
     "metadata": {},
     "output_type": "display_data"
    },
    {
     "data": {
      "text/html": [
       "<pre style=\"white-space:pre;overflow-x:auto;line-height:normal;font-family:Menlo,'DejaVu Sans Mono',consolas,'Courier New',monospace\">09:23:58.204 | <span style=\"color: #008080; text-decoration-color: #008080\">INFO</span>    | Flow run<span style=\"color: #800080; text-decoration-color: #800080\"> 'hidden-salmon'</span> - Finished in state <span style=\"color: #008000; text-decoration-color: #008000\">Completed</span>('All states completed.')\n",
       "</pre>\n"
      ],
      "text/plain": [
       "09:23:58.204 | \u001b[36mINFO\u001b[0m    | Flow run\u001b[35m 'hidden-salmon'\u001b[0m - Finished in state \u001b[32mCompleted\u001b[0m('All states completed.')\n"
      ]
     },
     "metadata": {},
     "output_type": "display_data"
    }
   ],
   "source": [
    "# \"name\"という引数をflow側で用意して、taskに渡して実行する\n",
    "from prefect import task, flow\n",
    "\n",
    "@task(name=\"get name task\")\n",
    "def get_name(name):\n",
    "    return name\n",
    "\n",
    "@task(name=\"hello task\")\n",
    "def hello(who):\n",
    "    print(f\"Hello, {who}!\")\n",
    "\n",
    "@flow(name=\"greeting flow\")\n",
    "def greeting_flow(name):\n",
    "    who = get_name(name)\n",
    "    hello(who)\n",
    "\n",
    "if __name__ == \"__main__\":\n",
    "    greeting_flow(\"KOH\")"
   ]
  },
  {
   "attachments": {},
   "cell_type": "markdown",
   "metadata": {},
   "source": [
    "# 3. 依存関係の定義\n",
    "\n",
    "* task1 -> task2の順に実行したいようなケース"
   ]
  },
  {
   "cell_type": "code",
   "execution_count": null,
   "metadata": {},
   "outputs": [],
   "source": [
    "# def my_flow():\n",
    "#     x = task_1.submit()\n",
    "#     # task 2 will wait for task_1 to complete\n",
    "#     # y = task_2.submit(wait_for=[x])"
   ]
  },
  {
   "cell_type": "code",
   "execution_count": 1,
   "metadata": {},
   "outputs": [
    {
     "data": {
      "text/html": [
       "<pre style=\"white-space:pre;overflow-x:auto;line-height:normal;font-family:Menlo,'DejaVu Sans Mono',consolas,'Courier New',monospace\">10:36:40.015 | <span style=\"color: #008080; text-decoration-color: #008080\">INFO</span>    | prefect.engine - Created flow run<span style=\"color: #800080; text-decoration-color: #800080\"> 'brawny-unicorn'</span> for flow<span style=\"color: #800080; text-decoration-color: #800080; font-weight: bold\"> 'hello world flow'</span>\n",
       "</pre>\n"
      ],
      "text/plain": [
       "10:36:40.015 | \u001b[36mINFO\u001b[0m    | prefect.engine - Created flow run\u001b[35m 'brawny-unicorn'\u001b[0m for flow\u001b[1;35m 'hello world flow'\u001b[0m\n"
      ]
     },
     "metadata": {},
     "output_type": "display_data"
    },
    {
     "name": "stdout",
     "output_type": "stream",
     "text": [
      "flowの実行完了\n"
     ]
    },
    {
     "data": {
      "text/html": [
       "<pre style=\"white-space:pre;overflow-x:auto;line-height:normal;font-family:Menlo,'DejaVu Sans Mono',consolas,'Courier New',monospace\">10:36:40.139 | <span style=\"color: #008080; text-decoration-color: #008080\">INFO</span>    | Flow run<span style=\"color: #800080; text-decoration-color: #800080\"> 'brawny-unicorn'</span> - Created task run 'hello task-0' for task 'hello task'\n",
       "</pre>\n"
      ],
      "text/plain": [
       "10:36:40.139 | \u001b[36mINFO\u001b[0m    | Flow run\u001b[35m 'brawny-unicorn'\u001b[0m - Created task run 'hello task-0' for task 'hello task'\n"
      ]
     },
     "metadata": {},
     "output_type": "display_data"
    },
    {
     "data": {
      "text/html": [
       "<pre style=\"white-space:pre;overflow-x:auto;line-height:normal;font-family:Menlo,'DejaVu Sans Mono',consolas,'Courier New',monospace\">10:36:40.140 | <span style=\"color: #008080; text-decoration-color: #008080\">INFO</span>    | Flow run<span style=\"color: #800080; text-decoration-color: #800080\"> 'brawny-unicorn'</span> - Submitted task run 'hello task-0' for execution.\n",
       "</pre>\n"
      ],
      "text/plain": [
       "10:36:40.140 | \u001b[36mINFO\u001b[0m    | Flow run\u001b[35m 'brawny-unicorn'\u001b[0m - Submitted task run 'hello task-0' for execution.\n"
      ]
     },
     "metadata": {},
     "output_type": "display_data"
    },
    {
     "data": {
      "text/html": [
       "<pre style=\"white-space:pre;overflow-x:auto;line-height:normal;font-family:Menlo,'DejaVu Sans Mono',consolas,'Courier New',monospace\">10:36:40.167 | <span style=\"color: #008080; text-decoration-color: #008080\">INFO</span>    | Flow run<span style=\"color: #800080; text-decoration-color: #800080\"> 'brawny-unicorn'</span> - Created task run 'world task-0' for task 'world task'\n",
       "</pre>\n"
      ],
      "text/plain": [
       "10:36:40.167 | \u001b[36mINFO\u001b[0m    | Flow run\u001b[35m 'brawny-unicorn'\u001b[0m - Created task run 'world task-0' for task 'world task'\n"
      ]
     },
     "metadata": {},
     "output_type": "display_data"
    },
    {
     "data": {
      "text/html": [
       "<pre style=\"white-space:pre;overflow-x:auto;line-height:normal;font-family:Menlo,'DejaVu Sans Mono',consolas,'Courier New',monospace\">10:36:40.168 | <span style=\"color: #008080; text-decoration-color: #008080\">INFO</span>    | Flow run<span style=\"color: #800080; text-decoration-color: #800080\"> 'brawny-unicorn'</span> - Submitted task run 'world task-0' for execution.\n",
       "</pre>\n"
      ],
      "text/plain": [
       "10:36:40.168 | \u001b[36mINFO\u001b[0m    | Flow run\u001b[35m 'brawny-unicorn'\u001b[0m - Submitted task run 'world task-0' for execution.\n"
      ]
     },
     "metadata": {},
     "output_type": "display_data"
    },
    {
     "name": "stdout",
     "output_type": "stream",
     "text": [
      "Hello\n"
     ]
    },
    {
     "data": {
      "text/html": [
       "<pre style=\"white-space:pre;overflow-x:auto;line-height:normal;font-family:Menlo,'DejaVu Sans Mono',consolas,'Courier New',monospace\">10:36:40.211 | <span style=\"color: #008080; text-decoration-color: #008080\">INFO</span>    | Task run 'hello task-0' - Finished in state <span style=\"color: #008000; text-decoration-color: #008000\">Completed</span>()\n",
       "</pre>\n"
      ],
      "text/plain": [
       "10:36:40.211 | \u001b[36mINFO\u001b[0m    | Task run 'hello task-0' - Finished in state \u001b[32mCompleted\u001b[0m()\n"
      ]
     },
     "metadata": {},
     "output_type": "display_data"
    },
    {
     "name": "stdout",
     "output_type": "stream",
     "text": [
      "World!!\n"
     ]
    },
    {
     "data": {
      "text/html": [
       "<pre style=\"white-space:pre;overflow-x:auto;line-height:normal;font-family:Menlo,'DejaVu Sans Mono',consolas,'Courier New',monospace\">10:36:40.248 | <span style=\"color: #008080; text-decoration-color: #008080\">INFO</span>    | Task run 'world task-0' - Finished in state <span style=\"color: #008000; text-decoration-color: #008000\">Completed</span>()\n",
       "</pre>\n"
      ],
      "text/plain": [
       "10:36:40.248 | \u001b[36mINFO\u001b[0m    | Task run 'world task-0' - Finished in state \u001b[32mCompleted\u001b[0m()\n"
      ]
     },
     "metadata": {},
     "output_type": "display_data"
    },
    {
     "data": {
      "text/html": [
       "<pre style=\"white-space:pre;overflow-x:auto;line-height:normal;font-family:Menlo,'DejaVu Sans Mono',consolas,'Courier New',monospace\">10:36:40.264 | <span style=\"color: #008080; text-decoration-color: #008080\">INFO</span>    | Flow run<span style=\"color: #800080; text-decoration-color: #800080\"> 'brawny-unicorn'</span> - Finished in state <span style=\"color: #008000; text-decoration-color: #008000\">Completed</span>('All states completed.')\n",
       "</pre>\n"
      ],
      "text/plain": [
       "10:36:40.264 | \u001b[36mINFO\u001b[0m    | Flow run\u001b[35m 'brawny-unicorn'\u001b[0m - Finished in state \u001b[32mCompleted\u001b[0m('All states completed.')\n"
      ]
     },
     "metadata": {},
     "output_type": "display_data"
    }
   ],
   "source": [
    "from prefect import task, flow\n",
    "\n",
    "@task(name=\"hello task\")\n",
    "def task1():\n",
    "    print(\"Hello\")\n",
    "\n",
    "\n",
    "@task(name=\"world task\")\n",
    "def task2():\n",
    "    print(\"World!!\")\n",
    "\n",
    "@flow(name=\"hello world flow\")\n",
    "def hello_world():\n",
    "    x = task1.submit()\n",
    "    y = task2.submit(wait_for=[x])\n",
    "\n",
    "if __name__ == \"__main__\":\n",
    "    hello_world()"
   ]
  },
  {
   "attachments": {},
   "cell_type": "markdown",
   "metadata": {},
   "source": [
    "# 4. 動的Flow\n",
    "* タスクのmapメソッドを使用して、実行時に上流タスクから渡された値に応じて動的にタスクを生成\n",
    "  * mapの引数にリスト(を返すタスクの結果)を渡すと、```リストの各要素ごとにタスクを実行```\n",
    "  * mapで実行されるタスクは可能であれば並列実行されるよう"
   ]
  },
  {
   "cell_type": "code",
   "execution_count": 23,
   "metadata": {},
   "outputs": [
    {
     "name": "stderr",
     "output_type": "stream",
     "text": [
      "/Users/kohta/workspace/prefect/venv/lib/python3.10/site-packages/prefect/tasks.py:298: UserWarning: A task named 'random_list' and defined at '/var/folders/q5/s5mcbmt95hd29sp3b9xmr2580000gn/T/ipykernel_64112/2096989557.py:4' conflicts with another task. Consider specifying a unique `name` parameter in the task definition:\n",
      "\n",
      " `@task(name='my_unique_name', ...)`\n",
      "  warnings.warn(\n",
      "/Users/kohta/workspace/prefect/venv/lib/python3.10/site-packages/prefect/tasks.py:298: UserWarning: A task named 'squared' and defined at '/var/folders/q5/s5mcbmt95hd29sp3b9xmr2580000gn/T/ipykernel_64112/2096989557.py:8' conflicts with another task. Consider specifying a unique `name` parameter in the task definition:\n",
      "\n",
      " `@task(name='my_unique_name', ...)`\n",
      "  warnings.warn(\n",
      "/Users/kohta/workspace/prefect/venv/lib/python3.10/site-packages/prefect/tasks.py:298: UserWarning: A task named 'sum_up' and defined at '/var/folders/q5/s5mcbmt95hd29sp3b9xmr2580000gn/T/ipykernel_64112/2096989557.py:12' conflicts with another task. Consider specifying a unique `name` parameter in the task definition:\n",
      "\n",
      " `@task(name='my_unique_name', ...)`\n",
      "  warnings.warn(\n",
      "/Users/kohta/workspace/prefect/venv/lib/python3.10/site-packages/prefect/flows.py:244: UserWarning: A flow named 'dynamic flow' and defined at '/var/folders/q5/s5mcbmt95hd29sp3b9xmr2580000gn/T/ipykernel_64112/2096989557.py:18' conflicts with another flow. Consider specifying a unique `name` parameter in the flow definition:\n",
      "\n",
      " `@flow(name='my_unique_name', ...)`\n",
      "  warnings.warn(\n"
     ]
    },
    {
     "data": {
      "text/html": [
       "<pre style=\"white-space:pre;overflow-x:auto;line-height:normal;font-family:Menlo,'DejaVu Sans Mono',consolas,'Courier New',monospace\">11:04:54.482 | <span style=\"color: #008080; text-decoration-color: #008080\">INFO</span>    | prefect.engine - Created flow run<span style=\"color: #800080; text-decoration-color: #800080\"> 'loyal-stoat'</span> for flow<span style=\"color: #800080; text-decoration-color: #800080; font-weight: bold\"> 'dynamic flow'</span>\n",
       "</pre>\n"
      ],
      "text/plain": [
       "11:04:54.482 | \u001b[36mINFO\u001b[0m    | prefect.engine - Created flow run\u001b[35m 'loyal-stoat'\u001b[0m for flow\u001b[1;35m 'dynamic flow'\u001b[0m\n"
      ]
     },
     "metadata": {},
     "output_type": "display_data"
    },
    {
     "data": {
      "text/html": [
       "<pre style=\"white-space:pre;overflow-x:auto;line-height:normal;font-family:Menlo,'DejaVu Sans Mono',consolas,'Courier New',monospace\">11:04:54.552 | <span style=\"color: #008080; text-decoration-color: #008080\">INFO</span>    | Flow run<span style=\"color: #800080; text-decoration-color: #800080\"> 'loyal-stoat'</span> - Created task run 'random_list-0' for task 'random_list'\n",
       "</pre>\n"
      ],
      "text/plain": [
       "11:04:54.552 | \u001b[36mINFO\u001b[0m    | Flow run\u001b[35m 'loyal-stoat'\u001b[0m - Created task run 'random_list-0' for task 'random_list'\n"
      ]
     },
     "metadata": {},
     "output_type": "display_data"
    },
    {
     "data": {
      "text/html": [
       "<pre style=\"white-space:pre;overflow-x:auto;line-height:normal;font-family:Menlo,'DejaVu Sans Mono',consolas,'Courier New',monospace\">11:04:54.553 | <span style=\"color: #008080; text-decoration-color: #008080\">INFO</span>    | Flow run<span style=\"color: #800080; text-decoration-color: #800080\"> 'loyal-stoat'</span> - Executing 'random_list-0' immediately...\n",
       "</pre>\n"
      ],
      "text/plain": [
       "11:04:54.553 | \u001b[36mINFO\u001b[0m    | Flow run\u001b[35m 'loyal-stoat'\u001b[0m - Executing 'random_list-0' immediately...\n"
      ]
     },
     "metadata": {},
     "output_type": "display_data"
    },
    {
     "data": {
      "text/html": [
       "<pre style=\"white-space:pre;overflow-x:auto;line-height:normal;font-family:Menlo,'DejaVu Sans Mono',consolas,'Courier New',monospace\">11:04:54.602 | <span style=\"color: #008080; text-decoration-color: #008080\">INFO</span>    | Task run 'random_list-0' - Finished in state <span style=\"color: #008000; text-decoration-color: #008000\">Completed</span>()\n",
       "</pre>\n"
      ],
      "text/plain": [
       "11:04:54.602 | \u001b[36mINFO\u001b[0m    | Task run 'random_list-0' - Finished in state \u001b[32mCompleted\u001b[0m()\n"
      ]
     },
     "metadata": {},
     "output_type": "display_data"
    },
    {
     "data": {
      "text/html": [
       "<pre style=\"white-space:pre;overflow-x:auto;line-height:normal;font-family:Menlo,'DejaVu Sans Mono',consolas,'Courier New',monospace\">11:04:54.632 | <span style=\"color: #008080; text-decoration-color: #008080\">INFO</span>    | Flow run<span style=\"color: #800080; text-decoration-color: #800080\"> 'loyal-stoat'</span> - Created task run 'squared-0' for task 'squared'\n",
       "</pre>\n"
      ],
      "text/plain": [
       "11:04:54.632 | \u001b[36mINFO\u001b[0m    | Flow run\u001b[35m 'loyal-stoat'\u001b[0m - Created task run 'squared-0' for task 'squared'\n"
      ]
     },
     "metadata": {},
     "output_type": "display_data"
    },
    {
     "data": {
      "text/html": [
       "<pre style=\"white-space:pre;overflow-x:auto;line-height:normal;font-family:Menlo,'DejaVu Sans Mono',consolas,'Courier New',monospace\">11:04:54.633 | <span style=\"color: #008080; text-decoration-color: #008080\">INFO</span>    | Flow run<span style=\"color: #800080; text-decoration-color: #800080\"> 'loyal-stoat'</span> - Submitted task run 'squared-0' for execution.\n",
       "</pre>\n"
      ],
      "text/plain": [
       "11:04:54.633 | \u001b[36mINFO\u001b[0m    | Flow run\u001b[35m 'loyal-stoat'\u001b[0m - Submitted task run 'squared-0' for execution.\n"
      ]
     },
     "metadata": {},
     "output_type": "display_data"
    },
    {
     "data": {
      "text/html": [
       "<pre style=\"white-space:pre;overflow-x:auto;line-height:normal;font-family:Menlo,'DejaVu Sans Mono',consolas,'Courier New',monospace\">11:04:54.640 | <span style=\"color: #008080; text-decoration-color: #008080\">INFO</span>    | Flow run<span style=\"color: #800080; text-decoration-color: #800080\"> 'loyal-stoat'</span> - Created task run 'squared-1' for task 'squared'\n",
       "</pre>\n"
      ],
      "text/plain": [
       "11:04:54.640 | \u001b[36mINFO\u001b[0m    | Flow run\u001b[35m 'loyal-stoat'\u001b[0m - Created task run 'squared-1' for task 'squared'\n"
      ]
     },
     "metadata": {},
     "output_type": "display_data"
    },
    {
     "data": {
      "text/html": [
       "<pre style=\"white-space:pre;overflow-x:auto;line-height:normal;font-family:Menlo,'DejaVu Sans Mono',consolas,'Courier New',monospace\">11:04:54.642 | <span style=\"color: #008080; text-decoration-color: #008080\">INFO</span>    | Flow run<span style=\"color: #800080; text-decoration-color: #800080\"> 'loyal-stoat'</span> - Submitted task run 'squared-1' for execution.\n",
       "</pre>\n"
      ],
      "text/plain": [
       "11:04:54.642 | \u001b[36mINFO\u001b[0m    | Flow run\u001b[35m 'loyal-stoat'\u001b[0m - Submitted task run 'squared-1' for execution.\n"
      ]
     },
     "metadata": {},
     "output_type": "display_data"
    },
    {
     "data": {
      "text/html": [
       "<pre style=\"white-space:pre;overflow-x:auto;line-height:normal;font-family:Menlo,'DejaVu Sans Mono',consolas,'Courier New',monospace\">11:04:54.683 | <span style=\"color: #008080; text-decoration-color: #008080\">INFO</span>    | Flow run<span style=\"color: #800080; text-decoration-color: #800080\"> 'loyal-stoat'</span> - Created task run 'squared-2' for task 'squared'\n",
       "</pre>\n"
      ],
      "text/plain": [
       "11:04:54.683 | \u001b[36mINFO\u001b[0m    | Flow run\u001b[35m 'loyal-stoat'\u001b[0m - Created task run 'squared-2' for task 'squared'\n"
      ]
     },
     "metadata": {},
     "output_type": "display_data"
    },
    {
     "data": {
      "text/html": [
       "<pre style=\"white-space:pre;overflow-x:auto;line-height:normal;font-family:Menlo,'DejaVu Sans Mono',consolas,'Courier New',monospace\">11:04:54.687 | <span style=\"color: #008080; text-decoration-color: #008080\">INFO</span>    | Flow run<span style=\"color: #800080; text-decoration-color: #800080\"> 'loyal-stoat'</span> - Submitted task run 'squared-2' for execution.\n",
       "</pre>\n"
      ],
      "text/plain": [
       "11:04:54.687 | \u001b[36mINFO\u001b[0m    | Flow run\u001b[35m 'loyal-stoat'\u001b[0m - Submitted task run 'squared-2' for execution.\n"
      ]
     },
     "metadata": {},
     "output_type": "display_data"
    },
    {
     "data": {
      "text/html": [
       "<pre style=\"white-space:pre;overflow-x:auto;line-height:normal;font-family:Menlo,'DejaVu Sans Mono',consolas,'Courier New',monospace\">11:04:54.719 | <span style=\"color: #008080; text-decoration-color: #008080\">INFO</span>    | Flow run<span style=\"color: #800080; text-decoration-color: #800080\"> 'loyal-stoat'</span> - Created task run 'squared-3' for task 'squared'\n",
       "</pre>\n"
      ],
      "text/plain": [
       "11:04:54.719 | \u001b[36mINFO\u001b[0m    | Flow run\u001b[35m 'loyal-stoat'\u001b[0m - Created task run 'squared-3' for task 'squared'\n"
      ]
     },
     "metadata": {},
     "output_type": "display_data"
    },
    {
     "data": {
      "text/html": [
       "<pre style=\"white-space:pre;overflow-x:auto;line-height:normal;font-family:Menlo,'DejaVu Sans Mono',consolas,'Courier New',monospace\">11:04:54.720 | <span style=\"color: #008080; text-decoration-color: #008080\">INFO</span>    | Flow run<span style=\"color: #800080; text-decoration-color: #800080\"> 'loyal-stoat'</span> - Submitted task run 'squared-3' for execution.\n",
       "</pre>\n"
      ],
      "text/plain": [
       "11:04:54.720 | \u001b[36mINFO\u001b[0m    | Flow run\u001b[35m 'loyal-stoat'\u001b[0m - Submitted task run 'squared-3' for execution.\n"
      ]
     },
     "metadata": {},
     "output_type": "display_data"
    },
    {
     "data": {
      "text/html": [
       "<pre style=\"white-space:pre;overflow-x:auto;line-height:normal;font-family:Menlo,'DejaVu Sans Mono',consolas,'Courier New',monospace\">11:04:54.801 | <span style=\"color: #008080; text-decoration-color: #008080\">INFO</span>    | Task run 'squared-0' - Finished in state <span style=\"color: #008000; text-decoration-color: #008000\">Completed</span>()\n",
       "</pre>\n"
      ],
      "text/plain": [
       "11:04:54.801 | \u001b[36mINFO\u001b[0m    | Task run 'squared-0' - Finished in state \u001b[32mCompleted\u001b[0m()\n"
      ]
     },
     "metadata": {},
     "output_type": "display_data"
    },
    {
     "data": {
      "text/html": [
       "<pre style=\"white-space:pre;overflow-x:auto;line-height:normal;font-family:Menlo,'DejaVu Sans Mono',consolas,'Courier New',monospace\">11:04:54.828 | <span style=\"color: #008080; text-decoration-color: #008080\">INFO</span>    | Task run 'squared-2' - Finished in state <span style=\"color: #008000; text-decoration-color: #008000\">Completed</span>()\n",
       "</pre>\n"
      ],
      "text/plain": [
       "11:04:54.828 | \u001b[36mINFO\u001b[0m    | Task run 'squared-2' - Finished in state \u001b[32mCompleted\u001b[0m()\n"
      ]
     },
     "metadata": {},
     "output_type": "display_data"
    },
    {
     "data": {
      "text/html": [
       "<pre style=\"white-space:pre;overflow-x:auto;line-height:normal;font-family:Menlo,'DejaVu Sans Mono',consolas,'Courier New',monospace\">11:04:54.839 | <span style=\"color: #008080; text-decoration-color: #008080\">INFO</span>    | Task run 'squared-3' - Finished in state <span style=\"color: #008000; text-decoration-color: #008000\">Completed</span>()\n",
       "</pre>\n"
      ],
      "text/plain": [
       "11:04:54.839 | \u001b[36mINFO\u001b[0m    | Task run 'squared-3' - Finished in state \u001b[32mCompleted\u001b[0m()\n"
      ]
     },
     "metadata": {},
     "output_type": "display_data"
    },
    {
     "data": {
      "text/html": [
       "<pre style=\"white-space:pre;overflow-x:auto;line-height:normal;font-family:Menlo,'DejaVu Sans Mono',consolas,'Courier New',monospace\">11:04:54.853 | <span style=\"color: #008080; text-decoration-color: #008080\">INFO</span>    | Task run 'squared-1' - Finished in state <span style=\"color: #008000; text-decoration-color: #008000\">Completed</span>()\n",
       "</pre>\n"
      ],
      "text/plain": [
       "11:04:54.853 | \u001b[36mINFO\u001b[0m    | Task run 'squared-1' - Finished in state \u001b[32mCompleted\u001b[0m()\n"
      ]
     },
     "metadata": {},
     "output_type": "display_data"
    },
    {
     "data": {
      "text/html": [
       "<pre style=\"white-space:pre;overflow-x:auto;line-height:normal;font-family:Menlo,'DejaVu Sans Mono',consolas,'Courier New',monospace\">11:04:54.875 | <span style=\"color: #008080; text-decoration-color: #008080\">INFO</span>    | Flow run<span style=\"color: #800080; text-decoration-color: #800080\"> 'loyal-stoat'</span> - Created task run 'sum_up-0' for task 'sum_up'\n",
       "</pre>\n"
      ],
      "text/plain": [
       "11:04:54.875 | \u001b[36mINFO\u001b[0m    | Flow run\u001b[35m 'loyal-stoat'\u001b[0m - Created task run 'sum_up-0' for task 'sum_up'\n"
      ]
     },
     "metadata": {},
     "output_type": "display_data"
    },
    {
     "data": {
      "text/html": [
       "<pre style=\"white-space:pre;overflow-x:auto;line-height:normal;font-family:Menlo,'DejaVu Sans Mono',consolas,'Courier New',monospace\">11:04:54.876 | <span style=\"color: #008080; text-decoration-color: #008080\">INFO</span>    | Flow run<span style=\"color: #800080; text-decoration-color: #800080\"> 'loyal-stoat'</span> - Executing 'sum_up-0' immediately...\n",
       "</pre>\n"
      ],
      "text/plain": [
       "11:04:54.876 | \u001b[36mINFO\u001b[0m    | Flow run\u001b[35m 'loyal-stoat'\u001b[0m - Executing 'sum_up-0' immediately...\n"
      ]
     },
     "metadata": {},
     "output_type": "display_data"
    },
    {
     "name": "stdout",
     "output_type": "stream",
     "text": [
      "Squared results: [0, 1, 4, 9]\n",
      "Sum: 14\n"
     ]
    },
    {
     "data": {
      "text/html": [
       "<pre style=\"white-space:pre;overflow-x:auto;line-height:normal;font-family:Menlo,'DejaVu Sans Mono',consolas,'Courier New',monospace\">11:04:54.927 | <span style=\"color: #008080; text-decoration-color: #008080\">INFO</span>    | Task run 'sum_up-0' - Finished in state <span style=\"color: #008000; text-decoration-color: #008000\">Completed</span>()\n",
       "</pre>\n"
      ],
      "text/plain": [
       "11:04:54.927 | \u001b[36mINFO\u001b[0m    | Task run 'sum_up-0' - Finished in state \u001b[32mCompleted\u001b[0m()\n"
      ]
     },
     "metadata": {},
     "output_type": "display_data"
    },
    {
     "name": "stdout",
     "output_type": "stream",
     "text": [
      "squared_res：[PrefectFuture('squared-0'), PrefectFuture('squared-1'), PrefectFuture('squared-2'), PrefectFuture('squared-3')]\n",
      "squared_resのタイプ：<class 'list'>\n"
     ]
    },
    {
     "data": {
      "text/html": [
       "<pre style=\"white-space:pre;overflow-x:auto;line-height:normal;font-family:Menlo,'DejaVu Sans Mono',consolas,'Courier New',monospace\">11:04:54.946 | <span style=\"color: #008080; text-decoration-color: #008080\">INFO</span>    | Flow run<span style=\"color: #800080; text-decoration-color: #800080\"> 'loyal-stoat'</span> - Finished in state <span style=\"color: #008000; text-decoration-color: #008000\">Completed</span>('All states completed.')\n",
       "</pre>\n"
      ],
      "text/plain": [
       "11:04:54.946 | \u001b[36mINFO\u001b[0m    | Flow run\u001b[35m 'loyal-stoat'\u001b[0m - Finished in state \u001b[32mCompleted\u001b[0m('All states completed.')\n"
      ]
     },
     "metadata": {},
     "output_type": "display_data"
    }
   ],
   "source": [
    "from random import randint\n",
    "from prefect import task, flow\n",
    "\n",
    "@task\n",
    "def random_list():\n",
    "    return [i for i in range(randint(1, 4))]\n",
    "\n",
    "@task\n",
    "def squared(x):\n",
    "    return x ** 2\n",
    "\n",
    "@task\n",
    "def sum_up(l):\n",
    "    print(f\"Squared results: {l}\")\n",
    "    print(f\"Sum: {sum(l)}\")\n",
    "\n",
    "\n",
    "@flow(name=\"dynamic flow\")\n",
    "def dynamic_flow():\n",
    "    l = random_list()\n",
    "    squared_res = squared.map(l)\n",
    "    sum_res = sum_up(squared_res)\n",
    "    print(f\"squared_res：{squared_res}\")\n",
    "    print(f\"squared_resのタイプ：{type(squared_res)}\")\n",
    "\n",
    "if __name__ == \"__main__\":\n",
    "    dynamic_flow()"
   ]
  },
  {
   "attachments": {},
   "cell_type": "markdown",
   "metadata": {},
   "source": [
    "# 5. 条件分岐\n",
    "* 1系では、タスク（case、merge、ifelse、switch）は、prefect.tasks.control_flowからインポートして使用していた。\n",
    "* 2系では、Pythonネイティブのif/else文を使って条件ロジックを指定することができます。"
   ]
  },
  {
   "cell_type": "code",
   "execution_count": null,
   "metadata": {},
   "outputs": [],
   "source": [
    "# from random import randint\n",
    "# from prefect import task, Flow\n",
    "# from prefect.tasks.control_flow.conditional import ifelse\n",
    "\n",
    "# @task\n",
    "# def check_even():\n",
    "#     return randint(0, 10) % 2 == 0\n",
    "\n",
    "# @task\n",
    "# def even():\n",
    "#     print(\"It's Even!!\")\n",
    "\n",
    "# @task\n",
    "# def odd():\n",
    "#     print(\"It's Odd!!\")\n",
    "\n",
    "# with Flow(\"IfElseFlow\") as flow:\n",
    "#     cond = check_even()\n",
    "#     result = ifelse(cond, even, odd)\n",
    "\n",
    "# flow.run()\n"
   ]
  },
  {
   "cell_type": "code",
   "execution_count": 11,
   "metadata": {},
   "outputs": [
    {
     "name": "stderr",
     "output_type": "stream",
     "text": [
      "/Users/kohta/workspace/prefect/venv/lib/python3.10/site-packages/prefect/tasks.py:298: UserWarning: A task named 'check_even' and defined at '/var/folders/q5/s5mcbmt95hd29sp3b9xmr2580000gn/T/ipykernel_64897/2061035519.py:4' conflicts with another task. Consider specifying a unique `name` parameter in the task definition:\n",
      "\n",
      " `@task(name='my_unique_name', ...)`\n",
      "  warnings.warn(\n",
      "/Users/kohta/workspace/prefect/venv/lib/python3.10/site-packages/prefect/tasks.py:298: UserWarning: A task named 'even' and defined at '/var/folders/q5/s5mcbmt95hd29sp3b9xmr2580000gn/T/ipykernel_64897/2061035519.py:8' conflicts with another task. Consider specifying a unique `name` parameter in the task definition:\n",
      "\n",
      " `@task(name='my_unique_name', ...)`\n",
      "  warnings.warn(\n",
      "/Users/kohta/workspace/prefect/venv/lib/python3.10/site-packages/prefect/tasks.py:298: UserWarning: A task named 'odd' and defined at '/var/folders/q5/s5mcbmt95hd29sp3b9xmr2580000gn/T/ipykernel_64897/2061035519.py:12' conflicts with another task. Consider specifying a unique `name` parameter in the task definition:\n",
      "\n",
      " `@task(name='my_unique_name', ...)`\n",
      "  warnings.warn(\n",
      "/Users/kohta/workspace/prefect/venv/lib/python3.10/site-packages/prefect/flows.py:244: UserWarning: A flow named 'is-else-flow' and defined at '/var/folders/q5/s5mcbmt95hd29sp3b9xmr2580000gn/T/ipykernel_64897/2061035519.py:16' conflicts with another flow. Consider specifying a unique `name` parameter in the flow definition:\n",
      "\n",
      " `@flow(name='my_unique_name', ...)`\n",
      "  warnings.warn(\n"
     ]
    },
    {
     "data": {
      "text/html": [
       "<pre style=\"white-space:pre;overflow-x:auto;line-height:normal;font-family:Menlo,'DejaVu Sans Mono',consolas,'Courier New',monospace\">11:34:52.680 | <span style=\"color: #008080; text-decoration-color: #008080\">INFO</span>    | prefect.engine - Created flow run<span style=\"color: #800080; text-decoration-color: #800080\"> 'prophetic-echidna'</span> for flow<span style=\"color: #800080; text-decoration-color: #800080; font-weight: bold\"> 'is-else-flow'</span>\n",
       "</pre>\n"
      ],
      "text/plain": [
       "11:34:52.680 | \u001b[36mINFO\u001b[0m    | prefect.engine - Created flow run\u001b[35m 'prophetic-echidna'\u001b[0m for flow\u001b[1;35m 'is-else-flow'\u001b[0m\n"
      ]
     },
     "metadata": {},
     "output_type": "display_data"
    },
    {
     "name": "stdout",
     "output_type": "stream",
     "text": [
      "cond: PrefectFuture('check_even-0')\n"
     ]
    },
    {
     "data": {
      "text/html": [
       "<pre style=\"white-space:pre;overflow-x:auto;line-height:normal;font-family:Menlo,'DejaVu Sans Mono',consolas,'Courier New',monospace\">11:34:52.755 | <span style=\"color: #008080; text-decoration-color: #008080\">INFO</span>    | Flow run<span style=\"color: #800080; text-decoration-color: #800080\"> 'prophetic-echidna'</span> - Created task run 'check_even-0' for task 'check_even'\n",
       "</pre>\n"
      ],
      "text/plain": [
       "11:34:52.755 | \u001b[36mINFO\u001b[0m    | Flow run\u001b[35m 'prophetic-echidna'\u001b[0m - Created task run 'check_even-0' for task 'check_even'\n"
      ]
     },
     "metadata": {},
     "output_type": "display_data"
    },
    {
     "data": {
      "text/html": [
       "<pre style=\"white-space:pre;overflow-x:auto;line-height:normal;font-family:Menlo,'DejaVu Sans Mono',consolas,'Courier New',monospace\">11:34:52.757 | <span style=\"color: #008080; text-decoration-color: #008080\">INFO</span>    | Flow run<span style=\"color: #800080; text-decoration-color: #800080\"> 'prophetic-echidna'</span> - Submitted task run 'check_even-0' for execution.\n",
       "</pre>\n"
      ],
      "text/plain": [
       "11:34:52.757 | \u001b[36mINFO\u001b[0m    | Flow run\u001b[35m 'prophetic-echidna'\u001b[0m - Submitted task run 'check_even-0' for execution.\n"
      ]
     },
     "metadata": {},
     "output_type": "display_data"
    },
    {
     "data": {
      "text/html": [
       "<pre style=\"white-space:pre;overflow-x:auto;line-height:normal;font-family:Menlo,'DejaVu Sans Mono',consolas,'Courier New',monospace\">11:34:52.809 | <span style=\"color: #008080; text-decoration-color: #008080\">INFO</span>    | Task run 'check_even-0' - Finished in state <span style=\"color: #008000; text-decoration-color: #008000\">Completed</span>()\n",
       "</pre>\n"
      ],
      "text/plain": [
       "11:34:52.809 | \u001b[36mINFO\u001b[0m    | Task run 'check_even-0' - Finished in state \u001b[32mCompleted\u001b[0m()\n"
      ]
     },
     "metadata": {},
     "output_type": "display_data"
    },
    {
     "name": "stdout",
     "output_type": "stream",
     "text": [
      "cond.result(): True\n"
     ]
    },
    {
     "data": {
      "text/html": [
       "<pre style=\"white-space:pre;overflow-x:auto;line-height:normal;font-family:Menlo,'DejaVu Sans Mono',consolas,'Courier New',monospace\">11:34:52.823 | <span style=\"color: #008080; text-decoration-color: #008080\">INFO</span>    | Flow run<span style=\"color: #800080; text-decoration-color: #800080\"> 'prophetic-echidna'</span> - Created task run 'even-0' for task 'even'\n",
       "</pre>\n"
      ],
      "text/plain": [
       "11:34:52.823 | \u001b[36mINFO\u001b[0m    | Flow run\u001b[35m 'prophetic-echidna'\u001b[0m - Created task run 'even-0' for task 'even'\n"
      ]
     },
     "metadata": {},
     "output_type": "display_data"
    },
    {
     "data": {
      "text/html": [
       "<pre style=\"white-space:pre;overflow-x:auto;line-height:normal;font-family:Menlo,'DejaVu Sans Mono',consolas,'Courier New',monospace\">11:34:52.825 | <span style=\"color: #008080; text-decoration-color: #008080\">INFO</span>    | Flow run<span style=\"color: #800080; text-decoration-color: #800080\"> 'prophetic-echidna'</span> - Submitted task run 'even-0' for execution.\n",
       "</pre>\n"
      ],
      "text/plain": [
       "11:34:52.825 | \u001b[36mINFO\u001b[0m    | Flow run\u001b[35m 'prophetic-echidna'\u001b[0m - Submitted task run 'even-0' for execution.\n"
      ]
     },
     "metadata": {},
     "output_type": "display_data"
    },
    {
     "name": "stdout",
     "output_type": "stream",
     "text": [
      "It's Even!!\n"
     ]
    },
    {
     "data": {
      "text/html": [
       "<pre style=\"white-space:pre;overflow-x:auto;line-height:normal;font-family:Menlo,'DejaVu Sans Mono',consolas,'Courier New',monospace\">11:34:52.879 | <span style=\"color: #008080; text-decoration-color: #008080\">INFO</span>    | Task run 'even-0' - Finished in state <span style=\"color: #008000; text-decoration-color: #008000\">Completed</span>()\n",
       "</pre>\n"
      ],
      "text/plain": [
       "11:34:52.879 | \u001b[36mINFO\u001b[0m    | Task run 'even-0' - Finished in state \u001b[32mCompleted\u001b[0m()\n"
      ]
     },
     "metadata": {},
     "output_type": "display_data"
    },
    {
     "data": {
      "text/html": [
       "<pre style=\"white-space:pre;overflow-x:auto;line-height:normal;font-family:Menlo,'DejaVu Sans Mono',consolas,'Courier New',monospace\">11:34:52.897 | <span style=\"color: #008080; text-decoration-color: #008080\">INFO</span>    | Flow run<span style=\"color: #800080; text-decoration-color: #800080\"> 'prophetic-echidna'</span> - Finished in state <span style=\"color: #008000; text-decoration-color: #008000\">Completed</span>('All states completed.')\n",
       "</pre>\n"
      ],
      "text/plain": [
       "11:34:52.897 | \u001b[36mINFO\u001b[0m    | Flow run\u001b[35m 'prophetic-echidna'\u001b[0m - Finished in state \u001b[32mCompleted\u001b[0m('All states completed.')\n"
      ]
     },
     "metadata": {},
     "output_type": "display_data"
    }
   ],
   "source": [
    "from random import randint\n",
    "from prefect import task, flow\n",
    "\n",
    "@task\n",
    "def check_even():\n",
    "    return randint(0, 10) % 2 == 0\n",
    "\n",
    "@task\n",
    "def even():\n",
    "    print(\"It's Even!!\")\n",
    "\n",
    "@task\n",
    "def odd():\n",
    "    print(\"It's Odd!!\")\n",
    "\n",
    "@flow\n",
    "def is_else_flow():\n",
    "    cond = check_even.submit()\n",
    "    print(f\"cond: {cond}\")\n",
    "    print(f\"cond.result(): {cond.result()}\")\n",
    "    if cond.result():\n",
    "        even.submit(wait_for=[cond])\n",
    "    else:\n",
    "        odd.submit(wait_for=[cond])\n",
    "\n",
    "if __name__ == \"__main__\":\n",
    "    is_else_flow()"
   ]
  },
  {
   "cell_type": "code",
   "execution_count": null,
   "metadata": {},
   "outputs": [],
   "source": [
    "from random import randint\n",
    "from prefect import task, flow\n",
    "\n",
    "@task\n",
    "def check_even():\n",
    "    return randint(0, 10) % 2 == 0\n",
    "\n",
    "@task\n",
    "def even():\n",
    "    print(\"It's Even!!\")\n",
    "\n",
    "@task\n",
    "def odd():\n",
    "    print(\"It's Odd!!\")\n",
    "\n",
    "@flow\n",
    "def is_else_flow():\n",
    "    cond = check_even()\n",
    "    if cond:\n",
    "        even()\n",
    "    else:\n",
    "        odd()\n",
    "\n",
    "if __name__ == \"__main__\":\n",
    "    is_else_flow()"
   ]
  },
  {
   "attachments": {},
   "cell_type": "markdown",
   "metadata": {},
   "source": [
    "# 6. Flowの成功・失敗の条件\n",
    "* 事前準備 -> 本処理 -> 後片付けのようなフローで、本処理の結果にかかわらず、後片付けをしたいケース"
   ]
  },
  {
   "cell_type": "code",
   "execution_count": 16,
   "metadata": {},
   "outputs": [
    {
     "name": "stderr",
     "output_type": "stream",
     "text": [
      "/Users/kohta/workspace/prefect/venv/lib/python3.10/site-packages/prefect/tasks.py:298: UserWarning: A task named 'do_something_important' and defined at '/var/folders/q5/s5mcbmt95hd29sp3b9xmr2580000gn/T/ipykernel_64897/537470895.py:4' conflicts with another task. Consider specifying a unique `name` parameter in the task definition:\n",
      "\n",
      " `@task(name='my_unique_name', ...)`\n",
      "  warnings.warn(\n",
      "/Users/kohta/workspace/prefect/venv/lib/python3.10/site-packages/prefect/tasks.py:298: UserWarning: A task named 'fail' and defined at '/var/folders/q5/s5mcbmt95hd29sp3b9xmr2580000gn/T/ipykernel_64897/537470895.py:11' conflicts with another task. Consider specifying a unique `name` parameter in the task definition:\n",
      "\n",
      " `@task(name='my_unique_name', ...)`\n",
      "  warnings.warn(\n",
      "/Users/kohta/workspace/prefect/venv/lib/python3.10/site-packages/prefect/tasks.py:298: UserWarning: A task named 'succeed' and defined at '/var/folders/q5/s5mcbmt95hd29sp3b9xmr2580000gn/T/ipykernel_64897/537470895.py:15' conflicts with another task. Consider specifying a unique `name` parameter in the task definition:\n",
      "\n",
      " `@task(name='my_unique_name', ...)`\n",
      "  warnings.warn(\n",
      "/Users/kohta/workspace/prefect/venv/lib/python3.10/site-packages/prefect/tasks.py:298: UserWarning: A task named 'always_run' and defined at '/var/folders/q5/s5mcbmt95hd29sp3b9xmr2580000gn/T/ipykernel_64897/537470895.py:19' conflicts with another task. Consider specifying a unique `name` parameter in the task definition:\n",
      "\n",
      " `@task(name='my_unique_name', ...)`\n",
      "  warnings.warn(\n",
      "/Users/kohta/workspace/prefect/venv/lib/python3.10/site-packages/prefect/flows.py:244: UserWarning: A flow named 'main-flow' and defined at '/var/folders/q5/s5mcbmt95hd29sp3b9xmr2580000gn/T/ipykernel_64897/537470895.py:23' conflicts with another flow. Consider specifying a unique `name` parameter in the flow definition:\n",
      "\n",
      " `@flow(name='my_unique_name', ...)`\n",
      "  warnings.warn(\n"
     ]
    },
    {
     "data": {
      "text/html": [
       "<pre style=\"white-space:pre;overflow-x:auto;line-height:normal;font-family:Menlo,'DejaVu Sans Mono',consolas,'Courier New',monospace\">11:52:16.250 | <span style=\"color: #008080; text-decoration-color: #008080\">INFO</span>    | prefect.engine - Created flow run<span style=\"color: #800080; text-decoration-color: #800080\"> 'rainbow-firefly'</span> for flow<span style=\"color: #800080; text-decoration-color: #800080; font-weight: bold\"> 'main-flow'</span>\n",
       "</pre>\n"
      ],
      "text/plain": [
       "11:52:16.250 | \u001b[36mINFO\u001b[0m    | prefect.engine - Created flow run\u001b[35m 'rainbow-firefly'\u001b[0m for flow\u001b[1;35m 'main-flow'\u001b[0m\n"
      ]
     },
     "metadata": {},
     "output_type": "display_data"
    },
    {
     "data": {
      "text/html": [
       "<pre style=\"white-space:pre;overflow-x:auto;line-height:normal;font-family:Menlo,'DejaVu Sans Mono',consolas,'Courier New',monospace\">11:52:16.324 | <span style=\"color: #008080; text-decoration-color: #008080\">INFO</span>    | Flow run<span style=\"color: #800080; text-decoration-color: #800080\"> 'rainbow-firefly'</span> - Created task run 'do_something_important-0' for task 'do_something_important'\n",
       "</pre>\n"
      ],
      "text/plain": [
       "11:52:16.324 | \u001b[36mINFO\u001b[0m    | Flow run\u001b[35m 'rainbow-firefly'\u001b[0m - Created task run 'do_something_important-0' for task 'do_something_important'\n"
      ]
     },
     "metadata": {},
     "output_type": "display_data"
    },
    {
     "data": {
      "text/html": [
       "<pre style=\"white-space:pre;overflow-x:auto;line-height:normal;font-family:Menlo,'DejaVu Sans Mono',consolas,'Courier New',monospace\">11:52:16.325 | <span style=\"color: #008080; text-decoration-color: #008080\">INFO</span>    | Flow run<span style=\"color: #800080; text-decoration-color: #800080\"> 'rainbow-firefly'</span> - Submitted task run 'do_something_important-0' for execution.\n",
       "</pre>\n"
      ],
      "text/plain": [
       "11:52:16.325 | \u001b[36mINFO\u001b[0m    | Flow run\u001b[35m 'rainbow-firefly'\u001b[0m - Submitted task run 'do_something_important-0' for execution.\n"
      ]
     },
     "metadata": {},
     "output_type": "display_data"
    },
    {
     "data": {
      "text/html": [
       "<pre style=\"white-space:pre;overflow-x:auto;line-height:normal;font-family:Menlo,'DejaVu Sans Mono',consolas,'Courier New',monospace\">11:52:16.364 | <span style=\"color: #008080; text-decoration-color: #008080\">INFO</span>    | Task run 'do_something_important-0' - Is the number &gt; 0.5? True\n",
       "</pre>\n"
      ],
      "text/plain": [
       "11:52:16.364 | \u001b[36mINFO\u001b[0m    | Task run 'do_something_important-0' - Is the number > 0.5? True\n"
      ]
     },
     "metadata": {},
     "output_type": "display_data"
    },
    {
     "data": {
      "text/html": [
       "<pre style=\"white-space:pre;overflow-x:auto;line-height:normal;font-family:Menlo,'DejaVu Sans Mono',consolas,'Courier New',monospace\">11:52:16.366 | <span style=\"color: #d70000; text-decoration-color: #d70000\">ERROR</span>   | Task run 'do_something_important-0' - Encountered exception during execution:\n",
       "Traceback (most recent call last):\n",
       "  File \"/Users/kohta/workspace/prefect/venv/lib/python3.10/site-packages/prefect/engine.py\", line 1719, in orchestrate_task_run\n",
       "    result = await call.aresult()\n",
       "  File \"/Users/kohta/workspace/prefect/venv/lib/python3.10/site-packages/prefect/_internal/concurrency/calls.py\", line 292, in aresult\n",
       "    return await asyncio.wrap_future(self.future)\n",
       "  File \"/Users/kohta/workspace/prefect/venv/lib/python3.10/site-packages/prefect/_internal/concurrency/calls.py\", line 316, in _run_sync\n",
       "    result = self.fn(*self.args, **self.kwargs)\n",
       "  File \"/var/folders/q5/s5mcbmt95hd29sp3b9xmr2580000gn/T/ipykernel_64897/537470895.py\", line 9, in do_something_important\n",
       "    raise ValueError(\"Non-deterministic error has occured.\")\n",
       "ValueError: Non-deterministic error has occured.\n",
       "</pre>\n"
      ],
      "text/plain": [
       "11:52:16.366 | \u001b[38;5;160mERROR\u001b[0m   | Task run 'do_something_important-0' - Encountered exception during execution:\n",
       "Traceback (most recent call last):\n",
       "  File \"/Users/kohta/workspace/prefect/venv/lib/python3.10/site-packages/prefect/engine.py\", line 1719, in orchestrate_task_run\n",
       "    result = await call.aresult()\n",
       "  File \"/Users/kohta/workspace/prefect/venv/lib/python3.10/site-packages/prefect/_internal/concurrency/calls.py\", line 292, in aresult\n",
       "    return await asyncio.wrap_future(self.future)\n",
       "  File \"/Users/kohta/workspace/prefect/venv/lib/python3.10/site-packages/prefect/_internal/concurrency/calls.py\", line 316, in _run_sync\n",
       "    result = self.fn(*self.args, **self.kwargs)\n",
       "  File \"/var/folders/q5/s5mcbmt95hd29sp3b9xmr2580000gn/T/ipykernel_64897/537470895.py\", line 9, in do_something_important\n",
       "    raise ValueError(\"Non-deterministic error has occured.\")\n",
       "ValueError: Non-deterministic error has occured.\n"
      ]
     },
     "metadata": {},
     "output_type": "display_data"
    },
    {
     "data": {
      "text/html": [
       "<pre style=\"white-space:pre;overflow-x:auto;line-height:normal;font-family:Menlo,'DejaVu Sans Mono',consolas,'Courier New',monospace\">11:52:16.386 | <span style=\"color: #d70000; text-decoration-color: #d70000\">ERROR</span>   | Task run 'do_something_important-0' - Finished in state <span style=\"color: #d70000; text-decoration-color: #d70000\">Failed</span>('Task run encountered an exception ValueError: Non-deterministic error has occured.')\n",
       "</pre>\n"
      ],
      "text/plain": [
       "11:52:16.386 | \u001b[38;5;160mERROR\u001b[0m   | Task run 'do_something_important-0' - Finished in state \u001b[38;5;160mFailed\u001b[0m('Task run encountered an exception ValueError: Non-deterministic error has occured.')\n"
      ]
     },
     "metadata": {},
     "output_type": "display_data"
    },
    {
     "data": {
      "text/html": [
       "<pre style=\"white-space:pre;overflow-x:auto;line-height:normal;font-family:Menlo,'DejaVu Sans Mono',consolas,'Courier New',monospace\">11:52:16.403 | <span style=\"color: #008080; text-decoration-color: #008080\">INFO</span>    | Flow run<span style=\"color: #800080; text-decoration-color: #800080\"> 'rainbow-firefly'</span> - Created task run 'succeed-0' for task 'succeed'\n",
       "</pre>\n"
      ],
      "text/plain": [
       "11:52:16.403 | \u001b[36mINFO\u001b[0m    | Flow run\u001b[35m 'rainbow-firefly'\u001b[0m - Created task run 'succeed-0' for task 'succeed'\n"
      ]
     },
     "metadata": {},
     "output_type": "display_data"
    },
    {
     "data": {
      "text/html": [
       "<pre style=\"white-space:pre;overflow-x:auto;line-height:normal;font-family:Menlo,'DejaVu Sans Mono',consolas,'Courier New',monospace\">11:52:16.405 | <span style=\"color: #008080; text-decoration-color: #008080\">INFO</span>    | Flow run<span style=\"color: #800080; text-decoration-color: #800080\"> 'rainbow-firefly'</span> - Submitted task run 'succeed-0' for execution.\n",
       "</pre>\n"
      ],
      "text/plain": [
       "11:52:16.405 | \u001b[36mINFO\u001b[0m    | Flow run\u001b[35m 'rainbow-firefly'\u001b[0m - Submitted task run 'succeed-0' for execution.\n"
      ]
     },
     "metadata": {},
     "output_type": "display_data"
    },
    {
     "data": {
      "text/html": [
       "<pre style=\"white-space:pre;overflow-x:auto;line-height:normal;font-family:Menlo,'DejaVu Sans Mono',consolas,'Courier New',monospace\">11:52:16.414 | <span style=\"color: #008080; text-decoration-color: #008080\">INFO</span>    | Flow run<span style=\"color: #800080; text-decoration-color: #800080\"> 'rainbow-firefly'</span> - Created task run 'always_run-0' for task 'always_run'\n",
       "</pre>\n"
      ],
      "text/plain": [
       "11:52:16.414 | \u001b[36mINFO\u001b[0m    | Flow run\u001b[35m 'rainbow-firefly'\u001b[0m - Created task run 'always_run-0' for task 'always_run'\n"
      ]
     },
     "metadata": {},
     "output_type": "display_data"
    },
    {
     "data": {
      "text/html": [
       "<pre style=\"white-space:pre;overflow-x:auto;line-height:normal;font-family:Menlo,'DejaVu Sans Mono',consolas,'Courier New',monospace\">11:52:16.416 | <span style=\"color: #008080; text-decoration-color: #008080\">INFO</span>    | Flow run<span style=\"color: #800080; text-decoration-color: #800080\"> 'rainbow-firefly'</span> - Submitted task run 'always_run-0' for execution.\n",
       "</pre>\n"
      ],
      "text/plain": [
       "11:52:16.416 | \u001b[36mINFO\u001b[0m    | Flow run\u001b[35m 'rainbow-firefly'\u001b[0m - Submitted task run 'always_run-0' for execution.\n"
      ]
     },
     "metadata": {},
     "output_type": "display_data"
    },
    {
     "data": {
      "text/html": [
       "<pre style=\"white-space:pre;overflow-x:auto;line-height:normal;font-family:Menlo,'DejaVu Sans Mono',consolas,'Courier New',monospace\">11:52:16.464 | <span style=\"color: #008080; text-decoration-color: #008080\">INFO</span>    | Task run 'succeed-0' - Success\n",
       "</pre>\n"
      ],
      "text/plain": [
       "11:52:16.464 | \u001b[36mINFO\u001b[0m    | Task run 'succeed-0' - Success\n"
      ]
     },
     "metadata": {},
     "output_type": "display_data"
    },
    {
     "data": {
      "text/html": [
       "<pre style=\"white-space:pre;overflow-x:auto;line-height:normal;font-family:Menlo,'DejaVu Sans Mono',consolas,'Courier New',monospace\">11:52:16.488 | <span style=\"color: #008080; text-decoration-color: #008080\">INFO</span>    | Task run 'always_run-0' - Running regardless of upstream task's state\n",
       "</pre>\n"
      ],
      "text/plain": [
       "11:52:16.488 | \u001b[36mINFO\u001b[0m    | Task run 'always_run-0' - Running regardless of upstream task's state\n"
      ]
     },
     "metadata": {},
     "output_type": "display_data"
    },
    {
     "data": {
      "text/html": [
       "<pre style=\"white-space:pre;overflow-x:auto;line-height:normal;font-family:Menlo,'DejaVu Sans Mono',consolas,'Courier New',monospace\">11:52:16.493 | <span style=\"color: #008080; text-decoration-color: #008080\">INFO</span>    | Task run 'succeed-0' - Finished in state <span style=\"color: #008000; text-decoration-color: #008000\">Completed</span>()\n",
       "</pre>\n"
      ],
      "text/plain": [
       "11:52:16.493 | \u001b[36mINFO\u001b[0m    | Task run 'succeed-0' - Finished in state \u001b[32mCompleted\u001b[0m()\n"
      ]
     },
     "metadata": {},
     "output_type": "display_data"
    },
    {
     "data": {
      "text/html": [
       "<pre style=\"white-space:pre;overflow-x:auto;line-height:normal;font-family:Menlo,'DejaVu Sans Mono',consolas,'Courier New',monospace\">11:52:16.511 | <span style=\"color: #008080; text-decoration-color: #008080\">INFO</span>    | Task run 'always_run-0' - Finished in state <span style=\"color: #008000; text-decoration-color: #008000\">Completed</span>()\n",
       "</pre>\n"
      ],
      "text/plain": [
       "11:52:16.511 | \u001b[36mINFO\u001b[0m    | Task run 'always_run-0' - Finished in state \u001b[32mCompleted\u001b[0m()\n"
      ]
     },
     "metadata": {},
     "output_type": "display_data"
    },
    {
     "data": {
      "text/html": [
       "<pre style=\"white-space:pre;overflow-x:auto;line-height:normal;font-family:Menlo,'DejaVu Sans Mono',consolas,'Courier New',monospace\">11:52:16.531 | <span style=\"color: #d70000; text-decoration-color: #d70000\">ERROR</span>   | Flow run<span style=\"color: #800080; text-decoration-color: #800080\"> 'rainbow-firefly'</span> - Finished in state <span style=\"color: #d70000; text-decoration-color: #d70000\">Failed</span>('1/3 states failed.')\n",
       "</pre>\n"
      ],
      "text/plain": [
       "11:52:16.531 | \u001b[38;5;160mERROR\u001b[0m   | Flow run\u001b[35m 'rainbow-firefly'\u001b[0m - Finished in state \u001b[38;5;160mFailed\u001b[0m('1/3 states failed.')\n"
      ]
     },
     "metadata": {},
     "output_type": "display_data"
    },
    {
     "ename": "ValueError",
     "evalue": "Non-deterministic error has occured.",
     "output_type": "error",
     "traceback": [
      "\u001b[0;31m---------------------------------------------------------------------------\u001b[0m",
      "\u001b[0;31mValueError\u001b[0m                                Traceback (most recent call last)",
      "Cell \u001b[0;32mIn[16], line 37\u001b[0m\n\u001b[1;32m     34\u001b[0m     always_run\u001b[39m.\u001b[39msubmit()\n\u001b[1;32m     36\u001b[0m \u001b[39mif\u001b[39;00m \u001b[39m__name__\u001b[39m \u001b[39m==\u001b[39m \u001b[39m\"\u001b[39m\u001b[39m__main__\u001b[39m\u001b[39m\"\u001b[39m:\n\u001b[0;32m---> 37\u001b[0m     main_flow()\n",
      "File \u001b[0;32m~/workspace/prefect/venv/lib/python3.10/site-packages/prefect/flows.py:511\u001b[0m, in \u001b[0;36mFlow.__call__\u001b[0;34m(self, return_state, wait_for, *args, **kwargs)\u001b[0m\n\u001b[1;32m    507\u001b[0m parameters \u001b[39m=\u001b[39m get_call_parameters(\u001b[39mself\u001b[39m\u001b[39m.\u001b[39mfn, args, kwargs)\n\u001b[1;32m    509\u001b[0m return_type \u001b[39m=\u001b[39m \u001b[39m\"\u001b[39m\u001b[39mstate\u001b[39m\u001b[39m\"\u001b[39m \u001b[39mif\u001b[39;00m return_state \u001b[39melse\u001b[39;00m \u001b[39m\"\u001b[39m\u001b[39mresult\u001b[39m\u001b[39m\"\u001b[39m\n\u001b[0;32m--> 511\u001b[0m \u001b[39mreturn\u001b[39;00m enter_flow_run_engine_from_flow_call(\n\u001b[1;32m    512\u001b[0m     \u001b[39mself\u001b[39;49m,\n\u001b[1;32m    513\u001b[0m     parameters,\n\u001b[1;32m    514\u001b[0m     wait_for\u001b[39m=\u001b[39;49mwait_for,\n\u001b[1;32m    515\u001b[0m     return_type\u001b[39m=\u001b[39;49mreturn_type,\n\u001b[1;32m    516\u001b[0m )\n",
      "File \u001b[0;32m~/workspace/prefect/venv/lib/python3.10/site-packages/prefect/engine.py:272\u001b[0m, in \u001b[0;36menter_flow_run_engine_from_flow_call\u001b[0;34m(flow, parameters, wait_for, return_type)\u001b[0m\n\u001b[1;32m    265\u001b[0m     retval \u001b[39m=\u001b[39m from_async\u001b[39m.\u001b[39mwait_for_call_in_loop_thread(\n\u001b[1;32m    266\u001b[0m         begin_run,\n\u001b[1;32m    267\u001b[0m         done_callbacks\u001b[39m=\u001b[39mdone_callbacks,\n\u001b[1;32m    268\u001b[0m         contexts\u001b[39m=\u001b[39mcontexts,\n\u001b[1;32m    269\u001b[0m     )\n\u001b[1;32m    271\u001b[0m \u001b[39melse\u001b[39;00m:\n\u001b[0;32m--> 272\u001b[0m     retval \u001b[39m=\u001b[39m from_sync\u001b[39m.\u001b[39;49mwait_for_call_in_loop_thread(\n\u001b[1;32m    273\u001b[0m         begin_run,\n\u001b[1;32m    274\u001b[0m         done_callbacks\u001b[39m=\u001b[39;49mdone_callbacks,\n\u001b[1;32m    275\u001b[0m         contexts\u001b[39m=\u001b[39;49mcontexts,\n\u001b[1;32m    276\u001b[0m     )\n\u001b[1;32m    278\u001b[0m \u001b[39mreturn\u001b[39;00m retval\n",
      "File \u001b[0;32m~/workspace/prefect/venv/lib/python3.10/site-packages/prefect/_internal/concurrency/api.py:243\u001b[0m, in \u001b[0;36mfrom_sync.wait_for_call_in_loop_thread\u001b[0;34m(_from_sync__call, timeout, done_callbacks, contexts)\u001b[0m\n\u001b[1;32m    241\u001b[0m     stack\u001b[39m.\u001b[39menter_context(context)\n\u001b[1;32m    242\u001b[0m waiter\u001b[39m.\u001b[39mwait()\n\u001b[0;32m--> 243\u001b[0m \u001b[39mreturn\u001b[39;00m call\u001b[39m.\u001b[39;49mresult()\n",
      "File \u001b[0;32m~/workspace/prefect/venv/lib/python3.10/site-packages/prefect/_internal/concurrency/calls.py:283\u001b[0m, in \u001b[0;36mCall.result\u001b[0;34m(self, timeout)\u001b[0m\n\u001b[1;32m    277\u001b[0m \u001b[39mdef\u001b[39;00m \u001b[39mresult\u001b[39m(\u001b[39mself\u001b[39m, timeout: Optional[\u001b[39mfloat\u001b[39m] \u001b[39m=\u001b[39m \u001b[39mNone\u001b[39;00m) \u001b[39m-\u001b[39m\u001b[39m>\u001b[39m T:\n\u001b[1;32m    278\u001b[0m \u001b[39m    \u001b[39m\u001b[39m\"\"\"\u001b[39;00m\n\u001b[1;32m    279\u001b[0m \u001b[39m    Wait for the result of the call.\u001b[39;00m\n\u001b[1;32m    280\u001b[0m \n\u001b[1;32m    281\u001b[0m \u001b[39m    Not safe for use from asynchronous contexts.\u001b[39;00m\n\u001b[1;32m    282\u001b[0m \u001b[39m    \"\"\"\u001b[39;00m\n\u001b[0;32m--> 283\u001b[0m     \u001b[39mreturn\u001b[39;00m \u001b[39mself\u001b[39;49m\u001b[39m.\u001b[39;49mfuture\u001b[39m.\u001b[39;49mresult(timeout\u001b[39m=\u001b[39;49mtimeout)\n",
      "File \u001b[0;32m~/workspace/prefect/venv/lib/python3.10/site-packages/prefect/_internal/concurrency/calls.py:169\u001b[0m, in \u001b[0;36mFuture.result\u001b[0;34m(self, timeout)\u001b[0m\n\u001b[1;32m    167\u001b[0m     \u001b[39mraise\u001b[39;00m CancelledError()\n\u001b[1;32m    168\u001b[0m \u001b[39melif\u001b[39;00m \u001b[39mself\u001b[39m\u001b[39m.\u001b[39m_state \u001b[39m==\u001b[39m FINISHED:\n\u001b[0;32m--> 169\u001b[0m     \u001b[39mreturn\u001b[39;00m \u001b[39mself\u001b[39;49m\u001b[39m.\u001b[39;49m__get_result()\n\u001b[1;32m    171\u001b[0m \u001b[39mself\u001b[39m\u001b[39m.\u001b[39m_condition\u001b[39m.\u001b[39mwait(timeout)\n\u001b[1;32m    173\u001b[0m \u001b[39mif\u001b[39;00m \u001b[39mself\u001b[39m\u001b[39m.\u001b[39m_state \u001b[39min\u001b[39;00m [CANCELLED, CANCELLED_AND_NOTIFIED]:\n\u001b[1;32m    174\u001b[0m     \u001b[39m# Raise Prefect cancelled error instead of\u001b[39;00m\n\u001b[1;32m    175\u001b[0m     \u001b[39m# `concurrent.futures._base.CancelledError`\u001b[39;00m\n",
      "File \u001b[0;32m/opt/homebrew/Cellar/python@3.10/3.10.9/Frameworks/Python.framework/Versions/3.10/lib/python3.10/concurrent/futures/_base.py:403\u001b[0m, in \u001b[0;36mFuture.__get_result\u001b[0;34m(self)\u001b[0m\n\u001b[1;32m    401\u001b[0m \u001b[39mif\u001b[39;00m \u001b[39mself\u001b[39m\u001b[39m.\u001b[39m_exception:\n\u001b[1;32m    402\u001b[0m     \u001b[39mtry\u001b[39;00m:\n\u001b[0;32m--> 403\u001b[0m         \u001b[39mraise\u001b[39;00m \u001b[39mself\u001b[39m\u001b[39m.\u001b[39m_exception\n\u001b[1;32m    404\u001b[0m     \u001b[39mfinally\u001b[39;00m:\n\u001b[1;32m    405\u001b[0m         \u001b[39m# Break a reference cycle with the exception in self._exception\u001b[39;00m\n\u001b[1;32m    406\u001b[0m         \u001b[39mself\u001b[39m \u001b[39m=\u001b[39m \u001b[39mNone\u001b[39;00m\n",
      "File \u001b[0;32m~/workspace/prefect/venv/lib/python3.10/site-packages/prefect/_internal/concurrency/calls.py:346\u001b[0m, in \u001b[0;36mCall._run_async\u001b[0;34m(***failed resolving arguments***)\u001b[0m\n\u001b[1;32m    344\u001b[0m     \u001b[39mwith\u001b[39;00m set_current_call(\u001b[39mself\u001b[39m):\n\u001b[1;32m    345\u001b[0m         \u001b[39mwith\u001b[39;00m \u001b[39mself\u001b[39m\u001b[39m.\u001b[39mfuture\u001b[39m.\u001b[39menforce_async_deadline() \u001b[39mas\u001b[39;00m cancel_scope:\n\u001b[0;32m--> 346\u001b[0m             result \u001b[39m=\u001b[39m \u001b[39mawait\u001b[39;00m coro\n\u001b[1;32m    347\u001b[0m \u001b[39mexcept\u001b[39;00m CancelledError:\n\u001b[1;32m    348\u001b[0m     \u001b[39m# Report cancellation\u001b[39;00m\n\u001b[1;32m    349\u001b[0m     \u001b[39mif\u001b[39;00m cancel_scope\u001b[39m.\u001b[39mtimedout():\n",
      "File \u001b[0;32m~/workspace/prefect/venv/lib/python3.10/site-packages/prefect/client/utilities.py:51\u001b[0m, in \u001b[0;36minject_client.<locals>.with_injected_client\u001b[0;34m(*args, **kwargs)\u001b[0m\n\u001b[1;32m     49\u001b[0m \u001b[39masync\u001b[39;00m \u001b[39mwith\u001b[39;00m client_context \u001b[39mas\u001b[39;00m new_client:\n\u001b[1;32m     50\u001b[0m     kwargs\u001b[39m.\u001b[39msetdefault(\u001b[39m\"\u001b[39m\u001b[39mclient\u001b[39m\u001b[39m\"\u001b[39m, new_client \u001b[39mor\u001b[39;00m client)\n\u001b[0;32m---> 51\u001b[0m     \u001b[39mreturn\u001b[39;00m \u001b[39mawait\u001b[39;00m fn(\u001b[39m*\u001b[39margs, \u001b[39m*\u001b[39m\u001b[39m*\u001b[39mkwargs)\n",
      "File \u001b[0;32m~/workspace/prefect/venv/lib/python3.10/site-packages/prefect/engine.py:375\u001b[0m, in \u001b[0;36mcreate_then_begin_flow_run\u001b[0;34m(flow, parameters, wait_for, return_type, client, user_thread)\u001b[0m\n\u001b[1;32m    373\u001b[0m     \u001b[39mreturn\u001b[39;00m state\n\u001b[1;32m    374\u001b[0m \u001b[39melif\u001b[39;00m return_type \u001b[39m==\u001b[39m \u001b[39m\"\u001b[39m\u001b[39mresult\u001b[39m\u001b[39m\"\u001b[39m:\n\u001b[0;32m--> 375\u001b[0m     \u001b[39mreturn\u001b[39;00m \u001b[39mawait\u001b[39;00m state\u001b[39m.\u001b[39mresult(fetch\u001b[39m=\u001b[39m\u001b[39mTrue\u001b[39;00m)\n\u001b[1;32m    376\u001b[0m \u001b[39melse\u001b[39;00m:\n\u001b[1;32m    377\u001b[0m     \u001b[39mraise\u001b[39;00m \u001b[39mValueError\u001b[39;00m(\u001b[39mf\u001b[39m\u001b[39m\"\u001b[39m\u001b[39mInvalid return type for flow engine \u001b[39m\u001b[39m{\u001b[39;00mreturn_type\u001b[39m!r}\u001b[39;00m\u001b[39m.\u001b[39m\u001b[39m\"\u001b[39m)\n",
      "File \u001b[0;32m~/workspace/prefect/venv/lib/python3.10/site-packages/prefect/states.py:91\u001b[0m, in \u001b[0;36m_get_state_result\u001b[0;34m(state, raise_on_failure)\u001b[0m\n\u001b[1;32m     84\u001b[0m     \u001b[39mraise\u001b[39;00m UnfinishedRun(\n\u001b[1;32m     85\u001b[0m         \u001b[39mf\u001b[39m\u001b[39m\"\u001b[39m\u001b[39mRun is in \u001b[39m\u001b[39m{\u001b[39;00mstate\u001b[39m.\u001b[39mtype\u001b[39m.\u001b[39mname\u001b[39m}\u001b[39;00m\u001b[39m state, its result is not available.\u001b[39m\u001b[39m\"\u001b[39m\n\u001b[1;32m     86\u001b[0m     )\n\u001b[1;32m     88\u001b[0m \u001b[39mif\u001b[39;00m raise_on_failure \u001b[39mand\u001b[39;00m (\n\u001b[1;32m     89\u001b[0m     state\u001b[39m.\u001b[39mis_crashed() \u001b[39mor\u001b[39;00m state\u001b[39m.\u001b[39mis_failed() \u001b[39mor\u001b[39;00m state\u001b[39m.\u001b[39mis_cancelled()\n\u001b[1;32m     90\u001b[0m ):\n\u001b[0;32m---> 91\u001b[0m     \u001b[39mraise\u001b[39;00m \u001b[39mawait\u001b[39;00m get_state_exception(state)\n\u001b[1;32m     93\u001b[0m \u001b[39mif\u001b[39;00m \u001b[39misinstance\u001b[39m(state\u001b[39m.\u001b[39mdata, DataDocument):\n\u001b[1;32m     94\u001b[0m     result \u001b[39m=\u001b[39m result_from_state_with_data_document(\n\u001b[1;32m     95\u001b[0m         state, raise_on_failure\u001b[39m=\u001b[39mraise_on_failure\n\u001b[1;32m     96\u001b[0m     )\n",
      "File \u001b[0;32m~/workspace/prefect/venv/lib/python3.10/site-packages/prefect/engine.py:1719\u001b[0m, in \u001b[0;36morchestrate_task_run\u001b[0;34m(task, task_run, parameters, wait_for, result_factory, log_prints, interruptible, client)\u001b[0m\n\u001b[1;32m   1712\u001b[0m         logger\u001b[39m.\u001b[39mdebug(\n\u001b[1;32m   1713\u001b[0m             \u001b[39m\"\u001b[39m\u001b[39mBeginning execution...\u001b[39m\u001b[39m\"\u001b[39m, extra\u001b[39m=\u001b[39m{\u001b[39m\"\u001b[39m\u001b[39mstate_message\u001b[39m\u001b[39m\"\u001b[39m: \u001b[39mTrue\u001b[39;00m}\n\u001b[1;32m   1714\u001b[0m         )\n\u001b[1;32m   1716\u001b[0m     call \u001b[39m=\u001b[39m from_async\u001b[39m.\u001b[39mcall_soon_in_new_thread(\n\u001b[1;32m   1717\u001b[0m         create_call(task\u001b[39m.\u001b[39mfn, \u001b[39m*\u001b[39margs, \u001b[39m*\u001b[39m\u001b[39m*\u001b[39mkwargs), timeout\u001b[39m=\u001b[39mtask\u001b[39m.\u001b[39mtimeout_seconds\n\u001b[1;32m   1718\u001b[0m     )\n\u001b[0;32m-> 1719\u001b[0m     result \u001b[39m=\u001b[39m \u001b[39mawait\u001b[39;00m call\u001b[39m.\u001b[39maresult()\n\u001b[1;32m   1721\u001b[0m \u001b[39mexcept\u001b[39;00m (CancelledError, asyncio\u001b[39m.\u001b[39mCancelledError) \u001b[39mas\u001b[39;00m exc:\n\u001b[1;32m   1722\u001b[0m     \u001b[39mif\u001b[39;00m \u001b[39mnot\u001b[39;00m call\u001b[39m.\u001b[39mtimedout():\n\u001b[1;32m   1723\u001b[0m         \u001b[39m# If the task call was not cancelled by us; this is a crash\u001b[39;00m\n",
      "File \u001b[0;32m~/workspace/prefect/venv/lib/python3.10/site-packages/prefect/_internal/concurrency/calls.py:292\u001b[0m, in \u001b[0;36mCall.aresult\u001b[0;34m(self)\u001b[0m\n\u001b[1;32m    286\u001b[0m \u001b[39m\u001b[39m\u001b[39m\"\"\"\u001b[39;00m\n\u001b[1;32m    287\u001b[0m \u001b[39mWait for the result of the call.\u001b[39;00m\n\u001b[1;32m    288\u001b[0m \n\u001b[1;32m    289\u001b[0m \u001b[39mFor use from asynchronous contexts.\u001b[39;00m\n\u001b[1;32m    290\u001b[0m \u001b[39m\"\"\"\u001b[39;00m\n\u001b[1;32m    291\u001b[0m \u001b[39mtry\u001b[39;00m:\n\u001b[0;32m--> 292\u001b[0m     \u001b[39mreturn\u001b[39;00m \u001b[39mawait\u001b[39;00m asyncio\u001b[39m.\u001b[39mwrap_future(\u001b[39mself\u001b[39m\u001b[39m.\u001b[39mfuture)\n\u001b[1;32m    293\u001b[0m \u001b[39mexcept\u001b[39;00m asyncio\u001b[39m.\u001b[39mCancelledError \u001b[39mas\u001b[39;00m exc:\n\u001b[1;32m    294\u001b[0m     \u001b[39mraise\u001b[39;00m CancelledError() \u001b[39mfrom\u001b[39;00m \u001b[39mexc\u001b[39;00m\n",
      "File \u001b[0;32m~/workspace/prefect/venv/lib/python3.10/site-packages/prefect/_internal/concurrency/calls.py:316\u001b[0m, in \u001b[0;36mCall._run_sync\u001b[0;34m(***failed resolving arguments***)\u001b[0m\n\u001b[1;32m    314\u001b[0m \u001b[39mwith\u001b[39;00m set_current_call(\u001b[39mself\u001b[39m):\n\u001b[1;32m    315\u001b[0m     \u001b[39mwith\u001b[39;00m \u001b[39mself\u001b[39m\u001b[39m.\u001b[39mfuture\u001b[39m.\u001b[39menforce_sync_deadline() \u001b[39mas\u001b[39;00m cancel_scope:\n\u001b[0;32m--> 316\u001b[0m         result \u001b[39m=\u001b[39m \u001b[39mself\u001b[39;49m\u001b[39m.\u001b[39;49mfn(\u001b[39m*\u001b[39;49m\u001b[39mself\u001b[39;49m\u001b[39m.\u001b[39;49margs, \u001b[39m*\u001b[39;49m\u001b[39m*\u001b[39;49m\u001b[39mself\u001b[39;49m\u001b[39m.\u001b[39;49mkwargs)\n\u001b[1;32m    318\u001b[0m \u001b[39m# Return the coroutine for async execution\u001b[39;00m\n\u001b[1;32m    319\u001b[0m \u001b[39mif\u001b[39;00m inspect\u001b[39m.\u001b[39misawaitable(result):\n",
      "Cell \u001b[0;32mIn[16], line 9\u001b[0m, in \u001b[0;36mdo_something_important\u001b[0;34m()\u001b[0m\n\u001b[1;32m      7\u001b[0m \u001b[39mprint\u001b[39m(\u001b[39mf\u001b[39m\u001b[39m\"\u001b[39m\u001b[39mIs the number > 0.5? \u001b[39m\u001b[39m{\u001b[39;00mbool_\u001b[39m}\u001b[39;00m\u001b[39m\"\u001b[39m)\n\u001b[1;32m      8\u001b[0m \u001b[39mif\u001b[39;00m bool_:\n\u001b[0;32m----> 9\u001b[0m     \u001b[39mraise\u001b[39;00m \u001b[39mValueError\u001b[39;00m(\u001b[39m\"\u001b[39m\u001b[39mNon-deterministic error has occured.\u001b[39m\u001b[39m\"\u001b[39m)\n",
      "\u001b[0;31mValueError\u001b[0m: Non-deterministic error has occured."
     ]
    }
   ],
   "source": [
    "import random\n",
    "from prefect import task, flow\n",
    "\n",
    "@task\n",
    "def do_something_important():\n",
    "    bool_ = random.random() > 0.5\n",
    "    print(f\"Is the number > 0.5? {bool_}\")\n",
    "    if bool_:\n",
    "        raise ValueError(\"Non-deterministic error has occured.\")\n",
    "\n",
    "@task\n",
    "def fail():\n",
    "    print(\"Failure\")\n",
    "\n",
    "@task\n",
    "def succeed():\n",
    "    print(\"Success\")\n",
    "\n",
    "@task\n",
    "def always_run():\n",
    "    print(\"Running regardless of upstream task's state\")\n",
    "\n",
    "@flow(log_prints=True)\n",
    "def main_flow():\n",
    "    a = do_something_important.submit()\n",
    "    # equivalent of all_failed or any_failed trigger in Prefect 1.0:\n",
    "    if a.wait() == \"Failed\":\n",
    "        fail.submit()  # the task is skipped if the condition is not true\n",
    "    # equivalent of all_succesful trigger in Prefect 1.0\n",
    "    else:\n",
    "        succeed.submit()  # the task is skipped on upstream failure\n",
    "\n",
    "    # equivalent of always_run or all_finished trigger in Prefect 1.0:\n",
    "    always_run.submit()\n",
    "\n",
    "if __name__ == \"__main__\":\n",
    "    main_flow()"
   ]
  },
  {
   "cell_type": "code",
   "execution_count": null,
   "metadata": {},
   "outputs": [],
   "source": []
  }
 ],
 "metadata": {
  "kernelspec": {
   "display_name": "venv",
   "language": "python",
   "name": "python3"
  },
  "language_info": {
   "codemirror_mode": {
    "name": "ipython",
    "version": 3
   },
   "file_extension": ".py",
   "mimetype": "text/x-python",
   "name": "python",
   "nbconvert_exporter": "python",
   "pygments_lexer": "ipython3",
   "version": "3.10.9"
  },
  "orig_nbformat": 4
 },
 "nbformat": 4,
 "nbformat_minor": 2
}
