{
 "cells": [
  {
   "attachments": {},
   "cell_type": "markdown",
   "metadata": {},
   "source": [
    "# practice\n",
    "  [参考記事](https://qiita.com/koji_mats/items/0533fbdeb9012a7e1494#appendix-prefect%E3%82%92k8s%E3%81%B8%E3%83%87%E3%83%97%E3%83%AD%E3%82%A4%E3%81%99%E3%82%8B%E6%89%8B%E9%A0%86)"
   ]
  },
  {
   "cell_type": "code",
   "execution_count": null,
   "metadata": {},
   "outputs": [],
   "source": [
    "# ver1での書き方\n",
    "# 2系で実施しているので、実行エラー\n",
    "# from prefect import Flow, task\n",
    "\n",
    "# @task\n",
    "# def get_name():\n",
    "#     return \"world\"\n",
    "\n",
    "# @task\n",
    "# def hello(who):\n",
    "#     print(\"hello, {}!\".format(who))\n",
    "\n",
    "# with Flow(\"HelloWorld\") as flow:\n",
    "#     who = get_name()\n",
    "#     hello_world = hello(who)\n",
    "\n",
    "# flow.run()"
   ]
  },
  {
   "cell_type": "code",
   "execution_count": 3,
   "metadata": {},
   "outputs": [
    {
     "name": "stderr",
     "output_type": "stream",
     "text": [
      "/Users/kohta/workspace/prefect/venv/lib/python3.10/site-packages/prefect/tasks.py:298: UserWarning: A task named 'get name task' and defined at '/var/folders/q5/s5mcbmt95hd29sp3b9xmr2580000gn/T/ipykernel_57820/690448971.py:4' conflicts with another task. Consider specifying a unique `name` parameter in the task definition:\n",
      "\n",
      " `@task(name='my_unique_name', ...)`\n",
      "  warnings.warn(\n",
      "/Users/kohta/workspace/prefect/venv/lib/python3.10/site-packages/prefect/tasks.py:298: UserWarning: A task named 'hello task' and defined at '/var/folders/q5/s5mcbmt95hd29sp3b9xmr2580000gn/T/ipykernel_57820/690448971.py:8' conflicts with another task. Consider specifying a unique `name` parameter in the task definition:\n",
      "\n",
      " `@task(name='my_unique_name', ...)`\n",
      "  warnings.warn(\n",
      "/Users/kohta/workspace/prefect/venv/lib/python3.10/site-packages/prefect/flows.py:244: UserWarning: A flow named 'greeting flow' and defined at '/var/folders/q5/s5mcbmt95hd29sp3b9xmr2580000gn/T/ipykernel_57820/690448971.py:12' conflicts with another flow. Consider specifying a unique `name` parameter in the flow definition:\n",
      "\n",
      " `@flow(name='my_unique_name', ...)`\n",
      "  warnings.warn(\n"
     ]
    },
    {
     "data": {
      "text/html": [
       "<pre style=\"white-space:pre;overflow-x:auto;line-height:normal;font-family:Menlo,'DejaVu Sans Mono',consolas,'Courier New',monospace\">09:05:44.848 | <span style=\"color: #008080; text-decoration-color: #008080\">INFO</span>    | prefect.engine - Created flow run<span style=\"color: #800080; text-decoration-color: #800080\"> 'tentacled-wildebeest'</span> for flow<span style=\"color: #800080; text-decoration-color: #800080; font-weight: bold\"> 'greeting flow'</span>\n",
       "</pre>\n"
      ],
      "text/plain": [
       "09:05:44.848 | \u001b[36mINFO\u001b[0m    | prefect.engine - Created flow run\u001b[35m 'tentacled-wildebeest'\u001b[0m for flow\u001b[1;35m 'greeting flow'\u001b[0m\n"
      ]
     },
     "metadata": {},
     "output_type": "display_data"
    },
    {
     "data": {
      "text/html": [
       "<pre style=\"white-space:pre;overflow-x:auto;line-height:normal;font-family:Menlo,'DejaVu Sans Mono',consolas,'Courier New',monospace\">09:05:44.930 | <span style=\"color: #008080; text-decoration-color: #008080\">INFO</span>    | Flow run<span style=\"color: #800080; text-decoration-color: #800080\"> 'tentacled-wildebeest'</span> - Created task run 'get name task-0' for task 'get name task'\n",
       "</pre>\n"
      ],
      "text/plain": [
       "09:05:44.930 | \u001b[36mINFO\u001b[0m    | Flow run\u001b[35m 'tentacled-wildebeest'\u001b[0m - Created task run 'get name task-0' for task 'get name task'\n"
      ]
     },
     "metadata": {},
     "output_type": "display_data"
    },
    {
     "data": {
      "text/html": [
       "<pre style=\"white-space:pre;overflow-x:auto;line-height:normal;font-family:Menlo,'DejaVu Sans Mono',consolas,'Courier New',monospace\">09:05:44.931 | <span style=\"color: #008080; text-decoration-color: #008080\">INFO</span>    | Flow run<span style=\"color: #800080; text-decoration-color: #800080\"> 'tentacled-wildebeest'</span> - Executing 'get name task-0' immediately...\n",
       "</pre>\n"
      ],
      "text/plain": [
       "09:05:44.931 | \u001b[36mINFO\u001b[0m    | Flow run\u001b[35m 'tentacled-wildebeest'\u001b[0m - Executing 'get name task-0' immediately...\n"
      ]
     },
     "metadata": {},
     "output_type": "display_data"
    },
    {
     "data": {
      "text/html": [
       "<pre style=\"white-space:pre;overflow-x:auto;line-height:normal;font-family:Menlo,'DejaVu Sans Mono',consolas,'Courier New',monospace\">09:05:44.980 | <span style=\"color: #008080; text-decoration-color: #008080\">INFO</span>    | Task run 'get name task-0' - Finished in state <span style=\"color: #008000; text-decoration-color: #008000\">Completed</span>()\n",
       "</pre>\n"
      ],
      "text/plain": [
       "09:05:44.980 | \u001b[36mINFO\u001b[0m    | Task run 'get name task-0' - Finished in state \u001b[32mCompleted\u001b[0m()\n"
      ]
     },
     "metadata": {},
     "output_type": "display_data"
    },
    {
     "data": {
      "text/html": [
       "<pre style=\"white-space:pre;overflow-x:auto;line-height:normal;font-family:Menlo,'DejaVu Sans Mono',consolas,'Courier New',monospace\">09:05:44.995 | <span style=\"color: #008080; text-decoration-color: #008080\">INFO</span>    | Flow run<span style=\"color: #800080; text-decoration-color: #800080\"> 'tentacled-wildebeest'</span> - Created task run 'hello task-0' for task 'hello task'\n",
       "</pre>\n"
      ],
      "text/plain": [
       "09:05:44.995 | \u001b[36mINFO\u001b[0m    | Flow run\u001b[35m 'tentacled-wildebeest'\u001b[0m - Created task run 'hello task-0' for task 'hello task'\n"
      ]
     },
     "metadata": {},
     "output_type": "display_data"
    },
    {
     "data": {
      "text/html": [
       "<pre style=\"white-space:pre;overflow-x:auto;line-height:normal;font-family:Menlo,'DejaVu Sans Mono',consolas,'Courier New',monospace\">09:05:44.996 | <span style=\"color: #008080; text-decoration-color: #008080\">INFO</span>    | Flow run<span style=\"color: #800080; text-decoration-color: #800080\"> 'tentacled-wildebeest'</span> - Executing 'hello task-0' immediately...\n",
       "</pre>\n"
      ],
      "text/plain": [
       "09:05:44.996 | \u001b[36mINFO\u001b[0m    | Flow run\u001b[35m 'tentacled-wildebeest'\u001b[0m - Executing 'hello task-0' immediately...\n"
      ]
     },
     "metadata": {},
     "output_type": "display_data"
    },
    {
     "name": "stdout",
     "output_type": "stream",
     "text": [
      "Hello, World!\n"
     ]
    },
    {
     "data": {
      "text/html": [
       "<pre style=\"white-space:pre;overflow-x:auto;line-height:normal;font-family:Menlo,'DejaVu Sans Mono',consolas,'Courier New',monospace\">09:05:45.076 | <span style=\"color: #008080; text-decoration-color: #008080\">INFO</span>    | Task run 'hello task-0' - Finished in state <span style=\"color: #008000; text-decoration-color: #008000\">Completed</span>()\n",
       "</pre>\n"
      ],
      "text/plain": [
       "09:05:45.076 | \u001b[36mINFO\u001b[0m    | Task run 'hello task-0' - Finished in state \u001b[32mCompleted\u001b[0m()\n"
      ]
     },
     "metadata": {},
     "output_type": "display_data"
    },
    {
     "data": {
      "text/html": [
       "<pre style=\"white-space:pre;overflow-x:auto;line-height:normal;font-family:Menlo,'DejaVu Sans Mono',consolas,'Courier New',monospace\">09:05:45.092 | <span style=\"color: #008080; text-decoration-color: #008080\">INFO</span>    | Flow run<span style=\"color: #800080; text-decoration-color: #800080\"> 'tentacled-wildebeest'</span> - Finished in state <span style=\"color: #008000; text-decoration-color: #008000\">Completed</span>('All states completed.')\n",
       "</pre>\n"
      ],
      "text/plain": [
       "09:05:45.092 | \u001b[36mINFO\u001b[0m    | Flow run\u001b[35m 'tentacled-wildebeest'\u001b[0m - Finished in state \u001b[32mCompleted\u001b[0m('All states completed.')\n"
      ]
     },
     "metadata": {},
     "output_type": "display_data"
    }
   ],
   "source": [
    "# 記事の内容を2系で書き換え\n",
    "from prefect import task, flow\n",
    "\n",
    "@task(name=\"get name task\")\n",
    "def get_name():\n",
    "    return(\"World\")\n",
    "\n",
    "@task(name=\"hello task\")\n",
    "def hello(who):\n",
    "    print(f\"Hello, {who}!\")\n",
    "\n",
    "@flow(name=\"greeting flow\")\n",
    "def greeting_flow():\n",
    "    who = get_name()\n",
    "    hello(who)\n",
    "\n",
    "if __name__ == \"__main__\":\n",
    "    greeting_flow()"
   ]
  },
  {
   "cell_type": "code",
   "execution_count": null,
   "metadata": {},
   "outputs": [],
   "source": []
  }
 ],
 "metadata": {
  "kernelspec": {
   "display_name": "venv",
   "language": "python",
   "name": "python3"
  },
  "language_info": {
   "codemirror_mode": {
    "name": "ipython",
    "version": 3
   },
   "file_extension": ".py",
   "mimetype": "text/x-python",
   "name": "python",
   "nbconvert_exporter": "python",
   "pygments_lexer": "ipython3",
   "version": "3.10.9"
  },
  "orig_nbformat": 4
 },
 "nbformat": 4,
 "nbformat_minor": 2
}
