{
 "cells": [
  {
   "attachments": {},
   "cell_type": "markdown",
   "metadata": {},
   "source": [
    "[参考記事](https://qiita.com/koji_mats/items/0533fbdeb9012a7e1494#appendix-prefect%E3%82%92k8s%E3%81%B8%E3%83%87%E3%83%97%E3%83%AD%E3%82%A4%E3%81%99%E3%82%8B%E6%89%8B%E9%A0%86)\n"
   ]
  },
  {
   "attachments": {},
   "cell_type": "markdown",
   "metadata": {},
   "source": [
    "# メモ\n",
    "\n",
    "- flow や task にはユニークな名前を付ける必要がある(そうでないと警告発生)\n"
   ]
  },
  {
   "attachments": {},
   "cell_type": "markdown",
   "metadata": {},
   "source": [
    "# 1. Hello World!!\n"
   ]
  },
  {
   "cell_type": "code",
   "execution_count": null,
   "metadata": {},
   "outputs": [],
   "source": [
    "# ver1での書き方\n",
    "# 2系で実施しているので、実行エラー\n",
    "# from prefect import Flow, task\n",
    "\n",
    "# @task\n",
    "# def get_name():\n",
    "#     return \"world\"\n",
    "\n",
    "# @task\n",
    "# def hello(who):\n",
    "#     print(\"hello, {}!\".format(who))\n",
    "\n",
    "# with Flow(\"HelloWorld\") as flow:\n",
    "#     who = get_name()\n",
    "#     hello_world = hello(who)\n",
    "\n",
    "# flow.run()"
   ]
  },
  {
   "cell_type": "code",
   "execution_count": 3,
   "metadata": {},
   "outputs": [
    {
     "name": "stderr",
     "output_type": "stream",
     "text": [
      "/Users/kohta/workspace/prefect/venv/lib/python3.10/site-packages/prefect/tasks.py:298: UserWarning: A task named 'get name task' and defined at '/var/folders/q5/s5mcbmt95hd29sp3b9xmr2580000gn/T/ipykernel_57820/690448971.py:4' conflicts with another task. Consider specifying a unique `name` parameter in the task definition:\n",
      "\n",
      " `@task(name='my_unique_name', ...)`\n",
      "  warnings.warn(\n",
      "/Users/kohta/workspace/prefect/venv/lib/python3.10/site-packages/prefect/tasks.py:298: UserWarning: A task named 'hello task' and defined at '/var/folders/q5/s5mcbmt95hd29sp3b9xmr2580000gn/T/ipykernel_57820/690448971.py:8' conflicts with another task. Consider specifying a unique `name` parameter in the task definition:\n",
      "\n",
      " `@task(name='my_unique_name', ...)`\n",
      "  warnings.warn(\n",
      "/Users/kohta/workspace/prefect/venv/lib/python3.10/site-packages/prefect/flows.py:244: UserWarning: A flow named 'greeting flow' and defined at '/var/folders/q5/s5mcbmt95hd29sp3b9xmr2580000gn/T/ipykernel_57820/690448971.py:12' conflicts with another flow. Consider specifying a unique `name` parameter in the flow definition:\n",
      "\n",
      " `@flow(name='my_unique_name', ...)`\n",
      "  warnings.warn(\n"
     ]
    },
    {
     "data": {
      "text/html": [
       "<pre style=\"white-space:pre;overflow-x:auto;line-height:normal;font-family:Menlo,'DejaVu Sans Mono',consolas,'Courier New',monospace\">09:05:44.848 | <span style=\"color: #008080; text-decoration-color: #008080\">INFO</span>    | prefect.engine - Created flow run<span style=\"color: #800080; text-decoration-color: #800080\"> 'tentacled-wildebeest'</span> for flow<span style=\"color: #800080; text-decoration-color: #800080; font-weight: bold\"> 'greeting flow'</span>\n",
       "</pre>\n"
      ],
      "text/plain": [
       "09:05:44.848 | \u001b[36mINFO\u001b[0m    | prefect.engine - Created flow run\u001b[35m 'tentacled-wildebeest'\u001b[0m for flow\u001b[1;35m 'greeting flow'\u001b[0m\n"
      ]
     },
     "metadata": {},
     "output_type": "display_data"
    },
    {
     "data": {
      "text/html": [
       "<pre style=\"white-space:pre;overflow-x:auto;line-height:normal;font-family:Menlo,'DejaVu Sans Mono',consolas,'Courier New',monospace\">09:05:44.930 | <span style=\"color: #008080; text-decoration-color: #008080\">INFO</span>    | Flow run<span style=\"color: #800080; text-decoration-color: #800080\"> 'tentacled-wildebeest'</span> - Created task run 'get name task-0' for task 'get name task'\n",
       "</pre>\n"
      ],
      "text/plain": [
       "09:05:44.930 | \u001b[36mINFO\u001b[0m    | Flow run\u001b[35m 'tentacled-wildebeest'\u001b[0m - Created task run 'get name task-0' for task 'get name task'\n"
      ]
     },
     "metadata": {},
     "output_type": "display_data"
    },
    {
     "data": {
      "text/html": [
       "<pre style=\"white-space:pre;overflow-x:auto;line-height:normal;font-family:Menlo,'DejaVu Sans Mono',consolas,'Courier New',monospace\">09:05:44.931 | <span style=\"color: #008080; text-decoration-color: #008080\">INFO</span>    | Flow run<span style=\"color: #800080; text-decoration-color: #800080\"> 'tentacled-wildebeest'</span> - Executing 'get name task-0' immediately...\n",
       "</pre>\n"
      ],
      "text/plain": [
       "09:05:44.931 | \u001b[36mINFO\u001b[0m    | Flow run\u001b[35m 'tentacled-wildebeest'\u001b[0m - Executing 'get name task-0' immediately...\n"
      ]
     },
     "metadata": {},
     "output_type": "display_data"
    },
    {
     "data": {
      "text/html": [
       "<pre style=\"white-space:pre;overflow-x:auto;line-height:normal;font-family:Menlo,'DejaVu Sans Mono',consolas,'Courier New',monospace\">09:05:44.980 | <span style=\"color: #008080; text-decoration-color: #008080\">INFO</span>    | Task run 'get name task-0' - Finished in state <span style=\"color: #008000; text-decoration-color: #008000\">Completed</span>()\n",
       "</pre>\n"
      ],
      "text/plain": [
       "09:05:44.980 | \u001b[36mINFO\u001b[0m    | Task run 'get name task-0' - Finished in state \u001b[32mCompleted\u001b[0m()\n"
      ]
     },
     "metadata": {},
     "output_type": "display_data"
    },
    {
     "data": {
      "text/html": [
       "<pre style=\"white-space:pre;overflow-x:auto;line-height:normal;font-family:Menlo,'DejaVu Sans Mono',consolas,'Courier New',monospace\">09:05:44.995 | <span style=\"color: #008080; text-decoration-color: #008080\">INFO</span>    | Flow run<span style=\"color: #800080; text-decoration-color: #800080\"> 'tentacled-wildebeest'</span> - Created task run 'hello task-0' for task 'hello task'\n",
       "</pre>\n"
      ],
      "text/plain": [
       "09:05:44.995 | \u001b[36mINFO\u001b[0m    | Flow run\u001b[35m 'tentacled-wildebeest'\u001b[0m - Created task run 'hello task-0' for task 'hello task'\n"
      ]
     },
     "metadata": {},
     "output_type": "display_data"
    },
    {
     "data": {
      "text/html": [
       "<pre style=\"white-space:pre;overflow-x:auto;line-height:normal;font-family:Menlo,'DejaVu Sans Mono',consolas,'Courier New',monospace\">09:05:44.996 | <span style=\"color: #008080; text-decoration-color: #008080\">INFO</span>    | Flow run<span style=\"color: #800080; text-decoration-color: #800080\"> 'tentacled-wildebeest'</span> - Executing 'hello task-0' immediately...\n",
       "</pre>\n"
      ],
      "text/plain": [
       "09:05:44.996 | \u001b[36mINFO\u001b[0m    | Flow run\u001b[35m 'tentacled-wildebeest'\u001b[0m - Executing 'hello task-0' immediately...\n"
      ]
     },
     "metadata": {},
     "output_type": "display_data"
    },
    {
     "name": "stdout",
     "output_type": "stream",
     "text": [
      "Hello, World!\n"
     ]
    },
    {
     "data": {
      "text/html": [
       "<pre style=\"white-space:pre;overflow-x:auto;line-height:normal;font-family:Menlo,'DejaVu Sans Mono',consolas,'Courier New',monospace\">09:05:45.076 | <span style=\"color: #008080; text-decoration-color: #008080\">INFO</span>    | Task run 'hello task-0' - Finished in state <span style=\"color: #008000; text-decoration-color: #008000\">Completed</span>()\n",
       "</pre>\n"
      ],
      "text/plain": [
       "09:05:45.076 | \u001b[36mINFO\u001b[0m    | Task run 'hello task-0' - Finished in state \u001b[32mCompleted\u001b[0m()\n"
      ]
     },
     "metadata": {},
     "output_type": "display_data"
    },
    {
     "data": {
      "text/html": [
       "<pre style=\"white-space:pre;overflow-x:auto;line-height:normal;font-family:Menlo,'DejaVu Sans Mono',consolas,'Courier New',monospace\">09:05:45.092 | <span style=\"color: #008080; text-decoration-color: #008080\">INFO</span>    | Flow run<span style=\"color: #800080; text-decoration-color: #800080\"> 'tentacled-wildebeest'</span> - Finished in state <span style=\"color: #008000; text-decoration-color: #008000\">Completed</span>('All states completed.')\n",
       "</pre>\n"
      ],
      "text/plain": [
       "09:05:45.092 | \u001b[36mINFO\u001b[0m    | Flow run\u001b[35m 'tentacled-wildebeest'\u001b[0m - Finished in state \u001b[32mCompleted\u001b[0m('All states completed.')\n"
      ]
     },
     "metadata": {},
     "output_type": "display_data"
    }
   ],
   "source": [
    "# 記事の内容を2系で書き換え\n",
    "from prefect import task, flow\n",
    "\n",
    "\n",
    "@task(name=\"get name task\")\n",
    "def get_name():\n",
    "    return \"World\"\n",
    "\n",
    "\n",
    "@task(name=\"hello task\")\n",
    "def hello(who):\n",
    "    print(f\"Hello, {who}!\")\n",
    "\n",
    "\n",
    "@flow(name=\"greeting flow\")\n",
    "def greeting_flow():\n",
    "    who = get_name()\n",
    "    hello(who)\n",
    "\n",
    "\n",
    "if __name__ == \"__main__\":\n",
    "    greeting_flow()"
   ]
  },
  {
   "attachments": {},
   "cell_type": "markdown",
   "metadata": {},
   "source": [
    "# 2. パラメータ化\n",
    "\n",
    "- flow 実行時にパラメータを渡して、タスク内で使用する\n"
   ]
  },
  {
   "cell_type": "code",
   "execution_count": 4,
   "metadata": {},
   "outputs": [
    {
     "name": "stderr",
     "output_type": "stream",
     "text": [
      "/Users/kohta/workspace/prefect/venv/lib/python3.10/site-packages/prefect/tasks.py:298: UserWarning: A task named 'get name task' and defined at '/var/folders/q5/s5mcbmt95hd29sp3b9xmr2580000gn/T/ipykernel_57820/1155948213.py:4' conflicts with another task. Consider specifying a unique `name` parameter in the task definition:\n",
      "\n",
      " `@task(name='my_unique_name', ...)`\n",
      "  warnings.warn(\n",
      "/Users/kohta/workspace/prefect/venv/lib/python3.10/site-packages/prefect/tasks.py:298: UserWarning: A task named 'hello task' and defined at '/var/folders/q5/s5mcbmt95hd29sp3b9xmr2580000gn/T/ipykernel_57820/1155948213.py:8' conflicts with another task. Consider specifying a unique `name` parameter in the task definition:\n",
      "\n",
      " `@task(name='my_unique_name', ...)`\n",
      "  warnings.warn(\n",
      "/Users/kohta/workspace/prefect/venv/lib/python3.10/site-packages/prefect/flows.py:244: UserWarning: A flow named 'greeting flow' and defined at '/var/folders/q5/s5mcbmt95hd29sp3b9xmr2580000gn/T/ipykernel_57820/1155948213.py:12' conflicts with another flow. Consider specifying a unique `name` parameter in the flow definition:\n",
      "\n",
      " `@flow(name='my_unique_name', ...)`\n",
      "  warnings.warn(\n"
     ]
    },
    {
     "data": {
      "text/html": [
       "<pre style=\"white-space:pre;overflow-x:auto;line-height:normal;font-family:Menlo,'DejaVu Sans Mono',consolas,'Courier New',monospace\">09:23:58.012 | <span style=\"color: #008080; text-decoration-color: #008080\">INFO</span>    | prefect.engine - Created flow run<span style=\"color: #800080; text-decoration-color: #800080\"> 'hidden-salmon'</span> for flow<span style=\"color: #800080; text-decoration-color: #800080; font-weight: bold\"> 'greeting flow'</span>\n",
       "</pre>\n"
      ],
      "text/plain": [
       "09:23:58.012 | \u001b[36mINFO\u001b[0m    | prefect.engine - Created flow run\u001b[35m 'hidden-salmon'\u001b[0m for flow\u001b[1;35m 'greeting flow'\u001b[0m\n"
      ]
     },
     "metadata": {},
     "output_type": "display_data"
    },
    {
     "data": {
      "text/html": [
       "<pre style=\"white-space:pre;overflow-x:auto;line-height:normal;font-family:Menlo,'DejaVu Sans Mono',consolas,'Courier New',monospace\">09:23:58.083 | <span style=\"color: #008080; text-decoration-color: #008080\">INFO</span>    | Flow run<span style=\"color: #800080; text-decoration-color: #800080\"> 'hidden-salmon'</span> - Created task run 'get name task-0' for task 'get name task'\n",
       "</pre>\n"
      ],
      "text/plain": [
       "09:23:58.083 | \u001b[36mINFO\u001b[0m    | Flow run\u001b[35m 'hidden-salmon'\u001b[0m - Created task run 'get name task-0' for task 'get name task'\n"
      ]
     },
     "metadata": {},
     "output_type": "display_data"
    },
    {
     "data": {
      "text/html": [
       "<pre style=\"white-space:pre;overflow-x:auto;line-height:normal;font-family:Menlo,'DejaVu Sans Mono',consolas,'Courier New',monospace\">09:23:58.084 | <span style=\"color: #008080; text-decoration-color: #008080\">INFO</span>    | Flow run<span style=\"color: #800080; text-decoration-color: #800080\"> 'hidden-salmon'</span> - Executing 'get name task-0' immediately...\n",
       "</pre>\n"
      ],
      "text/plain": [
       "09:23:58.084 | \u001b[36mINFO\u001b[0m    | Flow run\u001b[35m 'hidden-salmon'\u001b[0m - Executing 'get name task-0' immediately...\n"
      ]
     },
     "metadata": {},
     "output_type": "display_data"
    },
    {
     "data": {
      "text/html": [
       "<pre style=\"white-space:pre;overflow-x:auto;line-height:normal;font-family:Menlo,'DejaVu Sans Mono',consolas,'Courier New',monospace\">09:23:58.130 | <span style=\"color: #008080; text-decoration-color: #008080\">INFO</span>    | Task run 'get name task-0' - Finished in state <span style=\"color: #008000; text-decoration-color: #008000\">Completed</span>()\n",
       "</pre>\n"
      ],
      "text/plain": [
       "09:23:58.130 | \u001b[36mINFO\u001b[0m    | Task run 'get name task-0' - Finished in state \u001b[32mCompleted\u001b[0m()\n"
      ]
     },
     "metadata": {},
     "output_type": "display_data"
    },
    {
     "data": {
      "text/html": [
       "<pre style=\"white-space:pre;overflow-x:auto;line-height:normal;font-family:Menlo,'DejaVu Sans Mono',consolas,'Courier New',monospace\">09:23:58.141 | <span style=\"color: #008080; text-decoration-color: #008080\">INFO</span>    | Flow run<span style=\"color: #800080; text-decoration-color: #800080\"> 'hidden-salmon'</span> - Created task run 'hello task-0' for task 'hello task'\n",
       "</pre>\n"
      ],
      "text/plain": [
       "09:23:58.141 | \u001b[36mINFO\u001b[0m    | Flow run\u001b[35m 'hidden-salmon'\u001b[0m - Created task run 'hello task-0' for task 'hello task'\n"
      ]
     },
     "metadata": {},
     "output_type": "display_data"
    },
    {
     "data": {
      "text/html": [
       "<pre style=\"white-space:pre;overflow-x:auto;line-height:normal;font-family:Menlo,'DejaVu Sans Mono',consolas,'Courier New',monospace\">09:23:58.142 | <span style=\"color: #008080; text-decoration-color: #008080\">INFO</span>    | Flow run<span style=\"color: #800080; text-decoration-color: #800080\"> 'hidden-salmon'</span> - Executing 'hello task-0' immediately...\n",
       "</pre>\n"
      ],
      "text/plain": [
       "09:23:58.142 | \u001b[36mINFO\u001b[0m    | Flow run\u001b[35m 'hidden-salmon'\u001b[0m - Executing 'hello task-0' immediately...\n"
      ]
     },
     "metadata": {},
     "output_type": "display_data"
    },
    {
     "name": "stdout",
     "output_type": "stream",
     "text": [
      "Hello, KOH!\n"
     ]
    },
    {
     "data": {
      "text/html": [
       "<pre style=\"white-space:pre;overflow-x:auto;line-height:normal;font-family:Menlo,'DejaVu Sans Mono',consolas,'Courier New',monospace\">09:23:58.187 | <span style=\"color: #008080; text-decoration-color: #008080\">INFO</span>    | Task run 'hello task-0' - Finished in state <span style=\"color: #008000; text-decoration-color: #008000\">Completed</span>()\n",
       "</pre>\n"
      ],
      "text/plain": [
       "09:23:58.187 | \u001b[36mINFO\u001b[0m    | Task run 'hello task-0' - Finished in state \u001b[32mCompleted\u001b[0m()\n"
      ]
     },
     "metadata": {},
     "output_type": "display_data"
    },
    {
     "data": {
      "text/html": [
       "<pre style=\"white-space:pre;overflow-x:auto;line-height:normal;font-family:Menlo,'DejaVu Sans Mono',consolas,'Courier New',monospace\">09:23:58.204 | <span style=\"color: #008080; text-decoration-color: #008080\">INFO</span>    | Flow run<span style=\"color: #800080; text-decoration-color: #800080\"> 'hidden-salmon'</span> - Finished in state <span style=\"color: #008000; text-decoration-color: #008000\">Completed</span>('All states completed.')\n",
       "</pre>\n"
      ],
      "text/plain": [
       "09:23:58.204 | \u001b[36mINFO\u001b[0m    | Flow run\u001b[35m 'hidden-salmon'\u001b[0m - Finished in state \u001b[32mCompleted\u001b[0m('All states completed.')\n"
      ]
     },
     "metadata": {},
     "output_type": "display_data"
    }
   ],
   "source": [
    "# \"name\"という引数をflow側で用意して、taskに渡して実行する\n",
    "from prefect import task, flow\n",
    "\n",
    "\n",
    "@task(name=\"get name task\")\n",
    "def get_name(name):\n",
    "    return name\n",
    "\n",
    "\n",
    "@task(name=\"hello task\")\n",
    "def hello(who):\n",
    "    print(f\"Hello, {who}!\")\n",
    "\n",
    "\n",
    "@flow(name=\"greeting flow\")\n",
    "def greeting_flow(name):\n",
    "    who = get_name(name)\n",
    "    hello(who)\n",
    "\n",
    "\n",
    "if __name__ == \"__main__\":\n",
    "    greeting_flow(\"KOH\")"
   ]
  },
  {
   "attachments": {},
   "cell_type": "markdown",
   "metadata": {},
   "source": [
    "# 3. 明示的な依存関係の定義\n",
    "\n",
    "- task1 -> task2 の順に実行したいようなケース\n",
    "  - `タスクの返り値を次のタスクの引数に指定すること`でタスク間の依存関係を構成してきました。\n",
    "  - 一方、`タスク間でデータの受け渡しが無い場合`でも依存関係を構成したいときは、下流タスクが依存する上流タスクを明示的に指定してあげる必要があります。\n"
   ]
  },
  {
   "cell_type": "code",
   "execution_count": null,
   "metadata": {},
   "outputs": [],
   "source": [
    "# def my_flow():\n",
    "#     x = task_1.submit()\n",
    "#     # task 2 will wait for task_1 to complete\n",
    "#     # y = task_2.submit(wait_for=[x])"
   ]
  },
  {
   "cell_type": "code",
   "execution_count": 1,
   "metadata": {},
   "outputs": [
    {
     "data": {
      "text/html": [
       "<pre style=\"white-space:pre;overflow-x:auto;line-height:normal;font-family:Menlo,'DejaVu Sans Mono',consolas,'Courier New',monospace\">10:36:40.015 | <span style=\"color: #008080; text-decoration-color: #008080\">INFO</span>    | prefect.engine - Created flow run<span style=\"color: #800080; text-decoration-color: #800080\"> 'brawny-unicorn'</span> for flow<span style=\"color: #800080; text-decoration-color: #800080; font-weight: bold\"> 'hello world flow'</span>\n",
       "</pre>\n"
      ],
      "text/plain": [
       "10:36:40.015 | \u001b[36mINFO\u001b[0m    | prefect.engine - Created flow run\u001b[35m 'brawny-unicorn'\u001b[0m for flow\u001b[1;35m 'hello world flow'\u001b[0m\n"
      ]
     },
     "metadata": {},
     "output_type": "display_data"
    },
    {
     "name": "stdout",
     "output_type": "stream",
     "text": [
      "flowの実行完了\n"
     ]
    },
    {
     "data": {
      "text/html": [
       "<pre style=\"white-space:pre;overflow-x:auto;line-height:normal;font-family:Menlo,'DejaVu Sans Mono',consolas,'Courier New',monospace\">10:36:40.139 | <span style=\"color: #008080; text-decoration-color: #008080\">INFO</span>    | Flow run<span style=\"color: #800080; text-decoration-color: #800080\"> 'brawny-unicorn'</span> - Created task run 'hello task-0' for task 'hello task'\n",
       "</pre>\n"
      ],
      "text/plain": [
       "10:36:40.139 | \u001b[36mINFO\u001b[0m    | Flow run\u001b[35m 'brawny-unicorn'\u001b[0m - Created task run 'hello task-0' for task 'hello task'\n"
      ]
     },
     "metadata": {},
     "output_type": "display_data"
    },
    {
     "data": {
      "text/html": [
       "<pre style=\"white-space:pre;overflow-x:auto;line-height:normal;font-family:Menlo,'DejaVu Sans Mono',consolas,'Courier New',monospace\">10:36:40.140 | <span style=\"color: #008080; text-decoration-color: #008080\">INFO</span>    | Flow run<span style=\"color: #800080; text-decoration-color: #800080\"> 'brawny-unicorn'</span> - Submitted task run 'hello task-0' for execution.\n",
       "</pre>\n"
      ],
      "text/plain": [
       "10:36:40.140 | \u001b[36mINFO\u001b[0m    | Flow run\u001b[35m 'brawny-unicorn'\u001b[0m - Submitted task run 'hello task-0' for execution.\n"
      ]
     },
     "metadata": {},
     "output_type": "display_data"
    },
    {
     "data": {
      "text/html": [
       "<pre style=\"white-space:pre;overflow-x:auto;line-height:normal;font-family:Menlo,'DejaVu Sans Mono',consolas,'Courier New',monospace\">10:36:40.167 | <span style=\"color: #008080; text-decoration-color: #008080\">INFO</span>    | Flow run<span style=\"color: #800080; text-decoration-color: #800080\"> 'brawny-unicorn'</span> - Created task run 'world task-0' for task 'world task'\n",
       "</pre>\n"
      ],
      "text/plain": [
       "10:36:40.167 | \u001b[36mINFO\u001b[0m    | Flow run\u001b[35m 'brawny-unicorn'\u001b[0m - Created task run 'world task-0' for task 'world task'\n"
      ]
     },
     "metadata": {},
     "output_type": "display_data"
    },
    {
     "data": {
      "text/html": [
       "<pre style=\"white-space:pre;overflow-x:auto;line-height:normal;font-family:Menlo,'DejaVu Sans Mono',consolas,'Courier New',monospace\">10:36:40.168 | <span style=\"color: #008080; text-decoration-color: #008080\">INFO</span>    | Flow run<span style=\"color: #800080; text-decoration-color: #800080\"> 'brawny-unicorn'</span> - Submitted task run 'world task-0' for execution.\n",
       "</pre>\n"
      ],
      "text/plain": [
       "10:36:40.168 | \u001b[36mINFO\u001b[0m    | Flow run\u001b[35m 'brawny-unicorn'\u001b[0m - Submitted task run 'world task-0' for execution.\n"
      ]
     },
     "metadata": {},
     "output_type": "display_data"
    },
    {
     "name": "stdout",
     "output_type": "stream",
     "text": [
      "Hello\n"
     ]
    },
    {
     "data": {
      "text/html": [
       "<pre style=\"white-space:pre;overflow-x:auto;line-height:normal;font-family:Menlo,'DejaVu Sans Mono',consolas,'Courier New',monospace\">10:36:40.211 | <span style=\"color: #008080; text-decoration-color: #008080\">INFO</span>    | Task run 'hello task-0' - Finished in state <span style=\"color: #008000; text-decoration-color: #008000\">Completed</span>()\n",
       "</pre>\n"
      ],
      "text/plain": [
       "10:36:40.211 | \u001b[36mINFO\u001b[0m    | Task run 'hello task-0' - Finished in state \u001b[32mCompleted\u001b[0m()\n"
      ]
     },
     "metadata": {},
     "output_type": "display_data"
    },
    {
     "name": "stdout",
     "output_type": "stream",
     "text": [
      "World!!\n"
     ]
    },
    {
     "data": {
      "text/html": [
       "<pre style=\"white-space:pre;overflow-x:auto;line-height:normal;font-family:Menlo,'DejaVu Sans Mono',consolas,'Courier New',monospace\">10:36:40.248 | <span style=\"color: #008080; text-decoration-color: #008080\">INFO</span>    | Task run 'world task-0' - Finished in state <span style=\"color: #008000; text-decoration-color: #008000\">Completed</span>()\n",
       "</pre>\n"
      ],
      "text/plain": [
       "10:36:40.248 | \u001b[36mINFO\u001b[0m    | Task run 'world task-0' - Finished in state \u001b[32mCompleted\u001b[0m()\n"
      ]
     },
     "metadata": {},
     "output_type": "display_data"
    },
    {
     "data": {
      "text/html": [
       "<pre style=\"white-space:pre;overflow-x:auto;line-height:normal;font-family:Menlo,'DejaVu Sans Mono',consolas,'Courier New',monospace\">10:36:40.264 | <span style=\"color: #008080; text-decoration-color: #008080\">INFO</span>    | Flow run<span style=\"color: #800080; text-decoration-color: #800080\"> 'brawny-unicorn'</span> - Finished in state <span style=\"color: #008000; text-decoration-color: #008000\">Completed</span>('All states completed.')\n",
       "</pre>\n"
      ],
      "text/plain": [
       "10:36:40.264 | \u001b[36mINFO\u001b[0m    | Flow run\u001b[35m 'brawny-unicorn'\u001b[0m - Finished in state \u001b[32mCompleted\u001b[0m('All states completed.')\n"
      ]
     },
     "metadata": {},
     "output_type": "display_data"
    }
   ],
   "source": [
    "from prefect import task, flow\n",
    "\n",
    "\n",
    "@task(name=\"hello task\")\n",
    "def task1():\n",
    "    print(\"Hello\")\n",
    "\n",
    "\n",
    "@task(name=\"world task\")\n",
    "def task2():\n",
    "    print(\"World!!\")\n",
    "\n",
    "\n",
    "@flow(name=\"hello world flow\")\n",
    "def hello_world():\n",
    "    x = task1.submit()\n",
    "    y = task2.submit(wait_for=[x])\n",
    "\n",
    "\n",
    "if __name__ == \"__main__\":\n",
    "    hello_world()"
   ]
  },
  {
   "attachments": {},
   "cell_type": "markdown",
   "metadata": {},
   "source": [
    "# 4. 動的 Flow\n",
    "\n",
    "- タスクの map メソッドを使用して、実行時に上流タスクから渡された値に応じて動的にタスクを生成\n",
    "  - map の引数にリスト(を返すタスクの結果)を渡すと、`リストの各要素ごとにタスクを実行`\n",
    "  - map で実行されるタスクは可能であれば並列実行されるよう\n"
   ]
  },
  {
   "cell_type": "code",
   "execution_count": 23,
   "metadata": {},
   "outputs": [
    {
     "name": "stderr",
     "output_type": "stream",
     "text": [
      "/Users/kohta/workspace/prefect/venv/lib/python3.10/site-packages/prefect/tasks.py:298: UserWarning: A task named 'random_list' and defined at '/var/folders/q5/s5mcbmt95hd29sp3b9xmr2580000gn/T/ipykernel_64112/2096989557.py:4' conflicts with another task. Consider specifying a unique `name` parameter in the task definition:\n",
      "\n",
      " `@task(name='my_unique_name', ...)`\n",
      "  warnings.warn(\n",
      "/Users/kohta/workspace/prefect/venv/lib/python3.10/site-packages/prefect/tasks.py:298: UserWarning: A task named 'squared' and defined at '/var/folders/q5/s5mcbmt95hd29sp3b9xmr2580000gn/T/ipykernel_64112/2096989557.py:8' conflicts with another task. Consider specifying a unique `name` parameter in the task definition:\n",
      "\n",
      " `@task(name='my_unique_name', ...)`\n",
      "  warnings.warn(\n",
      "/Users/kohta/workspace/prefect/venv/lib/python3.10/site-packages/prefect/tasks.py:298: UserWarning: A task named 'sum_up' and defined at '/var/folders/q5/s5mcbmt95hd29sp3b9xmr2580000gn/T/ipykernel_64112/2096989557.py:12' conflicts with another task. Consider specifying a unique `name` parameter in the task definition:\n",
      "\n",
      " `@task(name='my_unique_name', ...)`\n",
      "  warnings.warn(\n",
      "/Users/kohta/workspace/prefect/venv/lib/python3.10/site-packages/prefect/flows.py:244: UserWarning: A flow named 'dynamic flow' and defined at '/var/folders/q5/s5mcbmt95hd29sp3b9xmr2580000gn/T/ipykernel_64112/2096989557.py:18' conflicts with another flow. Consider specifying a unique `name` parameter in the flow definition:\n",
      "\n",
      " `@flow(name='my_unique_name', ...)`\n",
      "  warnings.warn(\n"
     ]
    },
    {
     "data": {
      "text/html": [
       "<pre style=\"white-space:pre;overflow-x:auto;line-height:normal;font-family:Menlo,'DejaVu Sans Mono',consolas,'Courier New',monospace\">11:04:54.482 | <span style=\"color: #008080; text-decoration-color: #008080\">INFO</span>    | prefect.engine - Created flow run<span style=\"color: #800080; text-decoration-color: #800080\"> 'loyal-stoat'</span> for flow<span style=\"color: #800080; text-decoration-color: #800080; font-weight: bold\"> 'dynamic flow'</span>\n",
       "</pre>\n"
      ],
      "text/plain": [
       "11:04:54.482 | \u001b[36mINFO\u001b[0m    | prefect.engine - Created flow run\u001b[35m 'loyal-stoat'\u001b[0m for flow\u001b[1;35m 'dynamic flow'\u001b[0m\n"
      ]
     },
     "metadata": {},
     "output_type": "display_data"
    },
    {
     "data": {
      "text/html": [
       "<pre style=\"white-space:pre;overflow-x:auto;line-height:normal;font-family:Menlo,'DejaVu Sans Mono',consolas,'Courier New',monospace\">11:04:54.552 | <span style=\"color: #008080; text-decoration-color: #008080\">INFO</span>    | Flow run<span style=\"color: #800080; text-decoration-color: #800080\"> 'loyal-stoat'</span> - Created task run 'random_list-0' for task 'random_list'\n",
       "</pre>\n"
      ],
      "text/plain": [
       "11:04:54.552 | \u001b[36mINFO\u001b[0m    | Flow run\u001b[35m 'loyal-stoat'\u001b[0m - Created task run 'random_list-0' for task 'random_list'\n"
      ]
     },
     "metadata": {},
     "output_type": "display_data"
    },
    {
     "data": {
      "text/html": [
       "<pre style=\"white-space:pre;overflow-x:auto;line-height:normal;font-family:Menlo,'DejaVu Sans Mono',consolas,'Courier New',monospace\">11:04:54.553 | <span style=\"color: #008080; text-decoration-color: #008080\">INFO</span>    | Flow run<span style=\"color: #800080; text-decoration-color: #800080\"> 'loyal-stoat'</span> - Executing 'random_list-0' immediately...\n",
       "</pre>\n"
      ],
      "text/plain": [
       "11:04:54.553 | \u001b[36mINFO\u001b[0m    | Flow run\u001b[35m 'loyal-stoat'\u001b[0m - Executing 'random_list-0' immediately...\n"
      ]
     },
     "metadata": {},
     "output_type": "display_data"
    },
    {
     "data": {
      "text/html": [
       "<pre style=\"white-space:pre;overflow-x:auto;line-height:normal;font-family:Menlo,'DejaVu Sans Mono',consolas,'Courier New',monospace\">11:04:54.602 | <span style=\"color: #008080; text-decoration-color: #008080\">INFO</span>    | Task run 'random_list-0' - Finished in state <span style=\"color: #008000; text-decoration-color: #008000\">Completed</span>()\n",
       "</pre>\n"
      ],
      "text/plain": [
       "11:04:54.602 | \u001b[36mINFO\u001b[0m    | Task run 'random_list-0' - Finished in state \u001b[32mCompleted\u001b[0m()\n"
      ]
     },
     "metadata": {},
     "output_type": "display_data"
    },
    {
     "data": {
      "text/html": [
       "<pre style=\"white-space:pre;overflow-x:auto;line-height:normal;font-family:Menlo,'DejaVu Sans Mono',consolas,'Courier New',monospace\">11:04:54.632 | <span style=\"color: #008080; text-decoration-color: #008080\">INFO</span>    | Flow run<span style=\"color: #800080; text-decoration-color: #800080\"> 'loyal-stoat'</span> - Created task run 'squared-0' for task 'squared'\n",
       "</pre>\n"
      ],
      "text/plain": [
       "11:04:54.632 | \u001b[36mINFO\u001b[0m    | Flow run\u001b[35m 'loyal-stoat'\u001b[0m - Created task run 'squared-0' for task 'squared'\n"
      ]
     },
     "metadata": {},
     "output_type": "display_data"
    },
    {
     "data": {
      "text/html": [
       "<pre style=\"white-space:pre;overflow-x:auto;line-height:normal;font-family:Menlo,'DejaVu Sans Mono',consolas,'Courier New',monospace\">11:04:54.633 | <span style=\"color: #008080; text-decoration-color: #008080\">INFO</span>    | Flow run<span style=\"color: #800080; text-decoration-color: #800080\"> 'loyal-stoat'</span> - Submitted task run 'squared-0' for execution.\n",
       "</pre>\n"
      ],
      "text/plain": [
       "11:04:54.633 | \u001b[36mINFO\u001b[0m    | Flow run\u001b[35m 'loyal-stoat'\u001b[0m - Submitted task run 'squared-0' for execution.\n"
      ]
     },
     "metadata": {},
     "output_type": "display_data"
    },
    {
     "data": {
      "text/html": [
       "<pre style=\"white-space:pre;overflow-x:auto;line-height:normal;font-family:Menlo,'DejaVu Sans Mono',consolas,'Courier New',monospace\">11:04:54.640 | <span style=\"color: #008080; text-decoration-color: #008080\">INFO</span>    | Flow run<span style=\"color: #800080; text-decoration-color: #800080\"> 'loyal-stoat'</span> - Created task run 'squared-1' for task 'squared'\n",
       "</pre>\n"
      ],
      "text/plain": [
       "11:04:54.640 | \u001b[36mINFO\u001b[0m    | Flow run\u001b[35m 'loyal-stoat'\u001b[0m - Created task run 'squared-1' for task 'squared'\n"
      ]
     },
     "metadata": {},
     "output_type": "display_data"
    },
    {
     "data": {
      "text/html": [
       "<pre style=\"white-space:pre;overflow-x:auto;line-height:normal;font-family:Menlo,'DejaVu Sans Mono',consolas,'Courier New',monospace\">11:04:54.642 | <span style=\"color: #008080; text-decoration-color: #008080\">INFO</span>    | Flow run<span style=\"color: #800080; text-decoration-color: #800080\"> 'loyal-stoat'</span> - Submitted task run 'squared-1' for execution.\n",
       "</pre>\n"
      ],
      "text/plain": [
       "11:04:54.642 | \u001b[36mINFO\u001b[0m    | Flow run\u001b[35m 'loyal-stoat'\u001b[0m - Submitted task run 'squared-1' for execution.\n"
      ]
     },
     "metadata": {},
     "output_type": "display_data"
    },
    {
     "data": {
      "text/html": [
       "<pre style=\"white-space:pre;overflow-x:auto;line-height:normal;font-family:Menlo,'DejaVu Sans Mono',consolas,'Courier New',monospace\">11:04:54.683 | <span style=\"color: #008080; text-decoration-color: #008080\">INFO</span>    | Flow run<span style=\"color: #800080; text-decoration-color: #800080\"> 'loyal-stoat'</span> - Created task run 'squared-2' for task 'squared'\n",
       "</pre>\n"
      ],
      "text/plain": [
       "11:04:54.683 | \u001b[36mINFO\u001b[0m    | Flow run\u001b[35m 'loyal-stoat'\u001b[0m - Created task run 'squared-2' for task 'squared'\n"
      ]
     },
     "metadata": {},
     "output_type": "display_data"
    },
    {
     "data": {
      "text/html": [
       "<pre style=\"white-space:pre;overflow-x:auto;line-height:normal;font-family:Menlo,'DejaVu Sans Mono',consolas,'Courier New',monospace\">11:04:54.687 | <span style=\"color: #008080; text-decoration-color: #008080\">INFO</span>    | Flow run<span style=\"color: #800080; text-decoration-color: #800080\"> 'loyal-stoat'</span> - Submitted task run 'squared-2' for execution.\n",
       "</pre>\n"
      ],
      "text/plain": [
       "11:04:54.687 | \u001b[36mINFO\u001b[0m    | Flow run\u001b[35m 'loyal-stoat'\u001b[0m - Submitted task run 'squared-2' for execution.\n"
      ]
     },
     "metadata": {},
     "output_type": "display_data"
    },
    {
     "data": {
      "text/html": [
       "<pre style=\"white-space:pre;overflow-x:auto;line-height:normal;font-family:Menlo,'DejaVu Sans Mono',consolas,'Courier New',monospace\">11:04:54.719 | <span style=\"color: #008080; text-decoration-color: #008080\">INFO</span>    | Flow run<span style=\"color: #800080; text-decoration-color: #800080\"> 'loyal-stoat'</span> - Created task run 'squared-3' for task 'squared'\n",
       "</pre>\n"
      ],
      "text/plain": [
       "11:04:54.719 | \u001b[36mINFO\u001b[0m    | Flow run\u001b[35m 'loyal-stoat'\u001b[0m - Created task run 'squared-3' for task 'squared'\n"
      ]
     },
     "metadata": {},
     "output_type": "display_data"
    },
    {
     "data": {
      "text/html": [
       "<pre style=\"white-space:pre;overflow-x:auto;line-height:normal;font-family:Menlo,'DejaVu Sans Mono',consolas,'Courier New',monospace\">11:04:54.720 | <span style=\"color: #008080; text-decoration-color: #008080\">INFO</span>    | Flow run<span style=\"color: #800080; text-decoration-color: #800080\"> 'loyal-stoat'</span> - Submitted task run 'squared-3' for execution.\n",
       "</pre>\n"
      ],
      "text/plain": [
       "11:04:54.720 | \u001b[36mINFO\u001b[0m    | Flow run\u001b[35m 'loyal-stoat'\u001b[0m - Submitted task run 'squared-3' for execution.\n"
      ]
     },
     "metadata": {},
     "output_type": "display_data"
    },
    {
     "data": {
      "text/html": [
       "<pre style=\"white-space:pre;overflow-x:auto;line-height:normal;font-family:Menlo,'DejaVu Sans Mono',consolas,'Courier New',monospace\">11:04:54.801 | <span style=\"color: #008080; text-decoration-color: #008080\">INFO</span>    | Task run 'squared-0' - Finished in state <span style=\"color: #008000; text-decoration-color: #008000\">Completed</span>()\n",
       "</pre>\n"
      ],
      "text/plain": [
       "11:04:54.801 | \u001b[36mINFO\u001b[0m    | Task run 'squared-0' - Finished in state \u001b[32mCompleted\u001b[0m()\n"
      ]
     },
     "metadata": {},
     "output_type": "display_data"
    },
    {
     "data": {
      "text/html": [
       "<pre style=\"white-space:pre;overflow-x:auto;line-height:normal;font-family:Menlo,'DejaVu Sans Mono',consolas,'Courier New',monospace\">11:04:54.828 | <span style=\"color: #008080; text-decoration-color: #008080\">INFO</span>    | Task run 'squared-2' - Finished in state <span style=\"color: #008000; text-decoration-color: #008000\">Completed</span>()\n",
       "</pre>\n"
      ],
      "text/plain": [
       "11:04:54.828 | \u001b[36mINFO\u001b[0m    | Task run 'squared-2' - Finished in state \u001b[32mCompleted\u001b[0m()\n"
      ]
     },
     "metadata": {},
     "output_type": "display_data"
    },
    {
     "data": {
      "text/html": [
       "<pre style=\"white-space:pre;overflow-x:auto;line-height:normal;font-family:Menlo,'DejaVu Sans Mono',consolas,'Courier New',monospace\">11:04:54.839 | <span style=\"color: #008080; text-decoration-color: #008080\">INFO</span>    | Task run 'squared-3' - Finished in state <span style=\"color: #008000; text-decoration-color: #008000\">Completed</span>()\n",
       "</pre>\n"
      ],
      "text/plain": [
       "11:04:54.839 | \u001b[36mINFO\u001b[0m    | Task run 'squared-3' - Finished in state \u001b[32mCompleted\u001b[0m()\n"
      ]
     },
     "metadata": {},
     "output_type": "display_data"
    },
    {
     "data": {
      "text/html": [
       "<pre style=\"white-space:pre;overflow-x:auto;line-height:normal;font-family:Menlo,'DejaVu Sans Mono',consolas,'Courier New',monospace\">11:04:54.853 | <span style=\"color: #008080; text-decoration-color: #008080\">INFO</span>    | Task run 'squared-1' - Finished in state <span style=\"color: #008000; text-decoration-color: #008000\">Completed</span>()\n",
       "</pre>\n"
      ],
      "text/plain": [
       "11:04:54.853 | \u001b[36mINFO\u001b[0m    | Task run 'squared-1' - Finished in state \u001b[32mCompleted\u001b[0m()\n"
      ]
     },
     "metadata": {},
     "output_type": "display_data"
    },
    {
     "data": {
      "text/html": [
       "<pre style=\"white-space:pre;overflow-x:auto;line-height:normal;font-family:Menlo,'DejaVu Sans Mono',consolas,'Courier New',monospace\">11:04:54.875 | <span style=\"color: #008080; text-decoration-color: #008080\">INFO</span>    | Flow run<span style=\"color: #800080; text-decoration-color: #800080\"> 'loyal-stoat'</span> - Created task run 'sum_up-0' for task 'sum_up'\n",
       "</pre>\n"
      ],
      "text/plain": [
       "11:04:54.875 | \u001b[36mINFO\u001b[0m    | Flow run\u001b[35m 'loyal-stoat'\u001b[0m - Created task run 'sum_up-0' for task 'sum_up'\n"
      ]
     },
     "metadata": {},
     "output_type": "display_data"
    },
    {
     "data": {
      "text/html": [
       "<pre style=\"white-space:pre;overflow-x:auto;line-height:normal;font-family:Menlo,'DejaVu Sans Mono',consolas,'Courier New',monospace\">11:04:54.876 | <span style=\"color: #008080; text-decoration-color: #008080\">INFO</span>    | Flow run<span style=\"color: #800080; text-decoration-color: #800080\"> 'loyal-stoat'</span> - Executing 'sum_up-0' immediately...\n",
       "</pre>\n"
      ],
      "text/plain": [
       "11:04:54.876 | \u001b[36mINFO\u001b[0m    | Flow run\u001b[35m 'loyal-stoat'\u001b[0m - Executing 'sum_up-0' immediately...\n"
      ]
     },
     "metadata": {},
     "output_type": "display_data"
    },
    {
     "name": "stdout",
     "output_type": "stream",
     "text": [
      "Squared results: [0, 1, 4, 9]\n",
      "Sum: 14\n"
     ]
    },
    {
     "data": {
      "text/html": [
       "<pre style=\"white-space:pre;overflow-x:auto;line-height:normal;font-family:Menlo,'DejaVu Sans Mono',consolas,'Courier New',monospace\">11:04:54.927 | <span style=\"color: #008080; text-decoration-color: #008080\">INFO</span>    | Task run 'sum_up-0' - Finished in state <span style=\"color: #008000; text-decoration-color: #008000\">Completed</span>()\n",
       "</pre>\n"
      ],
      "text/plain": [
       "11:04:54.927 | \u001b[36mINFO\u001b[0m    | Task run 'sum_up-0' - Finished in state \u001b[32mCompleted\u001b[0m()\n"
      ]
     },
     "metadata": {},
     "output_type": "display_data"
    },
    {
     "name": "stdout",
     "output_type": "stream",
     "text": [
      "squared_res：[PrefectFuture('squared-0'), PrefectFuture('squared-1'), PrefectFuture('squared-2'), PrefectFuture('squared-3')]\n",
      "squared_resのタイプ：<class 'list'>\n"
     ]
    },
    {
     "data": {
      "text/html": [
       "<pre style=\"white-space:pre;overflow-x:auto;line-height:normal;font-family:Menlo,'DejaVu Sans Mono',consolas,'Courier New',monospace\">11:04:54.946 | <span style=\"color: #008080; text-decoration-color: #008080\">INFO</span>    | Flow run<span style=\"color: #800080; text-decoration-color: #800080\"> 'loyal-stoat'</span> - Finished in state <span style=\"color: #008000; text-decoration-color: #008000\">Completed</span>('All states completed.')\n",
       "</pre>\n"
      ],
      "text/plain": [
       "11:04:54.946 | \u001b[36mINFO\u001b[0m    | Flow run\u001b[35m 'loyal-stoat'\u001b[0m - Finished in state \u001b[32mCompleted\u001b[0m('All states completed.')\n"
      ]
     },
     "metadata": {},
     "output_type": "display_data"
    }
   ],
   "source": [
    "from random import randint\n",
    "from prefect import task, flow\n",
    "\n",
    "\n",
    "@task\n",
    "def random_list():\n",
    "    return [i for i in range(randint(1, 4))]\n",
    "\n",
    "\n",
    "@task\n",
    "def squared(x):\n",
    "    return x**2\n",
    "\n",
    "\n",
    "@task\n",
    "def sum_up(l):\n",
    "    print(f\"Squared results: {l}\")\n",
    "    print(f\"Sum: {sum(l)}\")\n",
    "\n",
    "\n",
    "@flow(name=\"dynamic flow\")\n",
    "def dynamic_flow():\n",
    "    l = random_list()\n",
    "    squared_res = squared.map(l)\n",
    "    sum_res = sum_up(squared_res)\n",
    "    print(f\"squared_res：{squared_res}\")\n",
    "    print(f\"squared_resのタイプ：{type(squared_res)}\")\n",
    "\n",
    "\n",
    "if __name__ == \"__main__\":\n",
    "    dynamic_flow()"
   ]
  },
  {
   "attachments": {},
   "cell_type": "markdown",
   "metadata": {},
   "source": [
    "# 5. 条件分岐\n",
    "\n",
    "- 1 系では、タスク（case、merge、ifelse、switch）は、prefect.tasks.control_flow からインポートして使用していた。\n",
    "- 2 系では、Python ネイティブの if/else 文を使って条件ロジックを指定することができます。\n"
   ]
  },
  {
   "cell_type": "code",
   "execution_count": null,
   "metadata": {},
   "outputs": [],
   "source": [
    "# from random import randint\n",
    "# from prefect import task, Flow\n",
    "# from prefect.tasks.control_flow.conditional import ifelse\n",
    "\n",
    "# @task\n",
    "# def check_even():\n",
    "#     return randint(0, 10) % 2 == 0\n",
    "\n",
    "# @task\n",
    "# def even():\n",
    "#     print(\"It's Even!!\")\n",
    "\n",
    "# @task\n",
    "# def odd():\n",
    "#     print(\"It's Odd!!\")\n",
    "\n",
    "# with Flow(\"IfElseFlow\") as flow:\n",
    "#     cond = check_even()\n",
    "#     result = ifelse(cond, even, odd)\n",
    "\n",
    "# flow.run()"
   ]
  },
  {
   "cell_type": "code",
   "execution_count": 11,
   "metadata": {},
   "outputs": [
    {
     "name": "stderr",
     "output_type": "stream",
     "text": [
      "/Users/kohta/workspace/prefect/venv/lib/python3.10/site-packages/prefect/tasks.py:298: UserWarning: A task named 'check_even' and defined at '/var/folders/q5/s5mcbmt95hd29sp3b9xmr2580000gn/T/ipykernel_64897/2061035519.py:4' conflicts with another task. Consider specifying a unique `name` parameter in the task definition:\n",
      "\n",
      " `@task(name='my_unique_name', ...)`\n",
      "  warnings.warn(\n",
      "/Users/kohta/workspace/prefect/venv/lib/python3.10/site-packages/prefect/tasks.py:298: UserWarning: A task named 'even' and defined at '/var/folders/q5/s5mcbmt95hd29sp3b9xmr2580000gn/T/ipykernel_64897/2061035519.py:8' conflicts with another task. Consider specifying a unique `name` parameter in the task definition:\n",
      "\n",
      " `@task(name='my_unique_name', ...)`\n",
      "  warnings.warn(\n",
      "/Users/kohta/workspace/prefect/venv/lib/python3.10/site-packages/prefect/tasks.py:298: UserWarning: A task named 'odd' and defined at '/var/folders/q5/s5mcbmt95hd29sp3b9xmr2580000gn/T/ipykernel_64897/2061035519.py:12' conflicts with another task. Consider specifying a unique `name` parameter in the task definition:\n",
      "\n",
      " `@task(name='my_unique_name', ...)`\n",
      "  warnings.warn(\n",
      "/Users/kohta/workspace/prefect/venv/lib/python3.10/site-packages/prefect/flows.py:244: UserWarning: A flow named 'is-else-flow' and defined at '/var/folders/q5/s5mcbmt95hd29sp3b9xmr2580000gn/T/ipykernel_64897/2061035519.py:16' conflicts with another flow. Consider specifying a unique `name` parameter in the flow definition:\n",
      "\n",
      " `@flow(name='my_unique_name', ...)`\n",
      "  warnings.warn(\n"
     ]
    },
    {
     "data": {
      "text/html": [
       "<pre style=\"white-space:pre;overflow-x:auto;line-height:normal;font-family:Menlo,'DejaVu Sans Mono',consolas,'Courier New',monospace\">11:34:52.680 | <span style=\"color: #008080; text-decoration-color: #008080\">INFO</span>    | prefect.engine - Created flow run<span style=\"color: #800080; text-decoration-color: #800080\"> 'prophetic-echidna'</span> for flow<span style=\"color: #800080; text-decoration-color: #800080; font-weight: bold\"> 'is-else-flow'</span>\n",
       "</pre>\n"
      ],
      "text/plain": [
       "11:34:52.680 | \u001b[36mINFO\u001b[0m    | prefect.engine - Created flow run\u001b[35m 'prophetic-echidna'\u001b[0m for flow\u001b[1;35m 'is-else-flow'\u001b[0m\n"
      ]
     },
     "metadata": {},
     "output_type": "display_data"
    },
    {
     "name": "stdout",
     "output_type": "stream",
     "text": [
      "cond: PrefectFuture('check_even-0')\n"
     ]
    },
    {
     "data": {
      "text/html": [
       "<pre style=\"white-space:pre;overflow-x:auto;line-height:normal;font-family:Menlo,'DejaVu Sans Mono',consolas,'Courier New',monospace\">11:34:52.755 | <span style=\"color: #008080; text-decoration-color: #008080\">INFO</span>    | Flow run<span style=\"color: #800080; text-decoration-color: #800080\"> 'prophetic-echidna'</span> - Created task run 'check_even-0' for task 'check_even'\n",
       "</pre>\n"
      ],
      "text/plain": [
       "11:34:52.755 | \u001b[36mINFO\u001b[0m    | Flow run\u001b[35m 'prophetic-echidna'\u001b[0m - Created task run 'check_even-0' for task 'check_even'\n"
      ]
     },
     "metadata": {},
     "output_type": "display_data"
    },
    {
     "data": {
      "text/html": [
       "<pre style=\"white-space:pre;overflow-x:auto;line-height:normal;font-family:Menlo,'DejaVu Sans Mono',consolas,'Courier New',monospace\">11:34:52.757 | <span style=\"color: #008080; text-decoration-color: #008080\">INFO</span>    | Flow run<span style=\"color: #800080; text-decoration-color: #800080\"> 'prophetic-echidna'</span> - Submitted task run 'check_even-0' for execution.\n",
       "</pre>\n"
      ],
      "text/plain": [
       "11:34:52.757 | \u001b[36mINFO\u001b[0m    | Flow run\u001b[35m 'prophetic-echidna'\u001b[0m - Submitted task run 'check_even-0' for execution.\n"
      ]
     },
     "metadata": {},
     "output_type": "display_data"
    },
    {
     "data": {
      "text/html": [
       "<pre style=\"white-space:pre;overflow-x:auto;line-height:normal;font-family:Menlo,'DejaVu Sans Mono',consolas,'Courier New',monospace\">11:34:52.809 | <span style=\"color: #008080; text-decoration-color: #008080\">INFO</span>    | Task run 'check_even-0' - Finished in state <span style=\"color: #008000; text-decoration-color: #008000\">Completed</span>()\n",
       "</pre>\n"
      ],
      "text/plain": [
       "11:34:52.809 | \u001b[36mINFO\u001b[0m    | Task run 'check_even-0' - Finished in state \u001b[32mCompleted\u001b[0m()\n"
      ]
     },
     "metadata": {},
     "output_type": "display_data"
    },
    {
     "name": "stdout",
     "output_type": "stream",
     "text": [
      "cond.result(): True\n"
     ]
    },
    {
     "data": {
      "text/html": [
       "<pre style=\"white-space:pre;overflow-x:auto;line-height:normal;font-family:Menlo,'DejaVu Sans Mono',consolas,'Courier New',monospace\">11:34:52.823 | <span style=\"color: #008080; text-decoration-color: #008080\">INFO</span>    | Flow run<span style=\"color: #800080; text-decoration-color: #800080\"> 'prophetic-echidna'</span> - Created task run 'even-0' for task 'even'\n",
       "</pre>\n"
      ],
      "text/plain": [
       "11:34:52.823 | \u001b[36mINFO\u001b[0m    | Flow run\u001b[35m 'prophetic-echidna'\u001b[0m - Created task run 'even-0' for task 'even'\n"
      ]
     },
     "metadata": {},
     "output_type": "display_data"
    },
    {
     "data": {
      "text/html": [
       "<pre style=\"white-space:pre;overflow-x:auto;line-height:normal;font-family:Menlo,'DejaVu Sans Mono',consolas,'Courier New',monospace\">11:34:52.825 | <span style=\"color: #008080; text-decoration-color: #008080\">INFO</span>    | Flow run<span style=\"color: #800080; text-decoration-color: #800080\"> 'prophetic-echidna'</span> - Submitted task run 'even-0' for execution.\n",
       "</pre>\n"
      ],
      "text/plain": [
       "11:34:52.825 | \u001b[36mINFO\u001b[0m    | Flow run\u001b[35m 'prophetic-echidna'\u001b[0m - Submitted task run 'even-0' for execution.\n"
      ]
     },
     "metadata": {},
     "output_type": "display_data"
    },
    {
     "name": "stdout",
     "output_type": "stream",
     "text": [
      "It's Even!!\n"
     ]
    },
    {
     "data": {
      "text/html": [
       "<pre style=\"white-space:pre;overflow-x:auto;line-height:normal;font-family:Menlo,'DejaVu Sans Mono',consolas,'Courier New',monospace\">11:34:52.879 | <span style=\"color: #008080; text-decoration-color: #008080\">INFO</span>    | Task run 'even-0' - Finished in state <span style=\"color: #008000; text-decoration-color: #008000\">Completed</span>()\n",
       "</pre>\n"
      ],
      "text/plain": [
       "11:34:52.879 | \u001b[36mINFO\u001b[0m    | Task run 'even-0' - Finished in state \u001b[32mCompleted\u001b[0m()\n"
      ]
     },
     "metadata": {},
     "output_type": "display_data"
    },
    {
     "data": {
      "text/html": [
       "<pre style=\"white-space:pre;overflow-x:auto;line-height:normal;font-family:Menlo,'DejaVu Sans Mono',consolas,'Courier New',monospace\">11:34:52.897 | <span style=\"color: #008080; text-decoration-color: #008080\">INFO</span>    | Flow run<span style=\"color: #800080; text-decoration-color: #800080\"> 'prophetic-echidna'</span> - Finished in state <span style=\"color: #008000; text-decoration-color: #008000\">Completed</span>('All states completed.')\n",
       "</pre>\n"
      ],
      "text/plain": [
       "11:34:52.897 | \u001b[36mINFO\u001b[0m    | Flow run\u001b[35m 'prophetic-echidna'\u001b[0m - Finished in state \u001b[32mCompleted\u001b[0m('All states completed.')\n"
      ]
     },
     "metadata": {},
     "output_type": "display_data"
    }
   ],
   "source": [
    "from random import randint\n",
    "from prefect import task, flow\n",
    "\n",
    "\n",
    "@task\n",
    "def check_even():\n",
    "    return randint(0, 10) % 2 == 0\n",
    "\n",
    "\n",
    "@task\n",
    "def even():\n",
    "    print(\"It's Even!!\")\n",
    "\n",
    "\n",
    "@task\n",
    "def odd():\n",
    "    print(\"It's Odd!!\")\n",
    "\n",
    "\n",
    "@flow\n",
    "def is_else_flow():\n",
    "    cond = check_even.submit()\n",
    "    print(f\"cond: {cond}\")\n",
    "    print(f\"cond.result(): {cond.result()}\")\n",
    "    if cond.result():\n",
    "        even.submit(wait_for=[cond])\n",
    "    else:\n",
    "        odd.submit(wait_for=[cond])\n",
    "\n",
    "\n",
    "if __name__ == \"__main__\":\n",
    "    is_else_flow()"
   ]
  },
  {
   "cell_type": "code",
   "execution_count": null,
   "metadata": {},
   "outputs": [],
   "source": [
    "from random import randint\n",
    "from prefect import task, flow\n",
    "\n",
    "\n",
    "@task\n",
    "def check_even():\n",
    "    return randint(0, 10) % 2 == 0\n",
    "\n",
    "\n",
    "@task\n",
    "def even():\n",
    "    print(\"It's Even!!\")\n",
    "\n",
    "\n",
    "@task\n",
    "def odd():\n",
    "    print(\"It's Odd!!\")\n",
    "\n",
    "\n",
    "@flow\n",
    "def is_else_flow():\n",
    "    cond = check_even()\n",
    "    if cond:\n",
    "        even()\n",
    "    else:\n",
    "        odd()\n",
    "\n",
    "\n",
    "if __name__ == \"__main__\":\n",
    "    is_else_flow()"
   ]
  },
  {
   "attachments": {},
   "cell_type": "markdown",
   "metadata": {},
   "source": [
    "# 6. Flow の成功・失敗の条件\n",
    "\n",
    "- 事前準備 -> 本処理 -> 後片付けのようなフローで、本処理の結果にかかわらず、後片付けをしたいケース\n"
   ]
  },
  {
   "cell_type": "code",
   "execution_count": 4,
   "metadata": {},
   "outputs": [
    {
     "name": "stderr",
     "output_type": "stream",
     "text": [
      "/Users/kohta/workspace/prefect/venv/lib/python3.10/site-packages/prefect/tasks.py:298: UserWarning: A task named 'do_something_important' and defined at '/var/folders/q5/s5mcbmt95hd29sp3b9xmr2580000gn/T/ipykernel_4622/1748059242.py:5' conflicts with another task. Consider specifying a unique `name` parameter in the task definition:\n",
      "\n",
      " `@task(name='my_unique_name', ...)`\n",
      "  warnings.warn(\n",
      "/Users/kohta/workspace/prefect/venv/lib/python3.10/site-packages/prefect/tasks.py:298: UserWarning: A task named 'fail' and defined at '/var/folders/q5/s5mcbmt95hd29sp3b9xmr2580000gn/T/ipykernel_4622/1748059242.py:13' conflicts with another task. Consider specifying a unique `name` parameter in the task definition:\n",
      "\n",
      " `@task(name='my_unique_name', ...)`\n",
      "  warnings.warn(\n",
      "/Users/kohta/workspace/prefect/venv/lib/python3.10/site-packages/prefect/tasks.py:298: UserWarning: A task named 'succeed' and defined at '/var/folders/q5/s5mcbmt95hd29sp3b9xmr2580000gn/T/ipykernel_4622/1748059242.py:18' conflicts with another task. Consider specifying a unique `name` parameter in the task definition:\n",
      "\n",
      " `@task(name='my_unique_name', ...)`\n",
      "  warnings.warn(\n",
      "/Users/kohta/workspace/prefect/venv/lib/python3.10/site-packages/prefect/tasks.py:298: UserWarning: A task named 'always_run' and defined at '/var/folders/q5/s5mcbmt95hd29sp3b9xmr2580000gn/T/ipykernel_4622/1748059242.py:23' conflicts with another task. Consider specifying a unique `name` parameter in the task definition:\n",
      "\n",
      " `@task(name='my_unique_name', ...)`\n",
      "  warnings.warn(\n",
      "/Users/kohta/workspace/prefect/venv/lib/python3.10/site-packages/prefect/flows.py:244: UserWarning: A flow named 'main-flow' and defined at '/var/folders/q5/s5mcbmt95hd29sp3b9xmr2580000gn/T/ipykernel_4622/1748059242.py:28' conflicts with another flow. Consider specifying a unique `name` parameter in the flow definition:\n",
      "\n",
      " `@flow(name='my_unique_name', ...)`\n",
      "  warnings.warn(\n"
     ]
    },
    {
     "data": {
      "text/html": [
       "<pre style=\"white-space:pre;overflow-x:auto;line-height:normal;font-family:Menlo,'DejaVu Sans Mono',consolas,'Courier New',monospace\">15:43:52.673 | <span style=\"color: #008080; text-decoration-color: #008080\">INFO</span>    | prefect.engine - Created flow run<span style=\"color: #800080; text-decoration-color: #800080\"> 'rousing-penguin'</span> for flow<span style=\"color: #800080; text-decoration-color: #800080; font-weight: bold\"> 'main-flow'</span>\n",
       "</pre>\n"
      ],
      "text/plain": [
       "15:43:52.673 | \u001b[36mINFO\u001b[0m    | prefect.engine - Created flow run\u001b[35m 'rousing-penguin'\u001b[0m for flow\u001b[1;35m 'main-flow'\u001b[0m\n"
      ]
     },
     "metadata": {},
     "output_type": "display_data"
    },
    {
     "data": {
      "text/html": [
       "<pre style=\"white-space:pre;overflow-x:auto;line-height:normal;font-family:Menlo,'DejaVu Sans Mono',consolas,'Courier New',monospace\">15:43:52.767 | <span style=\"color: #008080; text-decoration-color: #008080\">INFO</span>    | Flow run<span style=\"color: #800080; text-decoration-color: #800080\"> 'rousing-penguin'</span> - Created task run 'do_something_important-0' for task 'do_something_important'\n",
       "</pre>\n"
      ],
      "text/plain": [
       "15:43:52.767 | \u001b[36mINFO\u001b[0m    | Flow run\u001b[35m 'rousing-penguin'\u001b[0m - Created task run 'do_something_important-0' for task 'do_something_important'\n"
      ]
     },
     "metadata": {},
     "output_type": "display_data"
    },
    {
     "data": {
      "text/html": [
       "<pre style=\"white-space:pre;overflow-x:auto;line-height:normal;font-family:Menlo,'DejaVu Sans Mono',consolas,'Courier New',monospace\">15:43:52.768 | <span style=\"color: #008080; text-decoration-color: #008080\">INFO</span>    | Flow run<span style=\"color: #800080; text-decoration-color: #800080\"> 'rousing-penguin'</span> - Submitted task run 'do_something_important-0' for execution.\n",
       "</pre>\n"
      ],
      "text/plain": [
       "15:43:52.768 | \u001b[36mINFO\u001b[0m    | Flow run\u001b[35m 'rousing-penguin'\u001b[0m - Submitted task run 'do_something_important-0' for execution.\n"
      ]
     },
     "metadata": {},
     "output_type": "display_data"
    },
    {
     "data": {
      "text/html": [
       "<pre style=\"white-space:pre;overflow-x:auto;line-height:normal;font-family:Menlo,'DejaVu Sans Mono',consolas,'Courier New',monospace\">15:43:52.802 | <span style=\"color: #008080; text-decoration-color: #008080\">INFO</span>    | Task run 'do_something_important-0' - Is the number &gt; 0.5? False\n",
       "</pre>\n"
      ],
      "text/plain": [
       "15:43:52.802 | \u001b[36mINFO\u001b[0m    | Task run 'do_something_important-0' - Is the number > 0.5? False\n"
      ]
     },
     "metadata": {},
     "output_type": "display_data"
    },
    {
     "data": {
      "text/html": [
       "<pre style=\"white-space:pre;overflow-x:auto;line-height:normal;font-family:Menlo,'DejaVu Sans Mono',consolas,'Courier New',monospace\">15:43:52.826 | <span style=\"color: #008080; text-decoration-color: #008080\">INFO</span>    | Task run 'do_something_important-0' - Finished in state <span style=\"color: #008000; text-decoration-color: #008000\">Completed</span>()\n",
       "</pre>\n"
      ],
      "text/plain": [
       "15:43:52.826 | \u001b[36mINFO\u001b[0m    | Task run 'do_something_important-0' - Finished in state \u001b[32mCompleted\u001b[0m()\n"
      ]
     },
     "metadata": {},
     "output_type": "display_data"
    },
    {
     "data": {
      "text/html": [
       "<pre style=\"white-space:pre;overflow-x:auto;line-height:normal;font-family:Menlo,'DejaVu Sans Mono',consolas,'Courier New',monospace\">15:43:52.848 | <span style=\"color: #008080; text-decoration-color: #008080\">INFO</span>    | Flow run<span style=\"color: #800080; text-decoration-color: #800080\"> 'rousing-penguin'</span> - Created task run 'always_run-0' for task 'always_run'\n",
       "</pre>\n"
      ],
      "text/plain": [
       "15:43:52.848 | \u001b[36mINFO\u001b[0m    | Flow run\u001b[35m 'rousing-penguin'\u001b[0m - Created task run 'always_run-0' for task 'always_run'\n"
      ]
     },
     "metadata": {},
     "output_type": "display_data"
    },
    {
     "data": {
      "text/html": [
       "<pre style=\"white-space:pre;overflow-x:auto;line-height:normal;font-family:Menlo,'DejaVu Sans Mono',consolas,'Courier New',monospace\">15:43:52.849 | <span style=\"color: #008080; text-decoration-color: #008080\">INFO</span>    | Flow run<span style=\"color: #800080; text-decoration-color: #800080\"> 'rousing-penguin'</span> - Submitted task run 'always_run-0' for execution.\n",
       "</pre>\n"
      ],
      "text/plain": [
       "15:43:52.849 | \u001b[36mINFO\u001b[0m    | Flow run\u001b[35m 'rousing-penguin'\u001b[0m - Submitted task run 'always_run-0' for execution.\n"
      ]
     },
     "metadata": {},
     "output_type": "display_data"
    },
    {
     "data": {
      "text/html": [
       "<pre style=\"white-space:pre;overflow-x:auto;line-height:normal;font-family:Menlo,'DejaVu Sans Mono',consolas,'Courier New',monospace\">15:43:52.860 | <span style=\"color: #008080; text-decoration-color: #008080\">INFO</span>    | Flow run<span style=\"color: #800080; text-decoration-color: #800080\"> 'rousing-penguin'</span> - Created task run 'succeed-0' for task 'succeed'\n",
       "</pre>\n"
      ],
      "text/plain": [
       "15:43:52.860 | \u001b[36mINFO\u001b[0m    | Flow run\u001b[35m 'rousing-penguin'\u001b[0m - Created task run 'succeed-0' for task 'succeed'\n"
      ]
     },
     "metadata": {},
     "output_type": "display_data"
    },
    {
     "data": {
      "text/html": [
       "<pre style=\"white-space:pre;overflow-x:auto;line-height:normal;font-family:Menlo,'DejaVu Sans Mono',consolas,'Courier New',monospace\">15:43:52.861 | <span style=\"color: #008080; text-decoration-color: #008080\">INFO</span>    | Flow run<span style=\"color: #800080; text-decoration-color: #800080\"> 'rousing-penguin'</span> - Submitted task run 'succeed-0' for execution.\n",
       "</pre>\n"
      ],
      "text/plain": [
       "15:43:52.861 | \u001b[36mINFO\u001b[0m    | Flow run\u001b[35m 'rousing-penguin'\u001b[0m - Submitted task run 'succeed-0' for execution.\n"
      ]
     },
     "metadata": {},
     "output_type": "display_data"
    },
    {
     "data": {
      "text/html": [
       "<pre style=\"white-space:pre;overflow-x:auto;line-height:normal;font-family:Menlo,'DejaVu Sans Mono',consolas,'Courier New',monospace\">15:43:52.903 | <span style=\"color: #008080; text-decoration-color: #008080\">INFO</span>    | Task run 'always_run-0' - Running regardless of upstream task's state\n",
       "</pre>\n"
      ],
      "text/plain": [
       "15:43:52.903 | \u001b[36mINFO\u001b[0m    | Task run 'always_run-0' - Running regardless of upstream task's state\n"
      ]
     },
     "metadata": {},
     "output_type": "display_data"
    },
    {
     "data": {
      "text/html": [
       "<pre style=\"white-space:pre;overflow-x:auto;line-height:normal;font-family:Menlo,'DejaVu Sans Mono',consolas,'Courier New',monospace\">15:43:52.927 | <span style=\"color: #008080; text-decoration-color: #008080\">INFO</span>    | Task run 'succeed-0' - Success\n",
       "</pre>\n"
      ],
      "text/plain": [
       "15:43:52.927 | \u001b[36mINFO\u001b[0m    | Task run 'succeed-0' - Success\n"
      ]
     },
     "metadata": {},
     "output_type": "display_data"
    },
    {
     "data": {
      "text/html": [
       "<pre style=\"white-space:pre;overflow-x:auto;line-height:normal;font-family:Menlo,'DejaVu Sans Mono',consolas,'Courier New',monospace\">15:43:52.933 | <span style=\"color: #008080; text-decoration-color: #008080\">INFO</span>    | Task run 'always_run-0' - Finished in state <span style=\"color: #008000; text-decoration-color: #008000\">Completed</span>()\n",
       "</pre>\n"
      ],
      "text/plain": [
       "15:43:52.933 | \u001b[36mINFO\u001b[0m    | Task run 'always_run-0' - Finished in state \u001b[32mCompleted\u001b[0m()\n"
      ]
     },
     "metadata": {},
     "output_type": "display_data"
    },
    {
     "data": {
      "text/html": [
       "<pre style=\"white-space:pre;overflow-x:auto;line-height:normal;font-family:Menlo,'DejaVu Sans Mono',consolas,'Courier New',monospace\">15:43:52.949 | <span style=\"color: #008080; text-decoration-color: #008080\">INFO</span>    | Task run 'succeed-0' - Finished in state <span style=\"color: #008000; text-decoration-color: #008000\">Completed</span>()\n",
       "</pre>\n"
      ],
      "text/plain": [
       "15:43:52.949 | \u001b[36mINFO\u001b[0m    | Task run 'succeed-0' - Finished in state \u001b[32mCompleted\u001b[0m()\n"
      ]
     },
     "metadata": {},
     "output_type": "display_data"
    },
    {
     "data": {
      "text/html": [
       "<pre style=\"white-space:pre;overflow-x:auto;line-height:normal;font-family:Menlo,'DejaVu Sans Mono',consolas,'Courier New',monospace\">15:43:52.968 | <span style=\"color: #008080; text-decoration-color: #008080\">INFO</span>    | Flow run<span style=\"color: #800080; text-decoration-color: #800080\"> 'rousing-penguin'</span> - Finished in state <span style=\"color: #008000; text-decoration-color: #008000\">Completed</span>('All states completed.')\n",
       "</pre>\n"
      ],
      "text/plain": [
       "15:43:52.968 | \u001b[36mINFO\u001b[0m    | Flow run\u001b[35m 'rousing-penguin'\u001b[0m - Finished in state \u001b[32mCompleted\u001b[0m('All states completed.')\n"
      ]
     },
     "metadata": {},
     "output_type": "display_data"
    }
   ],
   "source": [
    "import random\n",
    "from prefect import task, flow\n",
    "\n",
    "\n",
    "@task\n",
    "def do_something_important():\n",
    "    bool_ = random.random() > 0.5\n",
    "    print(f\"Is the number > 0.5? {bool_}\")\n",
    "    if bool_:\n",
    "        raise ValueError(\"Non-deterministic error has occured.\")\n",
    "\n",
    "\n",
    "@task\n",
    "def fail():\n",
    "    print(\"Failure\")\n",
    "\n",
    "\n",
    "@task\n",
    "def succeed():\n",
    "    print(\"Success\")\n",
    "\n",
    "\n",
    "@task\n",
    "def always_run():\n",
    "    print(\"Running regardless of upstream task's state\")\n",
    "\n",
    "\n",
    "@flow(log_prints=True)\n",
    "def main_flow():\n",
    "    a = do_something_important.submit()\n",
    "    # equivalent of all_failed or any_failed trigger in Prefect 1.0:\n",
    "    if a.wait() == \"Failed\":\n",
    "        fail.submit()  # the task is skipped if the condition is not true\n",
    "    # equivalent of all_succesful trigger in Prefect 1.0\n",
    "    else:\n",
    "        succeed.submit()  # the task is skipped on upstream failure\n",
    "\n",
    "    # equivalent of always_run or all_finished trigger in Prefect 1.0:\n",
    "    always_run.submit()\n",
    "\n",
    "\n",
    "if __name__ == \"__main__\":\n",
    "    main_flow()"
   ]
  },
  {
   "cell_type": "code",
   "execution_count": 2,
   "metadata": {},
   "outputs": [
    {
     "name": "stdout",
     "output_type": "stream",
     "text": [
      "x=1\n",
      "x=10\n"
     ]
    }
   ],
   "source": [
    "# blackフォーマットの使用\n",
    "# fmt: off\n",
    "x=1\n",
    "# fmt: on\n",
    "y = 2\n",
    "\n",
    "# デバッグモード確認\n",
    "print(f\"{x=}\")\n",
    "x = 10\n",
    "print(f\"{x=}\")"
   ]
  },
  {
   "cell_type": "markdown",
   "metadata": {},
   "source": [
    "# 7. Task Runner\n",
    "* [参考記事](https://zenn.dev/kiri1701/scraps/5f5d151467f1ee)\n",
    "  * taskに指定した関数を通常実行 -> Task Runnerなし\n",
    "    * taskは逐次実行\n",
    "  * .submit()メソッドを使用 -> taskをTask Runnerに送信して、タスク実行の制御をすることができる\n",
    "    * 逐次実行\n",
    "    * 同時実行\n",
    "    * 並列・分散実行: Dask, Ray"
   ]
  },
  {
   "cell_type": "code",
   "execution_count": null,
   "metadata": {},
   "outputs": [],
   "source": []
  }
 ],
 "metadata": {
  "kernelspec": {
   "display_name": "venv",
   "language": "python",
   "name": "python3"
  },
  "language_info": {
   "codemirror_mode": {
    "name": "ipython",
    "version": 3
   },
   "file_extension": ".py",
   "mimetype": "text/x-python",
   "name": "python",
   "nbconvert_exporter": "python",
   "pygments_lexer": "ipython3",
   "version": "3.10.9"
  },
  "orig_nbformat": 4
 },
 "nbformat": 4,
 "nbformat_minor": 2
}
