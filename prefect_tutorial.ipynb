{
 "cells": [
  {
   "attachments": {},
   "cell_type": "markdown",
   "metadata": {},
   "source": [
    "# 0. Todo\n",
    "- Hello World(タスクとフローの理解)\n",
    "- タスクに対してのパラメータ化\n",
    "- 依存タスクの直列実行\n",
    "- 動的FLow作成(リストの値を渡して、各要素ごとに実行)\n",
    "- タスクの並列実行\n",
    "- 条件分岐(前のタスクの結果に応じて次のタスクを分岐)"
   ]
  },
  {
   "attachments": {},
   "cell_type": "markdown",
   "metadata": {},
   "source": [
    "# 1. Flow(公式チュートリアル)"
   ]
  },
  {
   "attachments": {},
   "cell_type": "markdown",
   "metadata": {},
   "source": [
    "## 1.1. First Flow"
   ]
  },
  {
   "cell_type": "code",
   "execution_count": 1,
   "metadata": {},
   "outputs": [
    {
     "data": {
      "text/html": [
       "<pre style=\"white-space:pre;overflow-x:auto;line-height:normal;font-family:Menlo,'DejaVu Sans Mono',consolas,'Courier New',monospace\">13:13:36.844 | <span style=\"color: #008080; text-decoration-color: #008080\">INFO</span>    | prefect.engine - Created flow run<span style=\"color: #800080; text-decoration-color: #800080\"> 'vigorous-hawk'</span> for flow<span style=\"color: #800080; text-decoration-color: #800080; font-weight: bold\"> 'get-repo-info'</span>\n",
       "</pre>\n"
      ],
      "text/plain": [
       "13:13:36.844 | \u001b[36mINFO\u001b[0m    | prefect.engine - Created flow run\u001b[35m 'vigorous-hawk'\u001b[0m for flow\u001b[1;35m 'get-repo-info'\u001b[0m\n"
      ]
     },
     "metadata": {},
     "output_type": "display_data"
    },
    {
     "name": "stdout",
     "output_type": "stream",
     "text": [
      "PrefectHQ/prefect repository statistics 🤓:\n",
      "Stars 🌠 : 12245\n",
      "Forks 🍴 : 1270\n"
     ]
    },
    {
     "data": {
      "text/html": [
       "<pre style=\"white-space:pre;overflow-x:auto;line-height:normal;font-family:Menlo,'DejaVu Sans Mono',consolas,'Courier New',monospace\">13:13:37.448 | <span style=\"color: #008080; text-decoration-color: #008080\">INFO</span>    | Flow run<span style=\"color: #800080; text-decoration-color: #800080\"> 'vigorous-hawk'</span> - Finished in state <span style=\"color: #008000; text-decoration-color: #008000\">Completed</span>()\n",
       "</pre>\n"
      ],
      "text/plain": [
       "13:13:37.448 | \u001b[36mINFO\u001b[0m    | Flow run\u001b[35m 'vigorous-hawk'\u001b[0m - Finished in state \u001b[32mCompleted\u001b[0m()\n"
      ]
     },
     "metadata": {},
     "output_type": "display_data"
    }
   ],
   "source": [
    "import httpx\n",
    "from prefect import flow\n",
    "\n",
    "@flow\n",
    "def get_repo_info():\n",
    "    url = \"https://api.github.com/repos/PrefectHQ/prefect\"\n",
    "    response = httpx.get(url)\n",
    "    response.raise_for_status()\n",
    "    repo = response.json()\n",
    "    print(f\"PrefectHQ/prefect repository statistics 🤓:\")\n",
    "    print(f\"Stars 🌠 : {repo['stargazers_count']}\")\n",
    "    print(f\"Forks 🍴 : {repo['forks_count']}\")\n",
    "\n",
    "\n",
    "if __name__ == \"__main__\":\n",
    "    get_repo_info()"
   ]
  },
  {
   "attachments": {},
   "cell_type": "markdown",
   "metadata": {},
   "source": [
    "## 1.2. Loggingの使用"
   ]
  },
  {
   "cell_type": "code",
   "execution_count": 2,
   "metadata": {},
   "outputs": [
    {
     "name": "stderr",
     "output_type": "stream",
     "text": [
      "/Users/kohta/workspace/prefect/venv/lib/python3.10/site-packages/prefect/flows.py:244: UserWarning: A flow named 'get-repo-info' and defined at '/var/folders/q5/s5mcbmt95hd29sp3b9xmr2580000gn/T/ipykernel_56442/661357173.py:6' conflicts with another flow. Consider specifying a unique `name` parameter in the flow definition:\n",
      "\n",
      " `@flow(name='my_unique_name', ...)`\n",
      "  warnings.warn(\n"
     ]
    },
    {
     "data": {
      "text/html": [
       "<pre style=\"white-space:pre;overflow-x:auto;line-height:normal;font-family:Menlo,'DejaVu Sans Mono',consolas,'Courier New',monospace\">13:13:40.635 | <span style=\"color: #008080; text-decoration-color: #008080\">INFO</span>    | prefect.engine - Created flow run<span style=\"color: #800080; text-decoration-color: #800080\"> 'pristine-skua'</span> for flow<span style=\"color: #800080; text-decoration-color: #800080; font-weight: bold\"> 'get-repo-info'</span>\n",
       "</pre>\n"
      ],
      "text/plain": [
       "13:13:40.635 | \u001b[36mINFO\u001b[0m    | prefect.engine - Created flow run\u001b[35m 'pristine-skua'\u001b[0m for flow\u001b[1;35m 'get-repo-info'\u001b[0m\n"
      ]
     },
     "metadata": {},
     "output_type": "display_data"
    },
    {
     "data": {
      "text/html": [
       "<pre style=\"white-space:pre;overflow-x:auto;line-height:normal;font-family:Menlo,'DejaVu Sans Mono',consolas,'Courier New',monospace\">13:13:40.761 | <span style=\"color: #008080; text-decoration-color: #008080\">INFO</span>    | Flow run<span style=\"color: #800080; text-decoration-color: #800080\"> 'pristine-skua'</span> - PrefectHQ/prefect repository statistics 🤓:\n",
       "</pre>\n"
      ],
      "text/plain": [
       "13:13:40.761 | \u001b[36mINFO\u001b[0m    | Flow run\u001b[35m 'pristine-skua'\u001b[0m - PrefectHQ/prefect repository statistics 🤓:\n"
      ]
     },
     "metadata": {},
     "output_type": "display_data"
    },
    {
     "data": {
      "text/html": [
       "<pre style=\"white-space:pre;overflow-x:auto;line-height:normal;font-family:Menlo,'DejaVu Sans Mono',consolas,'Courier New',monospace\">13:13:40.763 | <span style=\"color: #008080; text-decoration-color: #008080\">INFO</span>    | Flow run<span style=\"color: #800080; text-decoration-color: #800080\"> 'pristine-skua'</span> - Stars 🌠 : 12245\n",
       "</pre>\n"
      ],
      "text/plain": [
       "13:13:40.763 | \u001b[36mINFO\u001b[0m    | Flow run\u001b[35m 'pristine-skua'\u001b[0m - Stars 🌠 : 12245\n"
      ]
     },
     "metadata": {},
     "output_type": "display_data"
    },
    {
     "data": {
      "text/html": [
       "<pre style=\"white-space:pre;overflow-x:auto;line-height:normal;font-family:Menlo,'DejaVu Sans Mono',consolas,'Courier New',monospace\">13:13:40.764 | <span style=\"color: #008080; text-decoration-color: #008080\">INFO</span>    | Flow run<span style=\"color: #800080; text-decoration-color: #800080\"> 'pristine-skua'</span> - Forks 🍴 : 1270\n",
       "</pre>\n"
      ],
      "text/plain": [
       "13:13:40.764 | \u001b[36mINFO\u001b[0m    | Flow run\u001b[35m 'pristine-skua'\u001b[0m - Forks 🍴 : 1270\n"
      ]
     },
     "metadata": {},
     "output_type": "display_data"
    },
    {
     "data": {
      "text/html": [
       "<pre style=\"white-space:pre;overflow-x:auto;line-height:normal;font-family:Menlo,'DejaVu Sans Mono',consolas,'Courier New',monospace\">13:13:40.787 | <span style=\"color: #008080; text-decoration-color: #008080\">INFO</span>    | Flow run<span style=\"color: #800080; text-decoration-color: #800080\"> 'pristine-skua'</span> - Finished in state <span style=\"color: #008000; text-decoration-color: #008000\">Completed</span>()\n",
       "</pre>\n"
      ],
      "text/plain": [
       "13:13:40.787 | \u001b[36mINFO\u001b[0m    | Flow run\u001b[35m 'pristine-skua'\u001b[0m - Finished in state \u001b[32mCompleted\u001b[0m()\n"
      ]
     },
     "metadata": {},
     "output_type": "display_data"
    }
   ],
   "source": [
    "# Loggingの追加\n",
    "# print文を情報ログとして取り込むこともできます（例：@flow(log_prints=True)）。\n",
    "\n",
    "import httpx\n",
    "from prefect import flow, get_run_logger\n",
    "\n",
    "\n",
    "@flow\n",
    "def get_repo_info(repo_name: str = \"PrefectHQ/prefect\"):\n",
    "    url = f\"https://api.github.com/repos/{repo_name}\"\n",
    "    response = httpx.get(url)\n",
    "    response.raise_for_status()\n",
    "    repo = response.json()\n",
    "    logger = get_run_logger()\n",
    "    logger.info(f\"PrefectHQ/prefect repository statistics 🤓:\")\n",
    "    logger.info(f\"Stars 🌠 : {repo['stargazers_count']}\")\n",
    "    logger.info(f\"Forks 🍴 : {repo['forks_count']}\")\n",
    "\n",
    "\n",
    "if __name__ == \"__main__\":\n",
    "    get_repo_info()\n"
   ]
  },
  {
   "attachments": {},
   "cell_type": "markdown",
   "metadata": {},
   "source": [
    "## 1.3. リトライ"
   ]
  },
  {
   "cell_type": "code",
   "execution_count": 3,
   "metadata": {},
   "outputs": [
    {
     "name": "stderr",
     "output_type": "stream",
     "text": [
      "/Users/kohta/workspace/prefect/venv/lib/python3.10/site-packages/prefect/flows.py:244: UserWarning: A flow named 'get-repo-info' and defined at '/var/folders/q5/s5mcbmt95hd29sp3b9xmr2580000gn/T/ipykernel_56442/3559605385.py:5' conflicts with another flow. Consider specifying a unique `name` parameter in the flow definition:\n",
      "\n",
      " `@flow(name='my_unique_name', ...)`\n",
      "  warnings.warn(\n"
     ]
    },
    {
     "data": {
      "text/html": [
       "<pre style=\"white-space:pre;overflow-x:auto;line-height:normal;font-family:Menlo,'DejaVu Sans Mono',consolas,'Courier New',monospace\">13:16:58.354 | <span style=\"color: #008080; text-decoration-color: #008080\">INFO</span>    | prefect.engine - Created flow run<span style=\"color: #800080; text-decoration-color: #800080\"> 'talented-mule'</span> for flow<span style=\"color: #800080; text-decoration-color: #800080; font-weight: bold\"> 'get-repo-info'</span>\n",
       "</pre>\n"
      ],
      "text/plain": [
       "13:16:58.354 | \u001b[36mINFO\u001b[0m    | prefect.engine - Created flow run\u001b[35m 'talented-mule'\u001b[0m for flow\u001b[1;35m 'get-repo-info'\u001b[0m\n"
      ]
     },
     "metadata": {},
     "output_type": "display_data"
    },
    {
     "data": {
      "text/html": [
       "<pre style=\"white-space:pre;overflow-x:auto;line-height:normal;font-family:Menlo,'DejaVu Sans Mono',consolas,'Courier New',monospace\">13:16:58.838 | <span style=\"color: #008080; text-decoration-color: #008080\">INFO</span>    | Flow run<span style=\"color: #800080; text-decoration-color: #800080\"> 'talented-mule'</span> - PrefectHQ/prefect repository statistics 🤓:\n",
       "</pre>\n"
      ],
      "text/plain": [
       "13:16:58.838 | \u001b[36mINFO\u001b[0m    | Flow run\u001b[35m 'talented-mule'\u001b[0m - PrefectHQ/prefect repository statistics 🤓:\n"
      ]
     },
     "metadata": {},
     "output_type": "display_data"
    },
    {
     "data": {
      "text/html": [
       "<pre style=\"white-space:pre;overflow-x:auto;line-height:normal;font-family:Menlo,'DejaVu Sans Mono',consolas,'Courier New',monospace\">13:16:58.843 | <span style=\"color: #008080; text-decoration-color: #008080\">INFO</span>    | Flow run<span style=\"color: #800080; text-decoration-color: #800080\"> 'talented-mule'</span> - Stars 🌠 : 12245\n",
       "</pre>\n"
      ],
      "text/plain": [
       "13:16:58.843 | \u001b[36mINFO\u001b[0m    | Flow run\u001b[35m 'talented-mule'\u001b[0m - Stars 🌠 : 12245\n"
      ]
     },
     "metadata": {},
     "output_type": "display_data"
    },
    {
     "data": {
      "text/html": [
       "<pre style=\"white-space:pre;overflow-x:auto;line-height:normal;font-family:Menlo,'DejaVu Sans Mono',consolas,'Courier New',monospace\">13:16:58.846 | <span style=\"color: #008080; text-decoration-color: #008080\">INFO</span>    | Flow run<span style=\"color: #800080; text-decoration-color: #800080\"> 'talented-mule'</span> - Forks 🍴 : 1270\n",
       "</pre>\n"
      ],
      "text/plain": [
       "13:16:58.846 | \u001b[36mINFO\u001b[0m    | Flow run\u001b[35m 'talented-mule'\u001b[0m - Forks 🍴 : 1270\n"
      ]
     },
     "metadata": {},
     "output_type": "display_data"
    },
    {
     "data": {
      "text/html": [
       "<pre style=\"white-space:pre;overflow-x:auto;line-height:normal;font-family:Menlo,'DejaVu Sans Mono',consolas,'Courier New',monospace\">13:16:58.882 | <span style=\"color: #008080; text-decoration-color: #008080\">INFO</span>    | Flow run<span style=\"color: #800080; text-decoration-color: #800080\"> 'talented-mule'</span> - Finished in state <span style=\"color: #008000; text-decoration-color: #008000\">Completed</span>()\n",
       "</pre>\n"
      ],
      "text/plain": [
       "13:16:58.882 | \u001b[36mINFO\u001b[0m    | Flow run\u001b[35m 'talented-mule'\u001b[0m - Finished in state \u001b[32mCompleted\u001b[0m()\n"
      ]
     },
     "metadata": {},
     "output_type": "display_data"
    }
   ],
   "source": [
    "import httpx\n",
    "from prefect import flow, get_run_logger\n",
    "\n",
    "\n",
    "@flow(retries=3, retry_delay_seconds=5)\n",
    "def get_repo_info(repo_name: str = \"PrefectHQ/prefect\"):\n",
    "    url = f\"https://api.github.com/repos/{repo_name}\"\n",
    "    response = httpx.get(url)\n",
    "    response.raise_for_status()\n",
    "    repo = response.json()\n",
    "    logger = get_run_logger()\n",
    "    logger.info(f\"PrefectHQ/prefect repository statistics 🤓:\")\n",
    "    logger.info(f\"Stars 🌠 : {repo['stargazers_count']}\")\n",
    "    logger.info(f\"Forks 🍴 : {repo['forks_count']}\")\n",
    "\n",
    "\n",
    "if __name__ == \"__main__\":\n",
    "    get_repo_info()\n"
   ]
  },
  {
   "attachments": {},
   "cell_type": "markdown",
   "metadata": {},
   "source": [
    "# 2. Task(公式チュートリアル)\n",
    "\n",
    "* 注意\n",
    "  * すべてのタスクはフロー内から呼び出されなければならない。\n",
    "  * タスクは他のタスクを直接呼び出すことはできません。"
   ]
  },
  {
   "attachments": {},
   "cell_type": "markdown",
   "metadata": {},
   "source": [
    "## 2.1. taskの使用"
   ]
  },
  {
   "cell_type": "code",
   "execution_count": 18,
   "metadata": {},
   "outputs": [
    {
     "data": {
      "text/html": [
       "<pre style=\"white-space:pre;overflow-x:auto;line-height:normal;font-family:Menlo,'DejaVu Sans Mono',consolas,'Courier New',monospace\">16:07:48.209 | <span style=\"color: #008080; text-decoration-color: #008080\">INFO</span>    | prefect.engine - Created flow run<span style=\"color: #800080; text-decoration-color: #800080\"> 'ludicrous-beetle'</span> for flow<span style=\"color: #800080; text-decoration-color: #800080; font-weight: bold\"> 'get repo info flow'</span>\n",
       "</pre>\n"
      ],
      "text/plain": [
       "16:07:48.209 | \u001b[36mINFO\u001b[0m    | prefect.engine - Created flow run\u001b[35m 'ludicrous-beetle'\u001b[0m for flow\u001b[1;35m 'get repo info flow'\u001b[0m\n"
      ]
     },
     "metadata": {},
     "output_type": "display_data"
    },
    {
     "data": {
      "text/html": [
       "<pre style=\"white-space:pre;overflow-x:auto;line-height:normal;font-family:Menlo,'DejaVu Sans Mono',consolas,'Courier New',monospace\">16:07:48.296 | <span style=\"color: #008080; text-decoration-color: #008080\">INFO</span>    | Flow run<span style=\"color: #800080; text-decoration-color: #800080\"> 'ludicrous-beetle'</span> - Created task run 'get response task-0' for task 'get response task'\n",
       "</pre>\n"
      ],
      "text/plain": [
       "16:07:48.296 | \u001b[36mINFO\u001b[0m    | Flow run\u001b[35m 'ludicrous-beetle'\u001b[0m - Created task run 'get response task-0' for task 'get response task'\n"
      ]
     },
     "metadata": {},
     "output_type": "display_data"
    },
    {
     "data": {
      "text/html": [
       "<pre style=\"white-space:pre;overflow-x:auto;line-height:normal;font-family:Menlo,'DejaVu Sans Mono',consolas,'Courier New',monospace\">16:07:48.297 | <span style=\"color: #008080; text-decoration-color: #008080\">INFO</span>    | Flow run<span style=\"color: #800080; text-decoration-color: #800080\"> 'ludicrous-beetle'</span> - Executing 'get response task-0' immediately...\n",
       "</pre>\n"
      ],
      "text/plain": [
       "16:07:48.297 | \u001b[36mINFO\u001b[0m    | Flow run\u001b[35m 'ludicrous-beetle'\u001b[0m - Executing 'get response task-0' immediately...\n"
      ]
     },
     "metadata": {},
     "output_type": "display_data"
    },
    {
     "data": {
      "text/html": [
       "<pre style=\"white-space:pre;overflow-x:auto;line-height:normal;font-family:Menlo,'DejaVu Sans Mono',consolas,'Courier New',monospace\">16:07:48.655 | <span style=\"color: #008080; text-decoration-color: #008080\">INFO</span>    | Task run 'get response task-0' - Finished in state <span style=\"color: #008000; text-decoration-color: #008000\">Completed</span>()\n",
       "</pre>\n"
      ],
      "text/plain": [
       "16:07:48.655 | \u001b[36mINFO\u001b[0m    | Task run 'get response task-0' - Finished in state \u001b[32mCompleted\u001b[0m()\n"
      ]
     },
     "metadata": {},
     "output_type": "display_data"
    },
    {
     "data": {
      "text/html": [
       "<pre style=\"white-space:pre;overflow-x:auto;line-height:normal;font-family:Menlo,'DejaVu Sans Mono',consolas,'Courier New',monospace\">16:07:48.656 | <span style=\"color: #008080; text-decoration-color: #008080\">INFO</span>    | Flow run<span style=\"color: #800080; text-decoration-color: #800080\"> 'ludicrous-beetle'</span> - PrefectHQ/prefect repository statistics 🤓:\n",
       "</pre>\n"
      ],
      "text/plain": [
       "16:07:48.656 | \u001b[36mINFO\u001b[0m    | Flow run\u001b[35m 'ludicrous-beetle'\u001b[0m - PrefectHQ/prefect repository statistics 🤓:\n"
      ]
     },
     "metadata": {},
     "output_type": "display_data"
    },
    {
     "data": {
      "text/html": [
       "<pre style=\"white-space:pre;overflow-x:auto;line-height:normal;font-family:Menlo,'DejaVu Sans Mono',consolas,'Courier New',monospace\">16:07:48.657 | <span style=\"color: #008080; text-decoration-color: #008080\">INFO</span>    | Flow run<span style=\"color: #800080; text-decoration-color: #800080\"> 'ludicrous-beetle'</span> - Stars 🌠 : 12246\n",
       "</pre>\n"
      ],
      "text/plain": [
       "16:07:48.657 | \u001b[36mINFO\u001b[0m    | Flow run\u001b[35m 'ludicrous-beetle'\u001b[0m - Stars 🌠 : 12246\n"
      ]
     },
     "metadata": {},
     "output_type": "display_data"
    },
    {
     "data": {
      "text/html": [
       "<pre style=\"white-space:pre;overflow-x:auto;line-height:normal;font-family:Menlo,'DejaVu Sans Mono',consolas,'Courier New',monospace\">16:07:48.657 | <span style=\"color: #008080; text-decoration-color: #008080\">INFO</span>    | Flow run<span style=\"color: #800080; text-decoration-color: #800080\"> 'ludicrous-beetle'</span> - Forks 🍴 : 1271\n",
       "</pre>\n"
      ],
      "text/plain": [
       "16:07:48.657 | \u001b[36mINFO\u001b[0m    | Flow run\u001b[35m 'ludicrous-beetle'\u001b[0m - Forks 🍴 : 1271\n"
      ]
     },
     "metadata": {},
     "output_type": "display_data"
    },
    {
     "data": {
      "text/html": [
       "<pre style=\"white-space:pre;overflow-x:auto;line-height:normal;font-family:Menlo,'DejaVu Sans Mono',consolas,'Courier New',monospace\">16:07:48.674 | <span style=\"color: #008080; text-decoration-color: #008080\">INFO</span>    | Flow run<span style=\"color: #800080; text-decoration-color: #800080\"> 'ludicrous-beetle'</span> - Finished in state <span style=\"color: #008000; text-decoration-color: #008000\">Completed</span>('All states completed.')\n",
       "</pre>\n"
      ],
      "text/plain": [
       "16:07:48.674 | \u001b[36mINFO\u001b[0m    | Flow run\u001b[35m 'ludicrous-beetle'\u001b[0m - Finished in state \u001b[32mCompleted\u001b[0m('All states completed.')\n"
      ]
     },
     "metadata": {},
     "output_type": "display_data"
    }
   ],
   "source": [
    "# 1のフローをtaskを使用する形にリファクタ\n",
    "import httpx\n",
    "from prefect import flow, task, get_run_logger\n",
    "\n",
    "\n",
    "@task(name=\"get response task\")\n",
    "def get_url(url: str, params: dict = None):\n",
    "    response = httpx.get(url, params=params)\n",
    "    response.raise_for_status()\n",
    "    return response.json()\n",
    "\n",
    "\n",
    "@flow(name=\"get repo info flow\")\n",
    "def get_repo_info(\n",
    "    repo_name: str = \"PrefectHQ/prefect\", retries=3, retry_delay_seconds=5\n",
    "):\n",
    "    repo = get_url(f\"https://api.github.com/repos/{repo_name}\")\n",
    "    logger = get_run_logger()\n",
    "    logger.info(f\"PrefectHQ/prefect repository statistics 🤓:\")\n",
    "    logger.info(f\"Stars 🌠 : {repo['stargazers_count']}\")\n",
    "    logger.info(f\"Forks 🍴 : {repo['forks_count']}\")\n",
    "\n",
    "\n",
    "if __name__ == \"__main__\":\n",
    "    get_repo_info()\n"
   ]
  },
  {
   "attachments": {},
   "cell_type": "markdown",
   "metadata": {},
   "source": [
    "## 2.2. キャッシュ\n",
    "\n",
    "* タスクは、戻り値のキャッシュが可能\n",
    "* ユースケース：\n",
    "  * フローの実行のたびに取得し直すのが面倒なタスクの結果を保持\n",
    "  * タスクへの入力が変更されていない場合に、キャッシュされた結果を再利用\n",
    "* キャッシュを有効にするには、```cache_key_fn```を指定"
   ]
  },
  {
   "cell_type": "code",
   "execution_count": 21,
   "metadata": {},
   "outputs": [],
   "source": [
    "import httpx\n",
    "from datetime import timedelta\n",
    "from prefect import flow, task, get_run_logger\n",
    "from prefect.tasks import task_input_hash\n",
    "\n",
    "\n",
    "@task(name=\"get response task\", cache_key_fn=task_input_hash, cache_expiration=timedelta(minutes=1))\n",
    "def get_url(url: str, params: dict = None):\n",
    "    response = httpx.get(url, params=params)\n",
    "    response.raise_for_status()\n",
    "    return response.json()"
   ]
  },
  {
   "cell_type": "code",
   "execution_count": 22,
   "metadata": {},
   "outputs": [
    {
     "name": "stderr",
     "output_type": "stream",
     "text": [
      "/Users/kohta/workspace/prefect/venv/lib/python3.10/site-packages/prefect/flows.py:244: UserWarning: A flow named 'get repo info flow' and defined at '/var/folders/q5/s5mcbmt95hd29sp3b9xmr2580000gn/T/ipykernel_56442/3320423673.py:1' conflicts with another flow. Consider specifying a unique `name` parameter in the flow definition:\n",
      "\n",
      " `@flow(name='my_unique_name', ...)`\n",
      "  warnings.warn(\n"
     ]
    },
    {
     "data": {
      "text/html": [
       "<pre style=\"white-space:pre;overflow-x:auto;line-height:normal;font-family:Menlo,'DejaVu Sans Mono',consolas,'Courier New',monospace\">16:09:51.675 | <span style=\"color: #008080; text-decoration-color: #008080\">INFO</span>    | prefect.engine - Created flow run<span style=\"color: #800080; text-decoration-color: #800080\"> 'warm-toad'</span> for flow<span style=\"color: #800080; text-decoration-color: #800080; font-weight: bold\"> 'get repo info flow'</span>\n",
       "</pre>\n"
      ],
      "text/plain": [
       "16:09:51.675 | \u001b[36mINFO\u001b[0m    | prefect.engine - Created flow run\u001b[35m 'warm-toad'\u001b[0m for flow\u001b[1;35m 'get repo info flow'\u001b[0m\n"
      ]
     },
     "metadata": {},
     "output_type": "display_data"
    },
    {
     "data": {
      "text/html": [
       "<pre style=\"white-space:pre;overflow-x:auto;line-height:normal;font-family:Menlo,'DejaVu Sans Mono',consolas,'Courier New',monospace\">16:09:51.782 | <span style=\"color: #008080; text-decoration-color: #008080\">INFO</span>    | Flow run<span style=\"color: #800080; text-decoration-color: #800080\"> 'warm-toad'</span> - Created task run 'get response task-0' for task 'get response task'\n",
       "</pre>\n"
      ],
      "text/plain": [
       "16:09:51.782 | \u001b[36mINFO\u001b[0m    | Flow run\u001b[35m 'warm-toad'\u001b[0m - Created task run 'get response task-0' for task 'get response task'\n"
      ]
     },
     "metadata": {},
     "output_type": "display_data"
    },
    {
     "data": {
      "text/html": [
       "<pre style=\"white-space:pre;overflow-x:auto;line-height:normal;font-family:Menlo,'DejaVu Sans Mono',consolas,'Courier New',monospace\">16:09:51.783 | <span style=\"color: #008080; text-decoration-color: #008080\">INFO</span>    | Flow run<span style=\"color: #800080; text-decoration-color: #800080\"> 'warm-toad'</span> - Executing 'get response task-0' immediately...\n",
       "</pre>\n"
      ],
      "text/plain": [
       "16:09:51.783 | \u001b[36mINFO\u001b[0m    | Flow run\u001b[35m 'warm-toad'\u001b[0m - Executing 'get response task-0' immediately...\n"
      ]
     },
     "metadata": {},
     "output_type": "display_data"
    },
    {
     "data": {
      "text/html": [
       "<pre style=\"white-space:pre;overflow-x:auto;line-height:normal;font-family:Menlo,'DejaVu Sans Mono',consolas,'Courier New',monospace\">16:09:52.200 | <span style=\"color: #008080; text-decoration-color: #008080\">INFO</span>    | Task run 'get response task-0' - Finished in state <span style=\"color: #008000; text-decoration-color: #008000\">Completed</span>()\n",
       "</pre>\n"
      ],
      "text/plain": [
       "16:09:52.200 | \u001b[36mINFO\u001b[0m    | Task run 'get response task-0' - Finished in state \u001b[32mCompleted\u001b[0m()\n"
      ]
     },
     "metadata": {},
     "output_type": "display_data"
    },
    {
     "data": {
      "text/html": [
       "<pre style=\"white-space:pre;overflow-x:auto;line-height:normal;font-family:Menlo,'DejaVu Sans Mono',consolas,'Courier New',monospace\">16:09:52.202 | <span style=\"color: #008080; text-decoration-color: #008080\">INFO</span>    | Flow run<span style=\"color: #800080; text-decoration-color: #800080\"> 'warm-toad'</span> - PrefectHQ/prefect repository statistics 🤓:\n",
       "</pre>\n"
      ],
      "text/plain": [
       "16:09:52.202 | \u001b[36mINFO\u001b[0m    | Flow run\u001b[35m 'warm-toad'\u001b[0m - PrefectHQ/prefect repository statistics 🤓:\n"
      ]
     },
     "metadata": {},
     "output_type": "display_data"
    },
    {
     "data": {
      "text/html": [
       "<pre style=\"white-space:pre;overflow-x:auto;line-height:normal;font-family:Menlo,'DejaVu Sans Mono',consolas,'Courier New',monospace\">16:09:52.203 | <span style=\"color: #008080; text-decoration-color: #008080\">INFO</span>    | Flow run<span style=\"color: #800080; text-decoration-color: #800080\"> 'warm-toad'</span> - Stars 🌠 : 12246\n",
       "</pre>\n"
      ],
      "text/plain": [
       "16:09:52.203 | \u001b[36mINFO\u001b[0m    | Flow run\u001b[35m 'warm-toad'\u001b[0m - Stars 🌠 : 12246\n"
      ]
     },
     "metadata": {},
     "output_type": "display_data"
    },
    {
     "data": {
      "text/html": [
       "<pre style=\"white-space:pre;overflow-x:auto;line-height:normal;font-family:Menlo,'DejaVu Sans Mono',consolas,'Courier New',monospace\">16:09:52.205 | <span style=\"color: #008080; text-decoration-color: #008080\">INFO</span>    | Flow run<span style=\"color: #800080; text-decoration-color: #800080\"> 'warm-toad'</span> - Forks 🍴 : 1271\n",
       "</pre>\n"
      ],
      "text/plain": [
       "16:09:52.205 | \u001b[36mINFO\u001b[0m    | Flow run\u001b[35m 'warm-toad'\u001b[0m - Forks 🍴 : 1271\n"
      ]
     },
     "metadata": {},
     "output_type": "display_data"
    },
    {
     "data": {
      "text/html": [
       "<pre style=\"white-space:pre;overflow-x:auto;line-height:normal;font-family:Menlo,'DejaVu Sans Mono',consolas,'Courier New',monospace\">16:09:52.228 | <span style=\"color: #008080; text-decoration-color: #008080\">INFO</span>    | Flow run<span style=\"color: #800080; text-decoration-color: #800080\"> 'warm-toad'</span> - Finished in state <span style=\"color: #008000; text-decoration-color: #008000\">Completed</span>('All states completed.')\n",
       "</pre>\n"
      ],
      "text/plain": [
       "16:09:52.228 | \u001b[36mINFO\u001b[0m    | Flow run\u001b[35m 'warm-toad'\u001b[0m - Finished in state \u001b[32mCompleted\u001b[0m('All states completed.')\n"
      ]
     },
     "metadata": {},
     "output_type": "display_data"
    }
   ],
   "source": [
    "@flow(name=\"get repo info flow\")\n",
    "def get_repo_info(\n",
    "    repo_name: str = \"PrefectHQ/prefect\", retries=3, retry_delay_seconds=5\n",
    "):\n",
    "    repo = get_url(f\"https://api.github.com/repos/{repo_name}\")\n",
    "    logger = get_run_logger()\n",
    "    logger.info(f\"PrefectHQ/prefect repository statistics 🤓:\")\n",
    "    logger.info(f\"Stars 🌠 : {repo['stargazers_count']}\")\n",
    "    logger.info(f\"Forks 🍴 : {repo['forks_count']}\")\n",
    "\n",
    "\n",
    "if __name__ == \"__main__\":\n",
    "    get_repo_info()\n"
   ]
  },
  {
   "attachments": {},
   "cell_type": "markdown",
   "metadata": {},
   "source": [
    "## 2.3. 並列処理(concurrency)"
   ]
  },
  {
   "cell_type": "code",
   "execution_count": 14,
   "metadata": {},
   "outputs": [
    {
     "name": "stderr",
     "output_type": "stream",
     "text": [
      "/Users/kohta/workspace/prefect/venv/lib/python3.10/site-packages/prefect/tasks.py:298: UserWarning: A task named 'get_url' and defined at '/var/folders/q5/s5mcbmt95hd29sp3b9xmr2580000gn/T/ipykernel_56442/2685729675.py:7' conflicts with another task. Consider specifying a unique `name` parameter in the task definition:\n",
      "\n",
      " `@task(name='my_unique_name', ...)`\n",
      "  warnings.warn(\n",
      "/Users/kohta/workspace/prefect/venv/lib/python3.10/site-packages/prefect/flows.py:244: UserWarning: A flow named 'get-repo-info' and defined at '/var/folders/q5/s5mcbmt95hd29sp3b9xmr2580000gn/T/ipykernel_56442/2685729675.py:27' conflicts with another flow. Consider specifying a unique `name` parameter in the flow definition:\n",
      "\n",
      " `@flow(name='my_unique_name', ...)`\n",
      "  warnings.warn(\n"
     ]
    },
    {
     "data": {
      "text/html": [
       "<pre style=\"white-space:pre;overflow-x:auto;line-height:normal;font-family:Menlo,'DejaVu Sans Mono',consolas,'Courier New',monospace\">13:49:52.965 | <span style=\"color: #008080; text-decoration-color: #008080\">INFO</span>    | prefect.engine - Created flow run<span style=\"color: #800080; text-decoration-color: #800080\"> 'woodoo-hyrax'</span> for flow<span style=\"color: #800080; text-decoration-color: #800080; font-weight: bold\"> 'get-repo-info'</span>\n",
       "</pre>\n"
      ],
      "text/plain": [
       "13:49:52.965 | \u001b[36mINFO\u001b[0m    | prefect.engine - Created flow run\u001b[35m 'woodoo-hyrax'\u001b[0m for flow\u001b[1;35m 'get-repo-info'\u001b[0m\n"
      ]
     },
     "metadata": {},
     "output_type": "display_data"
    },
    {
     "data": {
      "text/html": [
       "<pre style=\"white-space:pre;overflow-x:auto;line-height:normal;font-family:Menlo,'DejaVu Sans Mono',consolas,'Courier New',monospace\">13:49:53.033 | <span style=\"color: #008080; text-decoration-color: #008080\">INFO</span>    | Flow run<span style=\"color: #800080; text-decoration-color: #800080\"> 'woodoo-hyrax'</span> - Created task run 'get_url-0' for task 'get_url'\n",
       "</pre>\n"
      ],
      "text/plain": [
       "13:49:53.033 | \u001b[36mINFO\u001b[0m    | Flow run\u001b[35m 'woodoo-hyrax'\u001b[0m - Created task run 'get_url-0' for task 'get_url'\n"
      ]
     },
     "metadata": {},
     "output_type": "display_data"
    },
    {
     "data": {
      "text/html": [
       "<pre style=\"white-space:pre;overflow-x:auto;line-height:normal;font-family:Menlo,'DejaVu Sans Mono',consolas,'Courier New',monospace\">13:49:53.034 | <span style=\"color: #008080; text-decoration-color: #008080\">INFO</span>    | Flow run<span style=\"color: #800080; text-decoration-color: #800080\"> 'woodoo-hyrax'</span> - Executing 'get_url-0' immediately...\n",
       "</pre>\n"
      ],
      "text/plain": [
       "13:49:53.034 | \u001b[36mINFO\u001b[0m    | Flow run\u001b[35m 'woodoo-hyrax'\u001b[0m - Executing 'get_url-0' immediately...\n"
      ]
     },
     "metadata": {},
     "output_type": "display_data"
    },
    {
     "data": {
      "text/html": [
       "<pre style=\"white-space:pre;overflow-x:auto;line-height:normal;font-family:Menlo,'DejaVu Sans Mono',consolas,'Courier New',monospace\">13:49:53.063 | <span style=\"color: #008080; text-decoration-color: #008080\">INFO</span>    | Task run 'get_url-0' - Finished in state Cached(type=COMPLETED)\n",
       "</pre>\n"
      ],
      "text/plain": [
       "13:49:53.063 | \u001b[36mINFO\u001b[0m    | Task run 'get_url-0' - Finished in state Cached(type=COMPLETED)\n"
      ]
     },
     "metadata": {},
     "output_type": "display_data"
    },
    {
     "data": {
      "text/html": [
       "<pre style=\"white-space:pre;overflow-x:auto;line-height:normal;font-family:Menlo,'DejaVu Sans Mono',consolas,'Courier New',monospace\">13:49:53.096 | <span style=\"color: #008080; text-decoration-color: #008080\">INFO</span>    | Flow run<span style=\"color: #800080; text-decoration-color: #800080\"> 'woodoo-hyrax'</span> - Created task run 'get_url-1' for task 'get_url'\n",
       "</pre>\n"
      ],
      "text/plain": [
       "13:49:53.096 | \u001b[36mINFO\u001b[0m    | Flow run\u001b[35m 'woodoo-hyrax'\u001b[0m - Created task run 'get_url-1' for task 'get_url'\n"
      ]
     },
     "metadata": {},
     "output_type": "display_data"
    },
    {
     "data": {
      "text/html": [
       "<pre style=\"white-space:pre;overflow-x:auto;line-height:normal;font-family:Menlo,'DejaVu Sans Mono',consolas,'Courier New',monospace\">13:49:53.097 | <span style=\"color: #008080; text-decoration-color: #008080\">INFO</span>    | Flow run<span style=\"color: #800080; text-decoration-color: #800080\"> 'woodoo-hyrax'</span> - Executing 'get_url-1' immediately...\n",
       "</pre>\n"
      ],
      "text/plain": [
       "13:49:53.097 | \u001b[36mINFO\u001b[0m    | Flow run\u001b[35m 'woodoo-hyrax'\u001b[0m - Executing 'get_url-1' immediately...\n"
      ]
     },
     "metadata": {},
     "output_type": "display_data"
    },
    {
     "data": {
      "text/html": [
       "<pre style=\"white-space:pre;overflow-x:auto;line-height:normal;font-family:Menlo,'DejaVu Sans Mono',consolas,'Courier New',monospace\">13:49:54.146 | <span style=\"color: #008080; text-decoration-color: #008080\">INFO</span>    | Task run 'get_url-1' - Finished in state <span style=\"color: #008000; text-decoration-color: #008000\">Completed</span>()\n",
       "</pre>\n"
      ],
      "text/plain": [
       "13:49:54.146 | \u001b[36mINFO\u001b[0m    | Task run 'get_url-1' - Finished in state \u001b[32mCompleted\u001b[0m()\n"
      ]
     },
     "metadata": {},
     "output_type": "display_data"
    },
    {
     "data": {
      "text/html": [
       "<pre style=\"white-space:pre;overflow-x:auto;line-height:normal;font-family:Menlo,'DejaVu Sans Mono',consolas,'Courier New',monospace\">13:49:54.161 | <span style=\"color: #008080; text-decoration-color: #008080\">INFO</span>    | Flow run<span style=\"color: #800080; text-decoration-color: #800080\"> 'woodoo-hyrax'</span> - Created task run 'get_url-2' for task 'get_url'\n",
       "</pre>\n"
      ],
      "text/plain": [
       "13:49:54.161 | \u001b[36mINFO\u001b[0m    | Flow run\u001b[35m 'woodoo-hyrax'\u001b[0m - Created task run 'get_url-2' for task 'get_url'\n"
      ]
     },
     "metadata": {},
     "output_type": "display_data"
    },
    {
     "data": {
      "text/html": [
       "<pre style=\"white-space:pre;overflow-x:auto;line-height:normal;font-family:Menlo,'DejaVu Sans Mono',consolas,'Courier New',monospace\">13:49:54.162 | <span style=\"color: #008080; text-decoration-color: #008080\">INFO</span>    | Flow run<span style=\"color: #800080; text-decoration-color: #800080\"> 'woodoo-hyrax'</span> - Executing 'get_url-2' immediately...\n",
       "</pre>\n"
      ],
      "text/plain": [
       "13:49:54.162 | \u001b[36mINFO\u001b[0m    | Flow run\u001b[35m 'woodoo-hyrax'\u001b[0m - Executing 'get_url-2' immediately...\n"
      ]
     },
     "metadata": {},
     "output_type": "display_data"
    },
    {
     "data": {
      "text/html": [
       "<pre style=\"white-space:pre;overflow-x:auto;line-height:normal;font-family:Menlo,'DejaVu Sans Mono',consolas,'Courier New',monospace\">13:49:55.253 | <span style=\"color: #008080; text-decoration-color: #008080\">INFO</span>    | Task run 'get_url-2' - Finished in state <span style=\"color: #008000; text-decoration-color: #008000\">Completed</span>()\n",
       "</pre>\n"
      ],
      "text/plain": [
       "13:49:55.253 | \u001b[36mINFO\u001b[0m    | Task run 'get_url-2' - Finished in state \u001b[32mCompleted\u001b[0m()\n"
      ]
     },
     "metadata": {},
     "output_type": "display_data"
    },
    {
     "data": {
      "text/html": [
       "<pre style=\"white-space:pre;overflow-x:auto;line-height:normal;font-family:Menlo,'DejaVu Sans Mono',consolas,'Courier New',monospace\">13:49:55.268 | <span style=\"color: #008080; text-decoration-color: #008080\">INFO</span>    | Flow run<span style=\"color: #800080; text-decoration-color: #800080\"> 'woodoo-hyrax'</span> - Created task run 'get_url-3' for task 'get_url'\n",
       "</pre>\n"
      ],
      "text/plain": [
       "13:49:55.268 | \u001b[36mINFO\u001b[0m    | Flow run\u001b[35m 'woodoo-hyrax'\u001b[0m - Created task run 'get_url-3' for task 'get_url'\n"
      ]
     },
     "metadata": {},
     "output_type": "display_data"
    },
    {
     "data": {
      "text/html": [
       "<pre style=\"white-space:pre;overflow-x:auto;line-height:normal;font-family:Menlo,'DejaVu Sans Mono',consolas,'Courier New',monospace\">13:49:55.269 | <span style=\"color: #008080; text-decoration-color: #008080\">INFO</span>    | Flow run<span style=\"color: #800080; text-decoration-color: #800080\"> 'woodoo-hyrax'</span> - Executing 'get_url-3' immediately...\n",
       "</pre>\n"
      ],
      "text/plain": [
       "13:49:55.269 | \u001b[36mINFO\u001b[0m    | Flow run\u001b[35m 'woodoo-hyrax'\u001b[0m - Executing 'get_url-3' immediately...\n"
      ]
     },
     "metadata": {},
     "output_type": "display_data"
    },
    {
     "data": {
      "text/html": [
       "<pre style=\"white-space:pre;overflow-x:auto;line-height:normal;font-family:Menlo,'DejaVu Sans Mono',consolas,'Courier New',monospace\">13:49:56.408 | <span style=\"color: #008080; text-decoration-color: #008080\">INFO</span>    | Task run 'get_url-3' - Finished in state <span style=\"color: #008000; text-decoration-color: #008000\">Completed</span>()\n",
       "</pre>\n"
      ],
      "text/plain": [
       "13:49:56.408 | \u001b[36mINFO\u001b[0m    | Task run 'get_url-3' - Finished in state \u001b[32mCompleted\u001b[0m()\n"
      ]
     },
     "metadata": {},
     "output_type": "display_data"
    },
    {
     "data": {
      "text/html": [
       "<pre style=\"white-space:pre;overflow-x:auto;line-height:normal;font-family:Menlo,'DejaVu Sans Mono',consolas,'Courier New',monospace\">13:49:56.424 | <span style=\"color: #008080; text-decoration-color: #008080\">INFO</span>    | Flow run<span style=\"color: #800080; text-decoration-color: #800080\"> 'woodoo-hyrax'</span> - Created task run 'get_url-4' for task 'get_url'\n",
       "</pre>\n"
      ],
      "text/plain": [
       "13:49:56.424 | \u001b[36mINFO\u001b[0m    | Flow run\u001b[35m 'woodoo-hyrax'\u001b[0m - Created task run 'get_url-4' for task 'get_url'\n"
      ]
     },
     "metadata": {},
     "output_type": "display_data"
    },
    {
     "data": {
      "text/html": [
       "<pre style=\"white-space:pre;overflow-x:auto;line-height:normal;font-family:Menlo,'DejaVu Sans Mono',consolas,'Courier New',monospace\">13:49:56.425 | <span style=\"color: #008080; text-decoration-color: #008080\">INFO</span>    | Flow run<span style=\"color: #800080; text-decoration-color: #800080\"> 'woodoo-hyrax'</span> - Executing 'get_url-4' immediately...\n",
       "</pre>\n"
      ],
      "text/plain": [
       "13:49:56.425 | \u001b[36mINFO\u001b[0m    | Flow run\u001b[35m 'woodoo-hyrax'\u001b[0m - Executing 'get_url-4' immediately...\n"
      ]
     },
     "metadata": {},
     "output_type": "display_data"
    },
    {
     "data": {
      "text/html": [
       "<pre style=\"white-space:pre;overflow-x:auto;line-height:normal;font-family:Menlo,'DejaVu Sans Mono',consolas,'Courier New',monospace\">13:49:57.622 | <span style=\"color: #008080; text-decoration-color: #008080\">INFO</span>    | Task run 'get_url-4' - Finished in state <span style=\"color: #008000; text-decoration-color: #008000\">Completed</span>()\n",
       "</pre>\n"
      ],
      "text/plain": [
       "13:49:57.622 | \u001b[36mINFO\u001b[0m    | Task run 'get_url-4' - Finished in state \u001b[32mCompleted\u001b[0m()\n"
      ]
     },
     "metadata": {},
     "output_type": "display_data"
    },
    {
     "data": {
      "text/html": [
       "<pre style=\"white-space:pre;overflow-x:auto;line-height:normal;font-family:Menlo,'DejaVu Sans Mono',consolas,'Courier New',monospace\">13:49:57.638 | <span style=\"color: #008080; text-decoration-color: #008080\">INFO</span>    | Flow run<span style=\"color: #800080; text-decoration-color: #800080\"> 'woodoo-hyrax'</span> - Created task run 'get_url-5' for task 'get_url'\n",
       "</pre>\n"
      ],
      "text/plain": [
       "13:49:57.638 | \u001b[36mINFO\u001b[0m    | Flow run\u001b[35m 'woodoo-hyrax'\u001b[0m - Created task run 'get_url-5' for task 'get_url'\n"
      ]
     },
     "metadata": {},
     "output_type": "display_data"
    },
    {
     "data": {
      "text/html": [
       "<pre style=\"white-space:pre;overflow-x:auto;line-height:normal;font-family:Menlo,'DejaVu Sans Mono',consolas,'Courier New',monospace\">13:49:57.639 | <span style=\"color: #008080; text-decoration-color: #008080\">INFO</span>    | Flow run<span style=\"color: #800080; text-decoration-color: #800080\"> 'woodoo-hyrax'</span> - Executing 'get_url-5' immediately...\n",
       "</pre>\n"
      ],
      "text/plain": [
       "13:49:57.639 | \u001b[36mINFO\u001b[0m    | Flow run\u001b[35m 'woodoo-hyrax'\u001b[0m - Executing 'get_url-5' immediately...\n"
      ]
     },
     "metadata": {},
     "output_type": "display_data"
    },
    {
     "data": {
      "text/html": [
       "<pre style=\"white-space:pre;overflow-x:auto;line-height:normal;font-family:Menlo,'DejaVu Sans Mono',consolas,'Courier New',monospace\">13:49:58.850 | <span style=\"color: #008080; text-decoration-color: #008080\">INFO</span>    | Task run 'get_url-5' - Finished in state <span style=\"color: #008000; text-decoration-color: #008000\">Completed</span>()\n",
       "</pre>\n"
      ],
      "text/plain": [
       "13:49:58.850 | \u001b[36mINFO\u001b[0m    | Task run 'get_url-5' - Finished in state \u001b[32mCompleted\u001b[0m()\n"
      ]
     },
     "metadata": {},
     "output_type": "display_data"
    },
    {
     "data": {
      "text/html": [
       "<pre style=\"white-space:pre;overflow-x:auto;line-height:normal;font-family:Menlo,'DejaVu Sans Mono',consolas,'Courier New',monospace\">13:49:58.867 | <span style=\"color: #008080; text-decoration-color: #008080\">INFO</span>    | Flow run<span style=\"color: #800080; text-decoration-color: #800080\"> 'woodoo-hyrax'</span> - Created task run 'get_url-6' for task 'get_url'\n",
       "</pre>\n"
      ],
      "text/plain": [
       "13:49:58.867 | \u001b[36mINFO\u001b[0m    | Flow run\u001b[35m 'woodoo-hyrax'\u001b[0m - Created task run 'get_url-6' for task 'get_url'\n"
      ]
     },
     "metadata": {},
     "output_type": "display_data"
    },
    {
     "data": {
      "text/html": [
       "<pre style=\"white-space:pre;overflow-x:auto;line-height:normal;font-family:Menlo,'DejaVu Sans Mono',consolas,'Courier New',monospace\">13:49:58.868 | <span style=\"color: #008080; text-decoration-color: #008080\">INFO</span>    | Flow run<span style=\"color: #800080; text-decoration-color: #800080\"> 'woodoo-hyrax'</span> - Executing 'get_url-6' immediately...\n",
       "</pre>\n"
      ],
      "text/plain": [
       "13:49:58.868 | \u001b[36mINFO\u001b[0m    | Flow run\u001b[35m 'woodoo-hyrax'\u001b[0m - Executing 'get_url-6' immediately...\n"
      ]
     },
     "metadata": {},
     "output_type": "display_data"
    },
    {
     "data": {
      "text/html": [
       "<pre style=\"white-space:pre;overflow-x:auto;line-height:normal;font-family:Menlo,'DejaVu Sans Mono',consolas,'Courier New',monospace\">13:49:59.532 | <span style=\"color: #008080; text-decoration-color: #008080\">INFO</span>    | Task run 'get_url-6' - Finished in state <span style=\"color: #008000; text-decoration-color: #008000\">Completed</span>()\n",
       "</pre>\n"
      ],
      "text/plain": [
       "13:49:59.532 | \u001b[36mINFO\u001b[0m    | Task run 'get_url-6' - Finished in state \u001b[32mCompleted\u001b[0m()\n"
      ]
     },
     "metadata": {},
     "output_type": "display_data"
    },
    {
     "data": {
      "text/html": [
       "<pre style=\"white-space:pre;overflow-x:auto;line-height:normal;font-family:Menlo,'DejaVu Sans Mono',consolas,'Courier New',monospace\">13:49:59.534 | <span style=\"color: #008080; text-decoration-color: #008080\">INFO</span>    | Flow run<span style=\"color: #800080; text-decoration-color: #800080\"> 'woodoo-hyrax'</span> - PrefectHQ/prefect repository statistics 🤓:\n",
       "</pre>\n"
      ],
      "text/plain": [
       "13:49:59.534 | \u001b[36mINFO\u001b[0m    | Flow run\u001b[35m 'woodoo-hyrax'\u001b[0m - PrefectHQ/prefect repository statistics 🤓:\n"
      ]
     },
     "metadata": {},
     "output_type": "display_data"
    },
    {
     "data": {
      "text/html": [
       "<pre style=\"white-space:pre;overflow-x:auto;line-height:normal;font-family:Menlo,'DejaVu Sans Mono',consolas,'Courier New',monospace\">13:49:59.536 | <span style=\"color: #008080; text-decoration-color: #008080\">INFO</span>    | Flow run<span style=\"color: #800080; text-decoration-color: #800080\"> 'woodoo-hyrax'</span> - Stars 🌠 : 12246\n",
       "</pre>\n"
      ],
      "text/plain": [
       "13:49:59.536 | \u001b[36mINFO\u001b[0m    | Flow run\u001b[35m 'woodoo-hyrax'\u001b[0m - Stars 🌠 : 12246\n"
      ]
     },
     "metadata": {},
     "output_type": "display_data"
    },
    {
     "data": {
      "text/html": [
       "<pre style=\"white-space:pre;overflow-x:auto;line-height:normal;font-family:Menlo,'DejaVu Sans Mono',consolas,'Courier New',monospace\">13:49:59.537 | <span style=\"color: #008080; text-decoration-color: #008080\">INFO</span>    | Flow run<span style=\"color: #800080; text-decoration-color: #800080\"> 'woodoo-hyrax'</span> - Forks 🍴 : 1270\n",
       "</pre>\n"
      ],
      "text/plain": [
       "13:49:59.537 | \u001b[36mINFO\u001b[0m    | Flow run\u001b[35m 'woodoo-hyrax'\u001b[0m - Forks 🍴 : 1270\n"
      ]
     },
     "metadata": {},
     "output_type": "display_data"
    },
    {
     "data": {
      "text/html": [
       "<pre style=\"white-space:pre;overflow-x:auto;line-height:normal;font-family:Menlo,'DejaVu Sans Mono',consolas,'Courier New',monospace\">13:49:59.538 | <span style=\"color: #008080; text-decoration-color: #008080\">INFO</span>    | Flow run<span style=\"color: #800080; text-decoration-color: #800080\"> 'woodoo-hyrax'</span> - Average open issues per user 💌 : 2.36\n",
       "</pre>\n"
      ],
      "text/plain": [
       "13:49:59.538 | \u001b[36mINFO\u001b[0m    | Flow run\u001b[35m 'woodoo-hyrax'\u001b[0m - Average open issues per user 💌 : 2.36\n"
      ]
     },
     "metadata": {},
     "output_type": "display_data"
    },
    {
     "data": {
      "text/html": [
       "<pre style=\"white-space:pre;overflow-x:auto;line-height:normal;font-family:Menlo,'DejaVu Sans Mono',consolas,'Courier New',monospace\">13:49:59.563 | <span style=\"color: #008080; text-decoration-color: #008080\">INFO</span>    | Flow run<span style=\"color: #800080; text-decoration-color: #800080\"> 'woodoo-hyrax'</span> - Finished in state <span style=\"color: #008000; text-decoration-color: #008000\">Completed</span>('All states completed.')\n",
       "</pre>\n"
      ],
      "text/plain": [
       "13:49:59.563 | \u001b[36mINFO\u001b[0m    | Flow run\u001b[35m 'woodoo-hyrax'\u001b[0m - Finished in state \u001b[32mCompleted\u001b[0m('All states completed.')\n"
      ]
     },
     "metadata": {},
     "output_type": "display_data"
    }
   ],
   "source": [
    "import httpx\n",
    "from datetime import timedelta\n",
    "from prefect import flow, task, get_run_logger\n",
    "from prefect.tasks import task_input_hash\n",
    "\n",
    "\n",
    "@task(cache_key_fn=task_input_hash, cache_expiration=timedelta(minutes=1))\n",
    "def get_url(url: str, params: dict = None):\n",
    "    response = httpx.get(url, params=params)\n",
    "    response.raise_for_status()\n",
    "    return response.json()\n",
    "\n",
    "\n",
    "def get_open_issues(repo_name: str, open_issues_count: int, per_page: int = 100):\n",
    "    issues = []\n",
    "    pages = range(1, -(open_issues_count // -per_page) + 1)\n",
    "    for page in pages:\n",
    "        issues.append(\n",
    "            get_url(\n",
    "                f\"https://api.github.com/repos/{repo_name}/issues\",\n",
    "                params={\"page\": page, \"per_page\": per_page, \"state\": \"open\"},\n",
    "            )\n",
    "        )\n",
    "    return [i for p in issues for i in p]\n",
    "\n",
    "\n",
    "@flow\n",
    "def get_repo_info(\n",
    "    repo_name: str = \"PrefectHQ/prefect\", retries=3, retry_delay_seconds=5\n",
    "):\n",
    "    repo = get_url(f\"https://api.github.com/repos/{repo_name}\")\n",
    "    issues = get_open_issues(repo_name, repo[\"open_issues_count\"])\n",
    "    issues_per_user = len(issues) / len(set([i[\"user\"][\"id\"] for i in issues]))\n",
    "    logger = get_run_logger()\n",
    "    logger.info(f\"PrefectHQ/prefect repository statistics 🤓:\")\n",
    "    logger.info(f\"Stars 🌠 : {repo['stargazers_count']}\")\n",
    "    logger.info(f\"Forks 🍴 : {repo['forks_count']}\")\n",
    "    logger.info(f\"Average open issues per user 💌 : {issues_per_user:.2f}\")\n",
    "\n",
    "\n",
    "if __name__ == \"__main__\":\n",
    "    get_repo_info()\n"
   ]
  },
  {
   "attachments": {},
   "cell_type": "markdown",
   "metadata": {},
   "source": [
    "逐次実行を同時実行にするには、submitメソッドを使用する必要がある"
   ]
  },
  {
   "cell_type": "code",
   "execution_count": 16,
   "metadata": {},
   "outputs": [
    {
     "name": "stderr",
     "output_type": "stream",
     "text": [
      "/Users/kohta/workspace/prefect/venv/lib/python3.10/site-packages/prefect/tasks.py:298: UserWarning: A task named 'get_url' and defined at '/var/folders/q5/s5mcbmt95hd29sp3b9xmr2580000gn/T/ipykernel_56442/133405939.py:7' conflicts with another task. Consider specifying a unique `name` parameter in the task definition:\n",
      "\n",
      " `@task(name='my_unique_name', ...)`\n",
      "  warnings.warn(\n",
      "/Users/kohta/workspace/prefect/venv/lib/python3.10/site-packages/prefect/flows.py:244: UserWarning: A flow named 'get-repo-info' and defined at '/var/folders/q5/s5mcbmt95hd29sp3b9xmr2580000gn/T/ipykernel_56442/133405939.py:27' conflicts with another flow. Consider specifying a unique `name` parameter in the flow definition:\n",
      "\n",
      " `@flow(name='my_unique_name', ...)`\n",
      "  warnings.warn(\n"
     ]
    },
    {
     "data": {
      "text/html": [
       "<pre style=\"white-space:pre;overflow-x:auto;line-height:normal;font-family:Menlo,'DejaVu Sans Mono',consolas,'Courier New',monospace\">13:57:51.702 | <span style=\"color: #008080; text-decoration-color: #008080\">INFO</span>    | prefect.engine - Created flow run<span style=\"color: #800080; text-decoration-color: #800080\"> 'affable-nyala'</span> for flow<span style=\"color: #800080; text-decoration-color: #800080; font-weight: bold\"> 'get-repo-info'</span>\n",
       "</pre>\n"
      ],
      "text/plain": [
       "13:57:51.702 | \u001b[36mINFO\u001b[0m    | prefect.engine - Created flow run\u001b[35m 'affable-nyala'\u001b[0m for flow\u001b[1;35m 'get-repo-info'\u001b[0m\n"
      ]
     },
     "metadata": {},
     "output_type": "display_data"
    },
    {
     "data": {
      "text/html": [
       "<pre style=\"white-space:pre;overflow-x:auto;line-height:normal;font-family:Menlo,'DejaVu Sans Mono',consolas,'Courier New',monospace\">13:57:51.771 | <span style=\"color: #008080; text-decoration-color: #008080\">INFO</span>    | Flow run<span style=\"color: #800080; text-decoration-color: #800080\"> 'affable-nyala'</span> - Created task run 'get_url-0' for task 'get_url'\n",
       "</pre>\n"
      ],
      "text/plain": [
       "13:57:51.771 | \u001b[36mINFO\u001b[0m    | Flow run\u001b[35m 'affable-nyala'\u001b[0m - Created task run 'get_url-0' for task 'get_url'\n"
      ]
     },
     "metadata": {},
     "output_type": "display_data"
    },
    {
     "data": {
      "text/html": [
       "<pre style=\"white-space:pre;overflow-x:auto;line-height:normal;font-family:Menlo,'DejaVu Sans Mono',consolas,'Courier New',monospace\">13:57:51.772 | <span style=\"color: #008080; text-decoration-color: #008080\">INFO</span>    | Flow run<span style=\"color: #800080; text-decoration-color: #800080\"> 'affable-nyala'</span> - Executing 'get_url-0' immediately...\n",
       "</pre>\n"
      ],
      "text/plain": [
       "13:57:51.772 | \u001b[36mINFO\u001b[0m    | Flow run\u001b[35m 'affable-nyala'\u001b[0m - Executing 'get_url-0' immediately...\n"
      ]
     },
     "metadata": {},
     "output_type": "display_data"
    },
    {
     "data": {
      "text/html": [
       "<pre style=\"white-space:pre;overflow-x:auto;line-height:normal;font-family:Menlo,'DejaVu Sans Mono',consolas,'Courier New',monospace\">13:57:51.800 | <span style=\"color: #008080; text-decoration-color: #008080\">INFO</span>    | Task run 'get_url-0' - Finished in state Cached(type=COMPLETED)\n",
       "</pre>\n"
      ],
      "text/plain": [
       "13:57:51.800 | \u001b[36mINFO\u001b[0m    | Task run 'get_url-0' - Finished in state Cached(type=COMPLETED)\n"
      ]
     },
     "metadata": {},
     "output_type": "display_data"
    },
    {
     "data": {
      "text/html": [
       "<pre style=\"white-space:pre;overflow-x:auto;line-height:normal;font-family:Menlo,'DejaVu Sans Mono',consolas,'Courier New',monospace\">13:57:51.860 | <span style=\"color: #008080; text-decoration-color: #008080\">INFO</span>    | Flow run<span style=\"color: #800080; text-decoration-color: #800080\"> 'affable-nyala'</span> - Created task run 'get_url-2' for task 'get_url'\n",
       "</pre>\n"
      ],
      "text/plain": [
       "13:57:51.860 | \u001b[36mINFO\u001b[0m    | Flow run\u001b[35m 'affable-nyala'\u001b[0m - Created task run 'get_url-2' for task 'get_url'\n"
      ]
     },
     "metadata": {},
     "output_type": "display_data"
    },
    {
     "data": {
      "text/html": [
       "<pre style=\"white-space:pre;overflow-x:auto;line-height:normal;font-family:Menlo,'DejaVu Sans Mono',consolas,'Courier New',monospace\">13:57:51.860 | <span style=\"color: #008080; text-decoration-color: #008080\">INFO</span>    | Flow run<span style=\"color: #800080; text-decoration-color: #800080\"> 'affable-nyala'</span> - Submitted task run 'get_url-2' for execution.\n",
       "</pre>\n"
      ],
      "text/plain": [
       "13:57:51.860 | \u001b[36mINFO\u001b[0m    | Flow run\u001b[35m 'affable-nyala'\u001b[0m - Submitted task run 'get_url-2' for execution.\n"
      ]
     },
     "metadata": {},
     "output_type": "display_data"
    },
    {
     "data": {
      "text/html": [
       "<pre style=\"white-space:pre;overflow-x:auto;line-height:normal;font-family:Menlo,'DejaVu Sans Mono',consolas,'Courier New',monospace\">13:57:51.868 | <span style=\"color: #008080; text-decoration-color: #008080\">INFO</span>    | Flow run<span style=\"color: #800080; text-decoration-color: #800080\"> 'affable-nyala'</span> - Created task run 'get_url-5' for task 'get_url'\n",
       "</pre>\n"
      ],
      "text/plain": [
       "13:57:51.868 | \u001b[36mINFO\u001b[0m    | Flow run\u001b[35m 'affable-nyala'\u001b[0m - Created task run 'get_url-5' for task 'get_url'\n"
      ]
     },
     "metadata": {},
     "output_type": "display_data"
    },
    {
     "data": {
      "text/html": [
       "<pre style=\"white-space:pre;overflow-x:auto;line-height:normal;font-family:Menlo,'DejaVu Sans Mono',consolas,'Courier New',monospace\">13:57:51.869 | <span style=\"color: #008080; text-decoration-color: #008080\">INFO</span>    | Flow run<span style=\"color: #800080; text-decoration-color: #800080\"> 'affable-nyala'</span> - Submitted task run 'get_url-5' for execution.\n",
       "</pre>\n"
      ],
      "text/plain": [
       "13:57:51.869 | \u001b[36mINFO\u001b[0m    | Flow run\u001b[35m 'affable-nyala'\u001b[0m - Submitted task run 'get_url-5' for execution.\n"
      ]
     },
     "metadata": {},
     "output_type": "display_data"
    },
    {
     "data": {
      "text/html": [
       "<pre style=\"white-space:pre;overflow-x:auto;line-height:normal;font-family:Menlo,'DejaVu Sans Mono',consolas,'Courier New',monospace\">13:57:51.886 | <span style=\"color: #008080; text-decoration-color: #008080\">INFO</span>    | Flow run<span style=\"color: #800080; text-decoration-color: #800080\"> 'affable-nyala'</span> - Created task run 'get_url-6' for task 'get_url'\n",
       "</pre>\n"
      ],
      "text/plain": [
       "13:57:51.886 | \u001b[36mINFO\u001b[0m    | Flow run\u001b[35m 'affable-nyala'\u001b[0m - Created task run 'get_url-6' for task 'get_url'\n"
      ]
     },
     "metadata": {},
     "output_type": "display_data"
    },
    {
     "data": {
      "text/html": [
       "<pre style=\"white-space:pre;overflow-x:auto;line-height:normal;font-family:Menlo,'DejaVu Sans Mono',consolas,'Courier New',monospace\">13:57:51.887 | <span style=\"color: #008080; text-decoration-color: #008080\">INFO</span>    | Flow run<span style=\"color: #800080; text-decoration-color: #800080\"> 'affable-nyala'</span> - Submitted task run 'get_url-6' for execution.\n",
       "</pre>\n"
      ],
      "text/plain": [
       "13:57:51.887 | \u001b[36mINFO\u001b[0m    | Flow run\u001b[35m 'affable-nyala'\u001b[0m - Submitted task run 'get_url-6' for execution.\n"
      ]
     },
     "metadata": {},
     "output_type": "display_data"
    },
    {
     "data": {
      "text/html": [
       "<pre style=\"white-space:pre;overflow-x:auto;line-height:normal;font-family:Menlo,'DejaVu Sans Mono',consolas,'Courier New',monospace\">13:57:51.906 | <span style=\"color: #008080; text-decoration-color: #008080\">INFO</span>    | Flow run<span style=\"color: #800080; text-decoration-color: #800080\"> 'affable-nyala'</span> - Created task run 'get_url-1' for task 'get_url'\n",
       "</pre>\n"
      ],
      "text/plain": [
       "13:57:51.906 | \u001b[36mINFO\u001b[0m    | Flow run\u001b[35m 'affable-nyala'\u001b[0m - Created task run 'get_url-1' for task 'get_url'\n"
      ]
     },
     "metadata": {},
     "output_type": "display_data"
    },
    {
     "data": {
      "text/html": [
       "<pre style=\"white-space:pre;overflow-x:auto;line-height:normal;font-family:Menlo,'DejaVu Sans Mono',consolas,'Courier New',monospace\">13:57:51.910 | <span style=\"color: #008080; text-decoration-color: #008080\">INFO</span>    | Flow run<span style=\"color: #800080; text-decoration-color: #800080\"> 'affable-nyala'</span> - Submitted task run 'get_url-1' for execution.\n",
       "</pre>\n"
      ],
      "text/plain": [
       "13:57:51.910 | \u001b[36mINFO\u001b[0m    | Flow run\u001b[35m 'affable-nyala'\u001b[0m - Submitted task run 'get_url-1' for execution.\n"
      ]
     },
     "metadata": {},
     "output_type": "display_data"
    },
    {
     "data": {
      "text/html": [
       "<pre style=\"white-space:pre;overflow-x:auto;line-height:normal;font-family:Menlo,'DejaVu Sans Mono',consolas,'Courier New',monospace\">13:57:51.965 | <span style=\"color: #008080; text-decoration-color: #008080\">INFO</span>    | Task run 'get_url-2' - Finished in state Cached(type=COMPLETED)\n",
       "</pre>\n"
      ],
      "text/plain": [
       "13:57:51.965 | \u001b[36mINFO\u001b[0m    | Task run 'get_url-2' - Finished in state Cached(type=COMPLETED)\n"
      ]
     },
     "metadata": {},
     "output_type": "display_data"
    },
    {
     "data": {
      "text/html": [
       "<pre style=\"white-space:pre;overflow-x:auto;line-height:normal;font-family:Menlo,'DejaVu Sans Mono',consolas,'Courier New',monospace\">13:57:51.976 | <span style=\"color: #008080; text-decoration-color: #008080\">INFO</span>    | Task run 'get_url-6' - Finished in state Cached(type=COMPLETED)\n",
       "</pre>\n"
      ],
      "text/plain": [
       "13:57:51.976 | \u001b[36mINFO\u001b[0m    | Task run 'get_url-6' - Finished in state Cached(type=COMPLETED)\n"
      ]
     },
     "metadata": {},
     "output_type": "display_data"
    },
    {
     "data": {
      "text/html": [
       "<pre style=\"white-space:pre;overflow-x:auto;line-height:normal;font-family:Menlo,'DejaVu Sans Mono',consolas,'Courier New',monospace\">13:57:51.990 | <span style=\"color: #008080; text-decoration-color: #008080\">INFO</span>    | Task run 'get_url-5' - Finished in state Cached(type=COMPLETED)\n",
       "</pre>\n"
      ],
      "text/plain": [
       "13:57:51.990 | \u001b[36mINFO\u001b[0m    | Task run 'get_url-5' - Finished in state Cached(type=COMPLETED)\n"
      ]
     },
     "metadata": {},
     "output_type": "display_data"
    },
    {
     "data": {
      "text/html": [
       "<pre style=\"white-space:pre;overflow-x:auto;line-height:normal;font-family:Menlo,'DejaVu Sans Mono',consolas,'Courier New',monospace\">13:57:52.003 | <span style=\"color: #008080; text-decoration-color: #008080\">INFO</span>    | Task run 'get_url-1' - Finished in state Cached(type=COMPLETED)\n",
       "</pre>\n"
      ],
      "text/plain": [
       "13:57:52.003 | \u001b[36mINFO\u001b[0m    | Task run 'get_url-1' - Finished in state Cached(type=COMPLETED)\n"
      ]
     },
     "metadata": {},
     "output_type": "display_data"
    },
    {
     "data": {
      "text/html": [
       "<pre style=\"white-space:pre;overflow-x:auto;line-height:normal;font-family:Menlo,'DejaVu Sans Mono',consolas,'Courier New',monospace\">13:57:52.013 | <span style=\"color: #008080; text-decoration-color: #008080\">INFO</span>    | Flow run<span style=\"color: #800080; text-decoration-color: #800080\"> 'affable-nyala'</span> - Created task run 'get_url-4' for task 'get_url'\n",
       "</pre>\n"
      ],
      "text/plain": [
       "13:57:52.013 | \u001b[36mINFO\u001b[0m    | Flow run\u001b[35m 'affable-nyala'\u001b[0m - Created task run 'get_url-4' for task 'get_url'\n"
      ]
     },
     "metadata": {},
     "output_type": "display_data"
    },
    {
     "data": {
      "text/html": [
       "<pre style=\"white-space:pre;overflow-x:auto;line-height:normal;font-family:Menlo,'DejaVu Sans Mono',consolas,'Courier New',monospace\">13:57:52.014 | <span style=\"color: #008080; text-decoration-color: #008080\">INFO</span>    | Flow run<span style=\"color: #800080; text-decoration-color: #800080\"> 'affable-nyala'</span> - Submitted task run 'get_url-4' for execution.\n",
       "</pre>\n"
      ],
      "text/plain": [
       "13:57:52.014 | \u001b[36mINFO\u001b[0m    | Flow run\u001b[35m 'affable-nyala'\u001b[0m - Submitted task run 'get_url-4' for execution.\n"
      ]
     },
     "metadata": {},
     "output_type": "display_data"
    },
    {
     "data": {
      "text/html": [
       "<pre style=\"white-space:pre;overflow-x:auto;line-height:normal;font-family:Menlo,'DejaVu Sans Mono',consolas,'Courier New',monospace\">13:57:52.065 | <span style=\"color: #008080; text-decoration-color: #008080\">INFO</span>    | Task run 'get_url-4' - Finished in state Cached(type=COMPLETED)\n",
       "</pre>\n"
      ],
      "text/plain": [
       "13:57:52.065 | \u001b[36mINFO\u001b[0m    | Task run 'get_url-4' - Finished in state Cached(type=COMPLETED)\n"
      ]
     },
     "metadata": {},
     "output_type": "display_data"
    },
    {
     "data": {
      "text/html": [
       "<pre style=\"white-space:pre;overflow-x:auto;line-height:normal;font-family:Menlo,'DejaVu Sans Mono',consolas,'Courier New',monospace\">13:57:52.113 | <span style=\"color: #008080; text-decoration-color: #008080\">INFO</span>    | Flow run<span style=\"color: #800080; text-decoration-color: #800080\"> 'affable-nyala'</span> - Created task run 'get_url-3' for task 'get_url'\n",
       "</pre>\n"
      ],
      "text/plain": [
       "13:57:52.113 | \u001b[36mINFO\u001b[0m    | Flow run\u001b[35m 'affable-nyala'\u001b[0m - Created task run 'get_url-3' for task 'get_url'\n"
      ]
     },
     "metadata": {},
     "output_type": "display_data"
    },
    {
     "data": {
      "text/html": [
       "<pre style=\"white-space:pre;overflow-x:auto;line-height:normal;font-family:Menlo,'DejaVu Sans Mono',consolas,'Courier New',monospace\">13:57:52.114 | <span style=\"color: #008080; text-decoration-color: #008080\">INFO</span>    | Flow run<span style=\"color: #800080; text-decoration-color: #800080\"> 'affable-nyala'</span> - Submitted task run 'get_url-3' for execution.\n",
       "</pre>\n"
      ],
      "text/plain": [
       "13:57:52.114 | \u001b[36mINFO\u001b[0m    | Flow run\u001b[35m 'affable-nyala'\u001b[0m - Submitted task run 'get_url-3' for execution.\n"
      ]
     },
     "metadata": {},
     "output_type": "display_data"
    },
    {
     "data": {
      "text/html": [
       "<pre style=\"white-space:pre;overflow-x:auto;line-height:normal;font-family:Menlo,'DejaVu Sans Mono',consolas,'Courier New',monospace\">13:57:52.140 | <span style=\"color: #008080; text-decoration-color: #008080\">INFO</span>    | Task run 'get_url-3' - Finished in state Cached(type=COMPLETED)\n",
       "</pre>\n"
      ],
      "text/plain": [
       "13:57:52.140 | \u001b[36mINFO\u001b[0m    | Task run 'get_url-3' - Finished in state Cached(type=COMPLETED)\n"
      ]
     },
     "metadata": {},
     "output_type": "display_data"
    },
    {
     "data": {
      "text/html": [
       "<pre style=\"white-space:pre;overflow-x:auto;line-height:normal;font-family:Menlo,'DejaVu Sans Mono',consolas,'Courier New',monospace\">13:57:52.220 | <span style=\"color: #008080; text-decoration-color: #008080\">INFO</span>    | Flow run<span style=\"color: #800080; text-decoration-color: #800080\"> 'affable-nyala'</span> - PrefectHQ/prefect repository statistics 🤓:\n",
       "</pre>\n"
      ],
      "text/plain": [
       "13:57:52.220 | \u001b[36mINFO\u001b[0m    | Flow run\u001b[35m 'affable-nyala'\u001b[0m - PrefectHQ/prefect repository statistics 🤓:\n"
      ]
     },
     "metadata": {},
     "output_type": "display_data"
    },
    {
     "data": {
      "text/html": [
       "<pre style=\"white-space:pre;overflow-x:auto;line-height:normal;font-family:Menlo,'DejaVu Sans Mono',consolas,'Courier New',monospace\">13:57:52.221 | <span style=\"color: #008080; text-decoration-color: #008080\">INFO</span>    | Flow run<span style=\"color: #800080; text-decoration-color: #800080\"> 'affable-nyala'</span> - Stars 🌠 : 12246\n",
       "</pre>\n"
      ],
      "text/plain": [
       "13:57:52.221 | \u001b[36mINFO\u001b[0m    | Flow run\u001b[35m 'affable-nyala'\u001b[0m - Stars 🌠 : 12246\n"
      ]
     },
     "metadata": {},
     "output_type": "display_data"
    },
    {
     "data": {
      "text/html": [
       "<pre style=\"white-space:pre;overflow-x:auto;line-height:normal;font-family:Menlo,'DejaVu Sans Mono',consolas,'Courier New',monospace\">13:57:52.221 | <span style=\"color: #008080; text-decoration-color: #008080\">INFO</span>    | Flow run<span style=\"color: #800080; text-decoration-color: #800080\"> 'affable-nyala'</span> - Forks 🍴 : 1270\n",
       "</pre>\n"
      ],
      "text/plain": [
       "13:57:52.221 | \u001b[36mINFO\u001b[0m    | Flow run\u001b[35m 'affable-nyala'\u001b[0m - Forks 🍴 : 1270\n"
      ]
     },
     "metadata": {},
     "output_type": "display_data"
    },
    {
     "data": {
      "text/html": [
       "<pre style=\"white-space:pre;overflow-x:auto;line-height:normal;font-family:Menlo,'DejaVu Sans Mono',consolas,'Courier New',monospace\">13:57:52.222 | <span style=\"color: #008080; text-decoration-color: #008080\">INFO</span>    | Flow run<span style=\"color: #800080; text-decoration-color: #800080\"> 'affable-nyala'</span> - Average open issues per user 💌 : 2.36\n",
       "</pre>\n"
      ],
      "text/plain": [
       "13:57:52.222 | \u001b[36mINFO\u001b[0m    | Flow run\u001b[35m 'affable-nyala'\u001b[0m - Average open issues per user 💌 : 2.36\n"
      ]
     },
     "metadata": {},
     "output_type": "display_data"
    },
    {
     "data": {
      "text/html": [
       "<pre style=\"white-space:pre;overflow-x:auto;line-height:normal;font-family:Menlo,'DejaVu Sans Mono',consolas,'Courier New',monospace\">13:57:52.240 | <span style=\"color: #008080; text-decoration-color: #008080\">INFO</span>    | Flow run<span style=\"color: #800080; text-decoration-color: #800080\"> 'affable-nyala'</span> - Finished in state <span style=\"color: #008000; text-decoration-color: #008000\">Completed</span>('All states completed.')\n",
       "</pre>\n"
      ],
      "text/plain": [
       "13:57:52.240 | \u001b[36mINFO\u001b[0m    | Flow run\u001b[35m 'affable-nyala'\u001b[0m - Finished in state \u001b[32mCompleted\u001b[0m('All states completed.')\n"
      ]
     },
     "metadata": {},
     "output_type": "display_data"
    }
   ],
   "source": [
    "import httpx\n",
    "from datetime import timedelta\n",
    "from prefect import flow, task, get_run_logger\n",
    "from prefect.tasks import task_input_hash\n",
    "\n",
    "\n",
    "@task(cache_key_fn=task_input_hash, cache_expiration=timedelta(minutes=1))\n",
    "def get_url(url: str, params: dict = None):\n",
    "    response = httpx.get(url, params=params)\n",
    "    response.raise_for_status()\n",
    "    return response.json()\n",
    "\n",
    "\n",
    "def get_open_issues(repo_name: str, open_issues_count: int, per_page: int = 100):\n",
    "    issues = []\n",
    "    pages = range(1, -(open_issues_count // -per_page) + 1)\n",
    "    for page in pages:\n",
    "        issues.append(\n",
    "            get_url.submit(\n",
    "                f\"https://api.github.com/repos/{repo_name}/issues\",\n",
    "                params={\"page\": page, \"per_page\": per_page, \"state\": \"open\"},\n",
    "            )\n",
    "        )\n",
    "    return [i for p in issues for i in p.result()]\n",
    "\n",
    "\n",
    "@flow\n",
    "def get_repo_info(\n",
    "    repo_name: str = \"PrefectHQ/prefect\", retries=3, retry_delay_seconds=5\n",
    "):\n",
    "    repo = get_url(f\"https://api.github.com/repos/{repo_name}\")\n",
    "    issues = get_open_issues(repo_name, repo[\"open_issues_count\"])\n",
    "    issues_per_user = len(issues) / len(set([i[\"user\"][\"id\"] for i in issues]))\n",
    "    logger = get_run_logger()\n",
    "    logger.info(f\"PrefectHQ/prefect repository statistics 🤓:\")\n",
    "    logger.info(f\"Stars 🌠 : {repo['stargazers_count']}\")\n",
    "    logger.info(f\"Forks 🍴 : {repo['forks_count']}\")\n",
    "    logger.info(f\"Average open issues per user 💌 : {issues_per_user:.2f}\")\n",
    "\n",
    "\n",
    "if __name__ == \"__main__\":\n",
    "    get_repo_info()\n"
   ]
  },
  {
   "attachments": {},
   "cell_type": "markdown",
   "metadata": {},
   "source": [
    "## 2.4. サブフロー"
   ]
  },
  {
   "cell_type": "code",
   "execution_count": 17,
   "metadata": {},
   "outputs": [
    {
     "name": "stderr",
     "output_type": "stream",
     "text": [
      "/Users/kohta/workspace/prefect/venv/lib/python3.10/site-packages/prefect/tasks.py:298: UserWarning: A task named 'get_url' and defined at '/var/folders/q5/s5mcbmt95hd29sp3b9xmr2580000gn/T/ipykernel_56442/1181491467.py:7' conflicts with another task. Consider specifying a unique `name` parameter in the task definition:\n",
      "\n",
      " `@task(name='my_unique_name', ...)`\n",
      "  warnings.warn(\n",
      "/Users/kohta/workspace/prefect/venv/lib/python3.10/site-packages/prefect/flows.py:244: UserWarning: A flow named 'get-repo-info' and defined at '/var/folders/q5/s5mcbmt95hd29sp3b9xmr2580000gn/T/ipykernel_56442/1181491467.py:27' conflicts with another flow. Consider specifying a unique `name` parameter in the flow definition:\n",
      "\n",
      " `@flow(name='my_unique_name', ...)`\n",
      "  warnings.warn(\n"
     ]
    },
    {
     "data": {
      "text/html": [
       "<pre style=\"white-space:pre;overflow-x:auto;line-height:normal;font-family:Menlo,'DejaVu Sans Mono',consolas,'Courier New',monospace\">14:02:48.597 | <span style=\"color: #008080; text-decoration-color: #008080\">INFO</span>    | prefect.engine - Created flow run<span style=\"color: #800080; text-decoration-color: #800080\"> 'greedy-teal'</span> for flow<span style=\"color: #800080; text-decoration-color: #800080; font-weight: bold\"> 'get-repo-info'</span>\n",
       "</pre>\n"
      ],
      "text/plain": [
       "14:02:48.597 | \u001b[36mINFO\u001b[0m    | prefect.engine - Created flow run\u001b[35m 'greedy-teal'\u001b[0m for flow\u001b[1;35m 'get-repo-info'\u001b[0m\n"
      ]
     },
     "metadata": {},
     "output_type": "display_data"
    },
    {
     "data": {
      "text/html": [
       "<pre style=\"white-space:pre;overflow-x:auto;line-height:normal;font-family:Menlo,'DejaVu Sans Mono',consolas,'Courier New',monospace\">14:02:48.667 | <span style=\"color: #008080; text-decoration-color: #008080\">INFO</span>    | Flow run<span style=\"color: #800080; text-decoration-color: #800080\"> 'greedy-teal'</span> - Created task run 'get_url-0' for task 'get_url'\n",
       "</pre>\n"
      ],
      "text/plain": [
       "14:02:48.667 | \u001b[36mINFO\u001b[0m    | Flow run\u001b[35m 'greedy-teal'\u001b[0m - Created task run 'get_url-0' for task 'get_url'\n"
      ]
     },
     "metadata": {},
     "output_type": "display_data"
    },
    {
     "data": {
      "text/html": [
       "<pre style=\"white-space:pre;overflow-x:auto;line-height:normal;font-family:Menlo,'DejaVu Sans Mono',consolas,'Courier New',monospace\">14:02:48.668 | <span style=\"color: #008080; text-decoration-color: #008080\">INFO</span>    | Flow run<span style=\"color: #800080; text-decoration-color: #800080\"> 'greedy-teal'</span> - Executing 'get_url-0' immediately...\n",
       "</pre>\n"
      ],
      "text/plain": [
       "14:02:48.668 | \u001b[36mINFO\u001b[0m    | Flow run\u001b[35m 'greedy-teal'\u001b[0m - Executing 'get_url-0' immediately...\n"
      ]
     },
     "metadata": {},
     "output_type": "display_data"
    },
    {
     "data": {
      "text/html": [
       "<pre style=\"white-space:pre;overflow-x:auto;line-height:normal;font-family:Menlo,'DejaVu Sans Mono',consolas,'Courier New',monospace\">14:02:48.697 | <span style=\"color: #008080; text-decoration-color: #008080\">INFO</span>    | Task run 'get_url-0' - Finished in state Cached(type=COMPLETED)\n",
       "</pre>\n"
      ],
      "text/plain": [
       "14:02:48.697 | \u001b[36mINFO\u001b[0m    | Task run 'get_url-0' - Finished in state Cached(type=COMPLETED)\n"
      ]
     },
     "metadata": {},
     "output_type": "display_data"
    },
    {
     "data": {
      "text/html": [
       "<pre style=\"white-space:pre;overflow-x:auto;line-height:normal;font-family:Menlo,'DejaVu Sans Mono',consolas,'Courier New',monospace\">14:02:48.758 | <span style=\"color: #008080; text-decoration-color: #008080\">INFO</span>    | Flow run<span style=\"color: #800080; text-decoration-color: #800080\"> 'greedy-teal'</span> - Created subflow run<span style=\"color: #800080; text-decoration-color: #800080\"> 'imperial-panda'</span> for flow<span style=\"color: #800080; text-decoration-color: #800080; font-weight: bold\"> 'get-open-issues'</span>\n",
       "</pre>\n"
      ],
      "text/plain": [
       "14:02:48.758 | \u001b[36mINFO\u001b[0m    | Flow run\u001b[35m 'greedy-teal'\u001b[0m - Created subflow run\u001b[35m 'imperial-panda'\u001b[0m for flow\u001b[1;35m 'get-open-issues'\u001b[0m\n"
      ]
     },
     "metadata": {},
     "output_type": "display_data"
    },
    {
     "data": {
      "text/html": [
       "<pre style=\"white-space:pre;overflow-x:auto;line-height:normal;font-family:Menlo,'DejaVu Sans Mono',consolas,'Courier New',monospace\">14:02:48.848 | <span style=\"color: #008080; text-decoration-color: #008080\">INFO</span>    | Flow run<span style=\"color: #800080; text-decoration-color: #800080\"> 'imperial-panda'</span> - Created task run 'get_url-0' for task 'get_url'\n",
       "</pre>\n"
      ],
      "text/plain": [
       "14:02:48.848 | \u001b[36mINFO\u001b[0m    | Flow run\u001b[35m 'imperial-panda'\u001b[0m - Created task run 'get_url-0' for task 'get_url'\n"
      ]
     },
     "metadata": {},
     "output_type": "display_data"
    },
    {
     "data": {
      "text/html": [
       "<pre style=\"white-space:pre;overflow-x:auto;line-height:normal;font-family:Menlo,'DejaVu Sans Mono',consolas,'Courier New',monospace\">14:02:48.849 | <span style=\"color: #008080; text-decoration-color: #008080\">INFO</span>    | Flow run<span style=\"color: #800080; text-decoration-color: #800080\"> 'imperial-panda'</span> - Submitted task run 'get_url-0' for execution.\n",
       "</pre>\n"
      ],
      "text/plain": [
       "14:02:48.849 | \u001b[36mINFO\u001b[0m    | Flow run\u001b[35m 'imperial-panda'\u001b[0m - Submitted task run 'get_url-0' for execution.\n"
      ]
     },
     "metadata": {},
     "output_type": "display_data"
    },
    {
     "data": {
      "text/html": [
       "<pre style=\"white-space:pre;overflow-x:auto;line-height:normal;font-family:Menlo,'DejaVu Sans Mono',consolas,'Courier New',monospace\">14:02:48.860 | <span style=\"color: #008080; text-decoration-color: #008080\">INFO</span>    | Flow run<span style=\"color: #800080; text-decoration-color: #800080\"> 'imperial-panda'</span> - Created task run 'get_url-2' for task 'get_url'\n",
       "</pre>\n"
      ],
      "text/plain": [
       "14:02:48.860 | \u001b[36mINFO\u001b[0m    | Flow run\u001b[35m 'imperial-panda'\u001b[0m - Created task run 'get_url-2' for task 'get_url'\n"
      ]
     },
     "metadata": {},
     "output_type": "display_data"
    },
    {
     "data": {
      "text/html": [
       "<pre style=\"white-space:pre;overflow-x:auto;line-height:normal;font-family:Menlo,'DejaVu Sans Mono',consolas,'Courier New',monospace\">14:02:48.861 | <span style=\"color: #008080; text-decoration-color: #008080\">INFO</span>    | Flow run<span style=\"color: #800080; text-decoration-color: #800080\"> 'imperial-panda'</span> - Submitted task run 'get_url-2' for execution.\n",
       "</pre>\n"
      ],
      "text/plain": [
       "14:02:48.861 | \u001b[36mINFO\u001b[0m    | Flow run\u001b[35m 'imperial-panda'\u001b[0m - Submitted task run 'get_url-2' for execution.\n"
      ]
     },
     "metadata": {},
     "output_type": "display_data"
    },
    {
     "data": {
      "text/html": [
       "<pre style=\"white-space:pre;overflow-x:auto;line-height:normal;font-family:Menlo,'DejaVu Sans Mono',consolas,'Courier New',monospace\">14:02:48.876 | <span style=\"color: #008080; text-decoration-color: #008080\">INFO</span>    | Flow run<span style=\"color: #800080; text-decoration-color: #800080\"> 'imperial-panda'</span> - Created task run 'get_url-3' for task 'get_url'\n",
       "</pre>\n"
      ],
      "text/plain": [
       "14:02:48.876 | \u001b[36mINFO\u001b[0m    | Flow run\u001b[35m 'imperial-panda'\u001b[0m - Created task run 'get_url-3' for task 'get_url'\n"
      ]
     },
     "metadata": {},
     "output_type": "display_data"
    },
    {
     "data": {
      "text/html": [
       "<pre style=\"white-space:pre;overflow-x:auto;line-height:normal;font-family:Menlo,'DejaVu Sans Mono',consolas,'Courier New',monospace\">14:02:48.877 | <span style=\"color: #008080; text-decoration-color: #008080\">INFO</span>    | Flow run<span style=\"color: #800080; text-decoration-color: #800080\"> 'imperial-panda'</span> - Submitted task run 'get_url-3' for execution.\n",
       "</pre>\n"
      ],
      "text/plain": [
       "14:02:48.877 | \u001b[36mINFO\u001b[0m    | Flow run\u001b[35m 'imperial-panda'\u001b[0m - Submitted task run 'get_url-3' for execution.\n"
      ]
     },
     "metadata": {},
     "output_type": "display_data"
    },
    {
     "data": {
      "text/html": [
       "<pre style=\"white-space:pre;overflow-x:auto;line-height:normal;font-family:Menlo,'DejaVu Sans Mono',consolas,'Courier New',monospace\">14:02:48.894 | <span style=\"color: #008080; text-decoration-color: #008080\">INFO</span>    | Flow run<span style=\"color: #800080; text-decoration-color: #800080\"> 'imperial-panda'</span> - Created task run 'get_url-5' for task 'get_url'\n",
       "</pre>\n"
      ],
      "text/plain": [
       "14:02:48.894 | \u001b[36mINFO\u001b[0m    | Flow run\u001b[35m 'imperial-panda'\u001b[0m - Created task run 'get_url-5' for task 'get_url'\n"
      ]
     },
     "metadata": {},
     "output_type": "display_data"
    },
    {
     "data": {
      "text/html": [
       "<pre style=\"white-space:pre;overflow-x:auto;line-height:normal;font-family:Menlo,'DejaVu Sans Mono',consolas,'Courier New',monospace\">14:02:48.896 | <span style=\"color: #008080; text-decoration-color: #008080\">INFO</span>    | Flow run<span style=\"color: #800080; text-decoration-color: #800080\"> 'imperial-panda'</span> - Submitted task run 'get_url-5' for execution.\n",
       "</pre>\n"
      ],
      "text/plain": [
       "14:02:48.896 | \u001b[36mINFO\u001b[0m    | Flow run\u001b[35m 'imperial-panda'\u001b[0m - Submitted task run 'get_url-5' for execution.\n"
      ]
     },
     "metadata": {},
     "output_type": "display_data"
    },
    {
     "data": {
      "text/html": [
       "<pre style=\"white-space:pre;overflow-x:auto;line-height:normal;font-family:Menlo,'DejaVu Sans Mono',consolas,'Courier New',monospace\">14:02:48.910 | <span style=\"color: #008080; text-decoration-color: #008080\">INFO</span>    | Flow run<span style=\"color: #800080; text-decoration-color: #800080\"> 'imperial-panda'</span> - Created task run 'get_url-1' for task 'get_url'\n",
       "</pre>\n"
      ],
      "text/plain": [
       "14:02:48.910 | \u001b[36mINFO\u001b[0m    | Flow run\u001b[35m 'imperial-panda'\u001b[0m - Created task run 'get_url-1' for task 'get_url'\n"
      ]
     },
     "metadata": {},
     "output_type": "display_data"
    },
    {
     "data": {
      "text/html": [
       "<pre style=\"white-space:pre;overflow-x:auto;line-height:normal;font-family:Menlo,'DejaVu Sans Mono',consolas,'Courier New',monospace\">14:02:48.912 | <span style=\"color: #008080; text-decoration-color: #008080\">INFO</span>    | Flow run<span style=\"color: #800080; text-decoration-color: #800080\"> 'imperial-panda'</span> - Submitted task run 'get_url-1' for execution.\n",
       "</pre>\n"
      ],
      "text/plain": [
       "14:02:48.912 | \u001b[36mINFO\u001b[0m    | Flow run\u001b[35m 'imperial-panda'\u001b[0m - Submitted task run 'get_url-1' for execution.\n"
      ]
     },
     "metadata": {},
     "output_type": "display_data"
    },
    {
     "data": {
      "text/html": [
       "<pre style=\"white-space:pre;overflow-x:auto;line-height:normal;font-family:Menlo,'DejaVu Sans Mono',consolas,'Courier New',monospace\">14:02:48.941 | <span style=\"color: #008080; text-decoration-color: #008080\">INFO</span>    | Task run 'get_url-0' - Finished in state Cached(type=COMPLETED)\n",
       "</pre>\n"
      ],
      "text/plain": [
       "14:02:48.941 | \u001b[36mINFO\u001b[0m    | Task run 'get_url-0' - Finished in state Cached(type=COMPLETED)\n"
      ]
     },
     "metadata": {},
     "output_type": "display_data"
    },
    {
     "data": {
      "text/html": [
       "<pre style=\"white-space:pre;overflow-x:auto;line-height:normal;font-family:Menlo,'DejaVu Sans Mono',consolas,'Courier New',monospace\">14:02:48.960 | <span style=\"color: #008080; text-decoration-color: #008080\">INFO</span>    | Task run 'get_url-5' - Finished in state Cached(type=COMPLETED)\n",
       "</pre>\n"
      ],
      "text/plain": [
       "14:02:48.960 | \u001b[36mINFO\u001b[0m    | Task run 'get_url-5' - Finished in state Cached(type=COMPLETED)\n"
      ]
     },
     "metadata": {},
     "output_type": "display_data"
    },
    {
     "data": {
      "text/html": [
       "<pre style=\"white-space:pre;overflow-x:auto;line-height:normal;font-family:Menlo,'DejaVu Sans Mono',consolas,'Courier New',monospace\">14:02:48.985 | <span style=\"color: #008080; text-decoration-color: #008080\">INFO</span>    | Task run 'get_url-1' - Finished in state Cached(type=COMPLETED)\n",
       "</pre>\n"
      ],
      "text/plain": [
       "14:02:48.985 | \u001b[36mINFO\u001b[0m    | Task run 'get_url-1' - Finished in state Cached(type=COMPLETED)\n"
      ]
     },
     "metadata": {},
     "output_type": "display_data"
    },
    {
     "data": {
      "text/html": [
       "<pre style=\"white-space:pre;overflow-x:auto;line-height:normal;font-family:Menlo,'DejaVu Sans Mono',consolas,'Courier New',monospace\">14:02:49.011 | <span style=\"color: #008080; text-decoration-color: #008080\">INFO</span>    | Flow run<span style=\"color: #800080; text-decoration-color: #800080\"> 'imperial-panda'</span> - Created task run 'get_url-4' for task 'get_url'\n",
       "</pre>\n"
      ],
      "text/plain": [
       "14:02:49.011 | \u001b[36mINFO\u001b[0m    | Flow run\u001b[35m 'imperial-panda'\u001b[0m - Created task run 'get_url-4' for task 'get_url'\n"
      ]
     },
     "metadata": {},
     "output_type": "display_data"
    },
    {
     "data": {
      "text/html": [
       "<pre style=\"white-space:pre;overflow-x:auto;line-height:normal;font-family:Menlo,'DejaVu Sans Mono',consolas,'Courier New',monospace\">14:02:49.012 | <span style=\"color: #008080; text-decoration-color: #008080\">INFO</span>    | Flow run<span style=\"color: #800080; text-decoration-color: #800080\"> 'imperial-panda'</span> - Submitted task run 'get_url-4' for execution.\n",
       "</pre>\n"
      ],
      "text/plain": [
       "14:02:49.012 | \u001b[36mINFO\u001b[0m    | Flow run\u001b[35m 'imperial-panda'\u001b[0m - Submitted task run 'get_url-4' for execution.\n"
      ]
     },
     "metadata": {},
     "output_type": "display_data"
    },
    {
     "data": {
      "text/html": [
       "<pre style=\"white-space:pre;overflow-x:auto;line-height:normal;font-family:Menlo,'DejaVu Sans Mono',consolas,'Courier New',monospace\">14:02:49.037 | <span style=\"color: #008080; text-decoration-color: #008080\">INFO</span>    | Task run 'get_url-4' - Finished in state Cached(type=COMPLETED)\n",
       "</pre>\n"
      ],
      "text/plain": [
       "14:02:49.037 | \u001b[36mINFO\u001b[0m    | Task run 'get_url-4' - Finished in state Cached(type=COMPLETED)\n"
      ]
     },
     "metadata": {},
     "output_type": "display_data"
    },
    {
     "data": {
      "text/html": [
       "<pre style=\"white-space:pre;overflow-x:auto;line-height:normal;font-family:Menlo,'DejaVu Sans Mono',consolas,'Courier New',monospace\">14:02:49.068 | <span style=\"color: #008080; text-decoration-color: #008080\">INFO</span>    | Task run 'get_url-2' - Finished in state Cached(type=COMPLETED)\n",
       "</pre>\n"
      ],
      "text/plain": [
       "14:02:49.068 | \u001b[36mINFO\u001b[0m    | Task run 'get_url-2' - Finished in state Cached(type=COMPLETED)\n"
      ]
     },
     "metadata": {},
     "output_type": "display_data"
    },
    {
     "data": {
      "text/html": [
       "<pre style=\"white-space:pre;overflow-x:auto;line-height:normal;font-family:Menlo,'DejaVu Sans Mono',consolas,'Courier New',monospace\">14:02:49.127 | <span style=\"color: #008080; text-decoration-color: #008080\">INFO</span>    | Task run 'get_url-3' - Finished in state Cached(type=COMPLETED)\n",
       "</pre>\n"
      ],
      "text/plain": [
       "14:02:49.127 | \u001b[36mINFO\u001b[0m    | Task run 'get_url-3' - Finished in state Cached(type=COMPLETED)\n"
      ]
     },
     "metadata": {},
     "output_type": "display_data"
    },
    {
     "data": {
      "text/html": [
       "<pre style=\"white-space:pre;overflow-x:auto;line-height:normal;font-family:Menlo,'DejaVu Sans Mono',consolas,'Courier New',monospace\">14:02:49.492 | <span style=\"color: #008080; text-decoration-color: #008080\">INFO</span>    | Flow run<span style=\"color: #800080; text-decoration-color: #800080\"> 'imperial-panda'</span> - Finished in state <span style=\"color: #008000; text-decoration-color: #008000\">Completed</span>()\n",
       "</pre>\n"
      ],
      "text/plain": [
       "14:02:49.492 | \u001b[36mINFO\u001b[0m    | Flow run\u001b[35m 'imperial-panda'\u001b[0m - Finished in state \u001b[32mCompleted\u001b[0m()\n"
      ]
     },
     "metadata": {},
     "output_type": "display_data"
    },
    {
     "data": {
      "text/html": [
       "<pre style=\"white-space:pre;overflow-x:auto;line-height:normal;font-family:Menlo,'DejaVu Sans Mono',consolas,'Courier New',monospace\">14:02:49.493 | <span style=\"color: #008080; text-decoration-color: #008080\">INFO</span>    | Flow run<span style=\"color: #800080; text-decoration-color: #800080\"> 'greedy-teal'</span> - PrefectHQ/prefect repository statistics 🤓:\n",
       "</pre>\n"
      ],
      "text/plain": [
       "14:02:49.493 | \u001b[36mINFO\u001b[0m    | Flow run\u001b[35m 'greedy-teal'\u001b[0m - PrefectHQ/prefect repository statistics 🤓:\n"
      ]
     },
     "metadata": {},
     "output_type": "display_data"
    },
    {
     "data": {
      "text/html": [
       "<pre style=\"white-space:pre;overflow-x:auto;line-height:normal;font-family:Menlo,'DejaVu Sans Mono',consolas,'Courier New',monospace\">14:02:49.495 | <span style=\"color: #008080; text-decoration-color: #008080\">INFO</span>    | Flow run<span style=\"color: #800080; text-decoration-color: #800080\"> 'greedy-teal'</span> - Stars 🌠 : 12246\n",
       "</pre>\n"
      ],
      "text/plain": [
       "14:02:49.495 | \u001b[36mINFO\u001b[0m    | Flow run\u001b[35m 'greedy-teal'\u001b[0m - Stars 🌠 : 12246\n"
      ]
     },
     "metadata": {},
     "output_type": "display_data"
    },
    {
     "data": {
      "text/html": [
       "<pre style=\"white-space:pre;overflow-x:auto;line-height:normal;font-family:Menlo,'DejaVu Sans Mono',consolas,'Courier New',monospace\">14:02:49.496 | <span style=\"color: #008080; text-decoration-color: #008080\">INFO</span>    | Flow run<span style=\"color: #800080; text-decoration-color: #800080\"> 'greedy-teal'</span> - Forks 🍴 : 1270\n",
       "</pre>\n"
      ],
      "text/plain": [
       "14:02:49.496 | \u001b[36mINFO\u001b[0m    | Flow run\u001b[35m 'greedy-teal'\u001b[0m - Forks 🍴 : 1270\n"
      ]
     },
     "metadata": {},
     "output_type": "display_data"
    },
    {
     "data": {
      "text/html": [
       "<pre style=\"white-space:pre;overflow-x:auto;line-height:normal;font-family:Menlo,'DejaVu Sans Mono',consolas,'Courier New',monospace\">14:02:49.496 | <span style=\"color: #008080; text-decoration-color: #008080\">INFO</span>    | Flow run<span style=\"color: #800080; text-decoration-color: #800080\"> 'greedy-teal'</span> - Average open issues per user 💌 : 2.36\n",
       "</pre>\n"
      ],
      "text/plain": [
       "14:02:49.496 | \u001b[36mINFO\u001b[0m    | Flow run\u001b[35m 'greedy-teal'\u001b[0m - Average open issues per user 💌 : 2.36\n"
      ]
     },
     "metadata": {},
     "output_type": "display_data"
    },
    {
     "data": {
      "text/html": [
       "<pre style=\"white-space:pre;overflow-x:auto;line-height:normal;font-family:Menlo,'DejaVu Sans Mono',consolas,'Courier New',monospace\">14:02:49.513 | <span style=\"color: #008080; text-decoration-color: #008080\">INFO</span>    | Flow run<span style=\"color: #800080; text-decoration-color: #800080\"> 'greedy-teal'</span> - Finished in state <span style=\"color: #008000; text-decoration-color: #008000\">Completed</span>('All states completed.')\n",
       "</pre>\n"
      ],
      "text/plain": [
       "14:02:49.513 | \u001b[36mINFO\u001b[0m    | Flow run\u001b[35m 'greedy-teal'\u001b[0m - Finished in state \u001b[32mCompleted\u001b[0m('All states completed.')\n"
      ]
     },
     "metadata": {},
     "output_type": "display_data"
    }
   ],
   "source": [
    "import httpx\n",
    "from datetime import timedelta\n",
    "from prefect import flow, task, get_run_logger\n",
    "from prefect.tasks import task_input_hash\n",
    "\n",
    "\n",
    "@task(cache_key_fn=task_input_hash, cache_expiration=timedelta(minutes=1))\n",
    "def get_url(url: str, params: dict = None):\n",
    "    response = httpx.get(url, params=params)\n",
    "    response.raise_for_status()\n",
    "    return response.json()\n",
    "\n",
    "@flow\n",
    "def get_open_issues(repo_name: str, open_issues_count: int, per_page: int = 100):\n",
    "    issues = []\n",
    "    pages = range(1, -(open_issues_count // -per_page) + 1)\n",
    "    for page in pages:\n",
    "        issues.append(\n",
    "            get_url.submit(\n",
    "                f\"https://api.github.com/repos/{repo_name}/issues\",\n",
    "                params={\"page\": page, \"per_page\": per_page, \"state\": \"open\"},\n",
    "            )\n",
    "        )\n",
    "    return [i for p in issues for i in p.result()]\n",
    "\n",
    "\n",
    "@flow\n",
    "def get_repo_info(\n",
    "    repo_name: str = \"PrefectHQ/prefect\", retries=3, retry_delay_seconds=5\n",
    "):\n",
    "    repo = get_url(f\"https://api.github.com/repos/{repo_name}\")\n",
    "    issues = get_open_issues(repo_name, repo[\"open_issues_count\"])\n",
    "    issues_per_user = len(issues) / len(set([i[\"user\"][\"id\"] for i in issues]))\n",
    "    logger = get_run_logger()\n",
    "    logger.info(f\"PrefectHQ/prefect repository statistics 🤓:\")\n",
    "    logger.info(f\"Stars 🌠 : {repo['stargazers_count']}\")\n",
    "    logger.info(f\"Forks 🍴 : {repo['forks_count']}\")\n",
    "    logger.info(f\"Average open issues per user 💌 : {issues_per_user:.2f}\")\n",
    "\n",
    "\n",
    "if __name__ == \"__main__\":\n",
    "    get_repo_info()\n"
   ]
  },
  {
   "attachments": {},
   "cell_type": "markdown",
   "metadata": {},
   "source": [
    "# 3. Hello World"
   ]
  },
  {
   "cell_type": "code",
   "execution_count": null,
   "metadata": {},
   "outputs": [],
   "source": [
    "# ver1での書き方\n",
    "# 2系で実施しているので、実行エラー\n",
    "# from prefect import Flow, task\n",
    "\n",
    "# @task\n",
    "# def get_name():\n",
    "#     return \"world\"\n",
    "\n",
    "# @task\n",
    "# def hello(who):\n",
    "#     print(\"hello, {}!\".format(who))\n",
    "\n",
    "# with Flow(\"HelloWorld\") as flow:\n",
    "#     who = get_name()\n",
    "#     hello_world = hello(who)\n",
    "\n",
    "# flow.run()"
   ]
  },
  {
   "cell_type": "code",
   "execution_count": 2,
   "metadata": {},
   "outputs": [
    {
     "data": {
      "text/html": [
       "<pre style=\"white-space:pre;overflow-x:auto;line-height:normal;font-family:Menlo,'DejaVu Sans Mono',consolas,'Courier New',monospace\">12:57:08.794 | <span style=\"color: #008080; text-decoration-color: #008080\">INFO</span>    | prefect.engine - Created flow run<span style=\"color: #800080; text-decoration-color: #800080\"> 'mottled-scorpion'</span> for flow<span style=\"color: #800080; text-decoration-color: #800080; font-weight: bold\"> 'greeting-flow'</span>\n",
       "</pre>\n"
      ],
      "text/plain": [
       "12:57:08.794 | \u001b[36mINFO\u001b[0m    | prefect.engine - Created flow run\u001b[35m 'mottled-scorpion'\u001b[0m for flow\u001b[1;35m 'greeting-flow'\u001b[0m\n"
      ]
     },
     "metadata": {},
     "output_type": "display_data"
    },
    {
     "data": {
      "text/html": [
       "<pre style=\"white-space:pre;overflow-x:auto;line-height:normal;font-family:Menlo,'DejaVu Sans Mono',consolas,'Courier New',monospace\">12:57:08.863 | <span style=\"color: #008080; text-decoration-color: #008080\">INFO</span>    | Flow run<span style=\"color: #800080; text-decoration-color: #800080\"> 'mottled-scorpion'</span> - Created task run 'get_name-0' for task 'get_name'\n",
       "</pre>\n"
      ],
      "text/plain": [
       "12:57:08.863 | \u001b[36mINFO\u001b[0m    | Flow run\u001b[35m 'mottled-scorpion'\u001b[0m - Created task run 'get_name-0' for task 'get_name'\n"
      ]
     },
     "metadata": {},
     "output_type": "display_data"
    },
    {
     "data": {
      "text/html": [
       "<pre style=\"white-space:pre;overflow-x:auto;line-height:normal;font-family:Menlo,'DejaVu Sans Mono',consolas,'Courier New',monospace\">12:57:08.864 | <span style=\"color: #008080; text-decoration-color: #008080\">INFO</span>    | Flow run<span style=\"color: #800080; text-decoration-color: #800080\"> 'mottled-scorpion'</span> - Executing 'get_name-0' immediately...\n",
       "</pre>\n"
      ],
      "text/plain": [
       "12:57:08.864 | \u001b[36mINFO\u001b[0m    | Flow run\u001b[35m 'mottled-scorpion'\u001b[0m - Executing 'get_name-0' immediately...\n"
      ]
     },
     "metadata": {},
     "output_type": "display_data"
    },
    {
     "data": {
      "text/html": [
       "<pre style=\"white-space:pre;overflow-x:auto;line-height:normal;font-family:Menlo,'DejaVu Sans Mono',consolas,'Courier New',monospace\">12:57:08.913 | <span style=\"color: #008080; text-decoration-color: #008080\">INFO</span>    | Task run 'get_name-0' - Finished in state <span style=\"color: #008000; text-decoration-color: #008000\">Completed</span>()\n",
       "</pre>\n"
      ],
      "text/plain": [
       "12:57:08.913 | \u001b[36mINFO\u001b[0m    | Task run 'get_name-0' - Finished in state \u001b[32mCompleted\u001b[0m()\n"
      ]
     },
     "metadata": {},
     "output_type": "display_data"
    },
    {
     "data": {
      "text/html": [
       "<pre style=\"white-space:pre;overflow-x:auto;line-height:normal;font-family:Menlo,'DejaVu Sans Mono',consolas,'Courier New',monospace\">12:57:08.925 | <span style=\"color: #008080; text-decoration-color: #008080\">INFO</span>    | Flow run<span style=\"color: #800080; text-decoration-color: #800080\"> 'mottled-scorpion'</span> - Created task run 'hello-0' for task 'hello'\n",
       "</pre>\n"
      ],
      "text/plain": [
       "12:57:08.925 | \u001b[36mINFO\u001b[0m    | Flow run\u001b[35m 'mottled-scorpion'\u001b[0m - Created task run 'hello-0' for task 'hello'\n"
      ]
     },
     "metadata": {},
     "output_type": "display_data"
    },
    {
     "data": {
      "text/html": [
       "<pre style=\"white-space:pre;overflow-x:auto;line-height:normal;font-family:Menlo,'DejaVu Sans Mono',consolas,'Courier New',monospace\">12:57:08.926 | <span style=\"color: #008080; text-decoration-color: #008080\">INFO</span>    | Flow run<span style=\"color: #800080; text-decoration-color: #800080\"> 'mottled-scorpion'</span> - Executing 'hello-0' immediately...\n",
       "</pre>\n"
      ],
      "text/plain": [
       "12:57:08.926 | \u001b[36mINFO\u001b[0m    | Flow run\u001b[35m 'mottled-scorpion'\u001b[0m - Executing 'hello-0' immediately...\n"
      ]
     },
     "metadata": {},
     "output_type": "display_data"
    },
    {
     "name": "stdout",
     "output_type": "stream",
     "text": [
      "Hello, World!\n"
     ]
    },
    {
     "data": {
      "text/html": [
       "<pre style=\"white-space:pre;overflow-x:auto;line-height:normal;font-family:Menlo,'DejaVu Sans Mono',consolas,'Courier New',monospace\">12:57:08.973 | <span style=\"color: #008080; text-decoration-color: #008080\">INFO</span>    | Task run 'hello-0' - Finished in state <span style=\"color: #008000; text-decoration-color: #008000\">Completed</span>()\n",
       "</pre>\n"
      ],
      "text/plain": [
       "12:57:08.973 | \u001b[36mINFO\u001b[0m    | Task run 'hello-0' - Finished in state \u001b[32mCompleted\u001b[0m()\n"
      ]
     },
     "metadata": {},
     "output_type": "display_data"
    },
    {
     "data": {
      "text/html": [
       "<pre style=\"white-space:pre;overflow-x:auto;line-height:normal;font-family:Menlo,'DejaVu Sans Mono',consolas,'Courier New',monospace\">12:57:08.989 | <span style=\"color: #008080; text-decoration-color: #008080\">INFO</span>    | Flow run<span style=\"color: #800080; text-decoration-color: #800080\"> 'mottled-scorpion'</span> - Finished in state <span style=\"color: #008000; text-decoration-color: #008000\">Completed</span>('All states completed.')\n",
       "</pre>\n"
      ],
      "text/plain": [
       "12:57:08.989 | \u001b[36mINFO\u001b[0m    | Flow run\u001b[35m 'mottled-scorpion'\u001b[0m - Finished in state \u001b[32mCompleted\u001b[0m('All states completed.')\n"
      ]
     },
     "metadata": {},
     "output_type": "display_data"
    }
   ],
   "source": [
    "# 記事の内容を2系で書き換え\n",
    "from prefect import task, flow\n",
    "\n",
    "@task\n",
    "def get_name():\n",
    "    return(\"World\")\n",
    "\n",
    "@task\n",
    "def hello(who):\n",
    "    print(f\"Hello, {who}!\")\n",
    "\n",
    "@flow\n",
    "def greeting_flow():\n",
    "    who = get_name()\n",
    "    hello(who)\n",
    "\n",
    "if __name__ == \"__main__\":\n",
    "    greeting_flow()"
   ]
  },
  {
   "cell_type": "code",
   "execution_count": 4,
   "metadata": {},
   "outputs": [
    {
     "name": "stderr",
     "output_type": "stream",
     "text": [
      "/Users/kohta/workspace/prefect/venv/lib/python3.10/site-packages/prefect/tasks.py:298: UserWarning: A task named 'hello' and defined at '/var/folders/q5/s5mcbmt95hd29sp3b9xmr2580000gn/T/ipykernel_56233/3196607403.py:8' conflicts with another task. Consider specifying a unique `name` parameter in the task definition:\n",
      "\n",
      " `@task(name='my_unique_name', ...)`\n",
      "  warnings.warn(\n",
      "/Users/kohta/workspace/prefect/venv/lib/python3.10/site-packages/prefect/flows.py:244: UserWarning: A flow named 'greeting-flow' and defined at '/var/folders/q5/s5mcbmt95hd29sp3b9xmr2580000gn/T/ipykernel_56233/3196607403.py:12' conflicts with another flow. Consider specifying a unique `name` parameter in the flow definition:\n",
      "\n",
      " `@flow(name='my_unique_name', ...)`\n",
      "  warnings.warn(\n"
     ]
    },
    {
     "data": {
      "text/html": [
       "<pre style=\"white-space:pre;overflow-x:auto;line-height:normal;font-family:Menlo,'DejaVu Sans Mono',consolas,'Courier New',monospace\">13:03:54.747 | <span style=\"color: #008080; text-decoration-color: #008080\">INFO</span>    | prefect.engine - Created flow run<span style=\"color: #800080; text-decoration-color: #800080\"> 'holistic-tapir'</span> for flow<span style=\"color: #800080; text-decoration-color: #800080; font-weight: bold\"> 'greeting-flow'</span>\n",
       "</pre>\n"
      ],
      "text/plain": [
       "13:03:54.747 | \u001b[36mINFO\u001b[0m    | prefect.engine - Created flow run\u001b[35m 'holistic-tapir'\u001b[0m for flow\u001b[1;35m 'greeting-flow'\u001b[0m\n"
      ]
     },
     "metadata": {},
     "output_type": "display_data"
    },
    {
     "data": {
      "text/html": [
       "<pre style=\"white-space:pre;overflow-x:auto;line-height:normal;font-family:Menlo,'DejaVu Sans Mono',consolas,'Courier New',monospace\">13:03:54.817 | <span style=\"color: #008080; text-decoration-color: #008080\">INFO</span>    | Flow run<span style=\"color: #800080; text-decoration-color: #800080\"> 'holistic-tapir'</span> - Created task run 'hello-0' for task 'hello'\n",
       "</pre>\n"
      ],
      "text/plain": [
       "13:03:54.817 | \u001b[36mINFO\u001b[0m    | Flow run\u001b[35m 'holistic-tapir'\u001b[0m - Created task run 'hello-0' for task 'hello'\n"
      ]
     },
     "metadata": {},
     "output_type": "display_data"
    },
    {
     "data": {
      "text/html": [
       "<pre style=\"white-space:pre;overflow-x:auto;line-height:normal;font-family:Menlo,'DejaVu Sans Mono',consolas,'Courier New',monospace\">13:03:54.818 | <span style=\"color: #008080; text-decoration-color: #008080\">INFO</span>    | Flow run<span style=\"color: #800080; text-decoration-color: #800080\"> 'holistic-tapir'</span> - Executing 'hello-0' immediately...\n",
       "</pre>\n"
      ],
      "text/plain": [
       "13:03:54.818 | \u001b[36mINFO\u001b[0m    | Flow run\u001b[35m 'holistic-tapir'\u001b[0m - Executing 'hello-0' immediately...\n"
      ]
     },
     "metadata": {},
     "output_type": "display_data"
    },
    {
     "name": "stdout",
     "output_type": "stream",
     "text": [
      "Hello, KOH!\n"
     ]
    },
    {
     "data": {
      "text/html": [
       "<pre style=\"white-space:pre;overflow-x:auto;line-height:normal;font-family:Menlo,'DejaVu Sans Mono',consolas,'Courier New',monospace\">13:03:54.868 | <span style=\"color: #008080; text-decoration-color: #008080\">INFO</span>    | Task run 'hello-0' - Finished in state <span style=\"color: #008000; text-decoration-color: #008000\">Completed</span>()\n",
       "</pre>\n"
      ],
      "text/plain": [
       "13:03:54.868 | \u001b[36mINFO\u001b[0m    | Task run 'hello-0' - Finished in state \u001b[32mCompleted\u001b[0m()\n"
      ]
     },
     "metadata": {},
     "output_type": "display_data"
    },
    {
     "name": "stdout",
     "output_type": "stream",
     "text": [
      "flow実行時に受け取ったパラメータ: KOH\n"
     ]
    },
    {
     "data": {
      "text/html": [
       "<pre style=\"white-space:pre;overflow-x:auto;line-height:normal;font-family:Menlo,'DejaVu Sans Mono',consolas,'Courier New',monospace\">13:03:54.885 | <span style=\"color: #008080; text-decoration-color: #008080\">INFO</span>    | Flow run<span style=\"color: #800080; text-decoration-color: #800080\"> 'holistic-tapir'</span> - Finished in state <span style=\"color: #008000; text-decoration-color: #008000\">Completed</span>('All states completed.')\n",
       "</pre>\n"
      ],
      "text/plain": [
       "13:03:54.885 | \u001b[36mINFO\u001b[0m    | Flow run\u001b[35m 'holistic-tapir'\u001b[0m - Finished in state \u001b[32mCompleted\u001b[0m('All states completed.')\n"
      ]
     },
     "metadata": {},
     "output_type": "display_data"
    }
   ],
   "source": [
    "# flowにパラメータを渡す\n",
    "from prefect import task, flow\n",
    "\n",
    "# @task\n",
    "# def get_name():\n",
    "#     return(\"World\")\n",
    "\n",
    "@task\n",
    "def hello(who):\n",
    "    print(f\"Hello, {who}!\")\n",
    "\n",
    "@flow\n",
    "def greeting_flow(input_param):\n",
    "    who = input_param\n",
    "    hello(who)\n",
    "    print(f\"flow実行時に受け取ったパラメータ: {who}\")\n",
    "\n",
    "if __name__ == \"__main__\":\n",
    "    greeting_flow(\"KOH\")"
   ]
  },
  {
   "cell_type": "code",
   "execution_count": null,
   "metadata": {},
   "outputs": [],
   "source": []
  }
 ],
 "metadata": {
  "kernelspec": {
   "display_name": "Python 3",
   "language": "python",
   "name": "python3"
  },
  "language_info": {
   "codemirror_mode": {
    "name": "ipython",
    "version": 3
   },
   "file_extension": ".py",
   "mimetype": "text/x-python",
   "name": "python",
   "nbconvert_exporter": "python",
   "pygments_lexer": "ipython3",
   "version": "3.10.9"
  },
  "orig_nbformat": 4
 },
 "nbformat": 4,
 "nbformat_minor": 2
}
